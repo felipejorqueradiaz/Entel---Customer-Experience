{
 "cells": [
  {
   "cell_type": "code",
   "execution_count": 31,
   "metadata": {},
   "outputs": [],
   "source": [
    "import pandas as pd\n",
    "import numpy as np\n",
    "import matplotlib.pyplot as plt\n",
    "from sklearn import metrics\n",
    "from sklearn.metrics import classification_report\n",
    "from sklearn.tree import DecisionTreeClassifier\n",
    "from sklearn.ensemble import RandomForestClassifier\n",
    "from sklearn.datasets import make_classification\n",
    "from sklearn.linear_model import LogisticRegression\n",
    "from sklearn.cluster import KMeans\n",
    "from sklearn.model_selection import train_test_split\n",
    "from sklearn.metrics import confusion_matrix\n",
    "from sklearn.metrics import plot_confusion_matrix\n",
    "from sklearn.svm import LinearSVC\n",
    "from sklearn.naive_bayes import GaussianNB\n",
    "from sklearn.pipeline import make_pipeline\n",
    "from sklearn.preprocessing import StandardScaler\n",
    "from imblearn.under_sampling import RandomUnderSampler\n",
    "from imblearn.over_sampling import RandomOverSampler"
   ]
  },
  {
   "cell_type": "code",
   "execution_count": 2,
   "metadata": {},
   "outputs": [],
   "source": [
    "data = pd.read_csv('fijo_consolidado.txt', sep='\\t')"
   ]
  },
  {
   "cell_type": "code",
   "execution_count": 3,
   "metadata": {},
   "outputs": [
    {
     "data": {
      "text/html": [
       "<div>\n",
       "<style scoped>\n",
       "    .dataframe tbody tr th:only-of-type {\n",
       "        vertical-align: middle;\n",
       "    }\n",
       "\n",
       "    .dataframe tbody tr th {\n",
       "        vertical-align: top;\n",
       "    }\n",
       "\n",
       "    .dataframe thead th {\n",
       "        text-align: right;\n",
       "    }\n",
       "</style>\n",
       "<table border=\"1\" class=\"dataframe\">\n",
       "  <thead>\n",
       "    <tr style=\"text-align: right;\">\n",
       "      <th></th>\n",
       "      <th>encriptado</th>\n",
       "      <th>MES</th>\n",
       "      <th>MONTO</th>\n",
       "      <th>DESC_MOVIMIENTO_ACCF</th>\n",
       "      <th>TIPO_TRABAJO</th>\n",
       "      <th>SEGMENTO</th>\n",
       "      <th>CHURN</th>\n",
       "      <th>RECLAMO_COM</th>\n",
       "      <th>RESOLUCION_ANULADO</th>\n",
       "      <th>RESOLUCION_APROBADO</th>\n",
       "      <th>RESOLUCION_EN CURSO</th>\n",
       "      <th>RESOLUCION_RECHAZADO</th>\n",
       "      <th>RESOLUCION_NA</th>\n",
       "      <th>ESPERA_COM</th>\n",
       "      <th>ESPERA_COM_PROM</th>\n",
       "      <th>RECLAMO_TEC</th>\n",
       "      <th>ESPERA_TEC</th>\n",
       "      <th>ESPERA_TEC_PROM</th>\n",
       "    </tr>\n",
       "  </thead>\n",
       "  <tbody>\n",
       "    <tr>\n",
       "      <th>0</th>\n",
       "      <td>000GQFBtugDK</td>\n",
       "      <td>16</td>\n",
       "      <td>24327.73</td>\n",
       "      <td>NaN</td>\n",
       "      <td>NaN</td>\n",
       "      <td>MICRO Y SOHO</td>\n",
       "      <td>0</td>\n",
       "      <td>0</td>\n",
       "      <td>NaN</td>\n",
       "      <td>NaN</td>\n",
       "      <td>NaN</td>\n",
       "      <td>NaN</td>\n",
       "      <td>NaN</td>\n",
       "      <td>NaN</td>\n",
       "      <td>NaN</td>\n",
       "      <td>0</td>\n",
       "      <td>NaN</td>\n",
       "      <td>NaN</td>\n",
       "    </tr>\n",
       "    <tr>\n",
       "      <th>1</th>\n",
       "      <td>000GQFBtugDK</td>\n",
       "      <td>17</td>\n",
       "      <td>21657.98</td>\n",
       "      <td>NaN</td>\n",
       "      <td>NaN</td>\n",
       "      <td>MICRO Y SOHO</td>\n",
       "      <td>0</td>\n",
       "      <td>0</td>\n",
       "      <td>NaN</td>\n",
       "      <td>NaN</td>\n",
       "      <td>NaN</td>\n",
       "      <td>NaN</td>\n",
       "      <td>NaN</td>\n",
       "      <td>NaN</td>\n",
       "      <td>NaN</td>\n",
       "      <td>0</td>\n",
       "      <td>NaN</td>\n",
       "      <td>NaN</td>\n",
       "    </tr>\n",
       "    <tr>\n",
       "      <th>2</th>\n",
       "      <td>000GQFBtugDK</td>\n",
       "      <td>18</td>\n",
       "      <td>21632.77</td>\n",
       "      <td>Churn Involuntario ( Inhabilitados y Desactiva...</td>\n",
       "      <td>INSTALACION</td>\n",
       "      <td>MICRO Y SOHO</td>\n",
       "      <td>1</td>\n",
       "      <td>0</td>\n",
       "      <td>NaN</td>\n",
       "      <td>NaN</td>\n",
       "      <td>NaN</td>\n",
       "      <td>NaN</td>\n",
       "      <td>NaN</td>\n",
       "      <td>NaN</td>\n",
       "      <td>NaN</td>\n",
       "      <td>0</td>\n",
       "      <td>NaN</td>\n",
       "      <td>NaN</td>\n",
       "    </tr>\n",
       "    <tr>\n",
       "      <th>3</th>\n",
       "      <td>000GQFBtugDK</td>\n",
       "      <td>21</td>\n",
       "      <td>24857.14</td>\n",
       "      <td>NaN</td>\n",
       "      <td>NaN</td>\n",
       "      <td>MICRO Y SOHO</td>\n",
       "      <td>0</td>\n",
       "      <td>0</td>\n",
       "      <td>NaN</td>\n",
       "      <td>NaN</td>\n",
       "      <td>NaN</td>\n",
       "      <td>NaN</td>\n",
       "      <td>NaN</td>\n",
       "      <td>NaN</td>\n",
       "      <td>NaN</td>\n",
       "      <td>0</td>\n",
       "      <td>NaN</td>\n",
       "      <td>NaN</td>\n",
       "    </tr>\n",
       "    <tr>\n",
       "      <th>4</th>\n",
       "      <td>000GQFBtugDK</td>\n",
       "      <td>22</td>\n",
       "      <td>21538.65</td>\n",
       "      <td>NaN</td>\n",
       "      <td>NaN</td>\n",
       "      <td>MICRO Y SOHO</td>\n",
       "      <td>0</td>\n",
       "      <td>0</td>\n",
       "      <td>NaN</td>\n",
       "      <td>NaN</td>\n",
       "      <td>NaN</td>\n",
       "      <td>NaN</td>\n",
       "      <td>NaN</td>\n",
       "      <td>NaN</td>\n",
       "      <td>NaN</td>\n",
       "      <td>0</td>\n",
       "      <td>NaN</td>\n",
       "      <td>NaN</td>\n",
       "    </tr>\n",
       "  </tbody>\n",
       "</table>\n",
       "</div>"
      ],
      "text/plain": [
       "     encriptado  MES     MONTO  \\\n",
       "0  000GQFBtugDK   16  24327.73   \n",
       "1  000GQFBtugDK   17  21657.98   \n",
       "2  000GQFBtugDK   18  21632.77   \n",
       "3  000GQFBtugDK   21  24857.14   \n",
       "4  000GQFBtugDK   22  21538.65   \n",
       "\n",
       "                                DESC_MOVIMIENTO_ACCF TIPO_TRABAJO  \\\n",
       "0                                                NaN          NaN   \n",
       "1                                                NaN          NaN   \n",
       "2  Churn Involuntario ( Inhabilitados y Desactiva...  INSTALACION   \n",
       "3                                                NaN          NaN   \n",
       "4                                                NaN          NaN   \n",
       "\n",
       "       SEGMENTO  CHURN  RECLAMO_COM  RESOLUCION_ANULADO  RESOLUCION_APROBADO  \\\n",
       "0  MICRO Y SOHO      0            0                 NaN                  NaN   \n",
       "1  MICRO Y SOHO      0            0                 NaN                  NaN   \n",
       "2  MICRO Y SOHO      1            0                 NaN                  NaN   \n",
       "3  MICRO Y SOHO      0            0                 NaN                  NaN   \n",
       "4  MICRO Y SOHO      0            0                 NaN                  NaN   \n",
       "\n",
       "   RESOLUCION_EN CURSO  RESOLUCION_RECHAZADO  RESOLUCION_NA  ESPERA_COM  \\\n",
       "0                  NaN                   NaN            NaN         NaN   \n",
       "1                  NaN                   NaN            NaN         NaN   \n",
       "2                  NaN                   NaN            NaN         NaN   \n",
       "3                  NaN                   NaN            NaN         NaN   \n",
       "4                  NaN                   NaN            NaN         NaN   \n",
       "\n",
       "   ESPERA_COM_PROM  RECLAMO_TEC  ESPERA_TEC  ESPERA_TEC_PROM  \n",
       "0              NaN            0         NaN              NaN  \n",
       "1              NaN            0         NaN              NaN  \n",
       "2              NaN            0         NaN              NaN  \n",
       "3              NaN            0         NaN              NaN  \n",
       "4              NaN            0         NaN              NaN  "
      ]
     },
     "execution_count": 3,
     "metadata": {},
     "output_type": "execute_result"
    }
   ],
   "source": [
    "data.head()"
   ]
  },
  {
   "cell_type": "code",
   "execution_count": 4,
   "metadata": {},
   "outputs": [],
   "source": [
    "data = data.loc[(data['DESC_MOVIMIENTO_ACCF'] == 'Churn Voluntario') | (data['DESC_MOVIMIENTO_ACCF'].isna())]\n",
    "data.drop(['DESC_MOVIMIENTO_ACCF', 'TIPO_TRABAJO'], axis=1, inplace=True)"
   ]
  },
  {
   "cell_type": "code",
   "execution_count": 5,
   "metadata": {},
   "outputs": [
    {
     "data": {
      "text/html": [
       "<div>\n",
       "<style scoped>\n",
       "    .dataframe tbody tr th:only-of-type {\n",
       "        vertical-align: middle;\n",
       "    }\n",
       "\n",
       "    .dataframe tbody tr th {\n",
       "        vertical-align: top;\n",
       "    }\n",
       "\n",
       "    .dataframe thead th {\n",
       "        text-align: right;\n",
       "    }\n",
       "</style>\n",
       "<table border=\"1\" class=\"dataframe\">\n",
       "  <thead>\n",
       "    <tr style=\"text-align: right;\">\n",
       "      <th></th>\n",
       "      <th>encriptado</th>\n",
       "      <th>MES</th>\n",
       "      <th>MONTO</th>\n",
       "      <th>SEGMENTO</th>\n",
       "      <th>CHURN</th>\n",
       "      <th>RECLAMO_COM</th>\n",
       "      <th>RESOLUCION_ANULADO</th>\n",
       "      <th>RESOLUCION_APROBADO</th>\n",
       "      <th>RESOLUCION_EN CURSO</th>\n",
       "      <th>RESOLUCION_RECHAZADO</th>\n",
       "      <th>RESOLUCION_NA</th>\n",
       "      <th>ESPERA_COM</th>\n",
       "      <th>ESPERA_COM_PROM</th>\n",
       "      <th>RECLAMO_TEC</th>\n",
       "      <th>ESPERA_TEC</th>\n",
       "      <th>ESPERA_TEC_PROM</th>\n",
       "    </tr>\n",
       "  </thead>\n",
       "  <tbody>\n",
       "    <tr>\n",
       "      <th>0</th>\n",
       "      <td>000GQFBtugDK</td>\n",
       "      <td>16</td>\n",
       "      <td>24327.73</td>\n",
       "      <td>MICRO Y SOHO</td>\n",
       "      <td>0</td>\n",
       "      <td>0</td>\n",
       "      <td>NaN</td>\n",
       "      <td>NaN</td>\n",
       "      <td>NaN</td>\n",
       "      <td>NaN</td>\n",
       "      <td>NaN</td>\n",
       "      <td>NaN</td>\n",
       "      <td>NaN</td>\n",
       "      <td>0</td>\n",
       "      <td>NaN</td>\n",
       "      <td>NaN</td>\n",
       "    </tr>\n",
       "    <tr>\n",
       "      <th>1</th>\n",
       "      <td>000GQFBtugDK</td>\n",
       "      <td>17</td>\n",
       "      <td>21657.98</td>\n",
       "      <td>MICRO Y SOHO</td>\n",
       "      <td>0</td>\n",
       "      <td>0</td>\n",
       "      <td>NaN</td>\n",
       "      <td>NaN</td>\n",
       "      <td>NaN</td>\n",
       "      <td>NaN</td>\n",
       "      <td>NaN</td>\n",
       "      <td>NaN</td>\n",
       "      <td>NaN</td>\n",
       "      <td>0</td>\n",
       "      <td>NaN</td>\n",
       "      <td>NaN</td>\n",
       "    </tr>\n",
       "    <tr>\n",
       "      <th>3</th>\n",
       "      <td>000GQFBtugDK</td>\n",
       "      <td>21</td>\n",
       "      <td>24857.14</td>\n",
       "      <td>MICRO Y SOHO</td>\n",
       "      <td>0</td>\n",
       "      <td>0</td>\n",
       "      <td>NaN</td>\n",
       "      <td>NaN</td>\n",
       "      <td>NaN</td>\n",
       "      <td>NaN</td>\n",
       "      <td>NaN</td>\n",
       "      <td>NaN</td>\n",
       "      <td>NaN</td>\n",
       "      <td>0</td>\n",
       "      <td>NaN</td>\n",
       "      <td>NaN</td>\n",
       "    </tr>\n",
       "    <tr>\n",
       "      <th>4</th>\n",
       "      <td>000GQFBtugDK</td>\n",
       "      <td>22</td>\n",
       "      <td>21538.65</td>\n",
       "      <td>MICRO Y SOHO</td>\n",
       "      <td>0</td>\n",
       "      <td>0</td>\n",
       "      <td>NaN</td>\n",
       "      <td>NaN</td>\n",
       "      <td>NaN</td>\n",
       "      <td>NaN</td>\n",
       "      <td>NaN</td>\n",
       "      <td>NaN</td>\n",
       "      <td>NaN</td>\n",
       "      <td>0</td>\n",
       "      <td>NaN</td>\n",
       "      <td>NaN</td>\n",
       "    </tr>\n",
       "    <tr>\n",
       "      <th>5</th>\n",
       "      <td>000GQFBtugDK</td>\n",
       "      <td>23</td>\n",
       "      <td>21633.62</td>\n",
       "      <td>MICRO Y SOHO</td>\n",
       "      <td>0</td>\n",
       "      <td>0</td>\n",
       "      <td>NaN</td>\n",
       "      <td>NaN</td>\n",
       "      <td>NaN</td>\n",
       "      <td>NaN</td>\n",
       "      <td>NaN</td>\n",
       "      <td>NaN</td>\n",
       "      <td>NaN</td>\n",
       "      <td>0</td>\n",
       "      <td>NaN</td>\n",
       "      <td>NaN</td>\n",
       "    </tr>\n",
       "  </tbody>\n",
       "</table>\n",
       "</div>"
      ],
      "text/plain": [
       "     encriptado  MES     MONTO      SEGMENTO  CHURN  RECLAMO_COM  \\\n",
       "0  000GQFBtugDK   16  24327.73  MICRO Y SOHO      0            0   \n",
       "1  000GQFBtugDK   17  21657.98  MICRO Y SOHO      0            0   \n",
       "3  000GQFBtugDK   21  24857.14  MICRO Y SOHO      0            0   \n",
       "4  000GQFBtugDK   22  21538.65  MICRO Y SOHO      0            0   \n",
       "5  000GQFBtugDK   23  21633.62  MICRO Y SOHO      0            0   \n",
       "\n",
       "   RESOLUCION_ANULADO  RESOLUCION_APROBADO  RESOLUCION_EN CURSO  \\\n",
       "0                 NaN                  NaN                  NaN   \n",
       "1                 NaN                  NaN                  NaN   \n",
       "3                 NaN                  NaN                  NaN   \n",
       "4                 NaN                  NaN                  NaN   \n",
       "5                 NaN                  NaN                  NaN   \n",
       "\n",
       "   RESOLUCION_RECHAZADO  RESOLUCION_NA  ESPERA_COM  ESPERA_COM_PROM  \\\n",
       "0                   NaN            NaN         NaN              NaN   \n",
       "1                   NaN            NaN         NaN              NaN   \n",
       "3                   NaN            NaN         NaN              NaN   \n",
       "4                   NaN            NaN         NaN              NaN   \n",
       "5                   NaN            NaN         NaN              NaN   \n",
       "\n",
       "   RECLAMO_TEC  ESPERA_TEC  ESPERA_TEC_PROM  \n",
       "0            0         NaN              NaN  \n",
       "1            0         NaN              NaN  \n",
       "3            0         NaN              NaN  \n",
       "4            0         NaN              NaN  \n",
       "5            0         NaN              NaN  "
      ]
     },
     "execution_count": 5,
     "metadata": {},
     "output_type": "execute_result"
    }
   ],
   "source": [
    "data.head()"
   ]
  },
  {
   "cell_type": "code",
   "execution_count": 6,
   "metadata": {},
   "outputs": [
    {
     "name": "stderr",
     "output_type": "stream",
     "text": [
      "C:\\Users\\Felipe\\anaconda3\\lib\\site-packages\\pandas\\core\\series.py:679: RuntimeWarning: divide by zero encountered in log\n",
      "  result = getattr(ufunc, method)(*inputs, **kwargs)\n",
      "C:\\Users\\Felipe\\anaconda3\\lib\\site-packages\\pandas\\core\\series.py:679: RuntimeWarning: invalid value encountered in log\n",
      "  result = getattr(ufunc, method)(*inputs, **kwargs)\n"
     ]
    }
   ],
   "source": [
    "data.loc[:, 'MONTO'] = np.log(data['MONTO'])"
   ]
  },
  {
   "cell_type": "code",
   "execution_count": 7,
   "metadata": {},
   "outputs": [],
   "source": [
    "data_g = data.groupby(['encriptado', 'SEGMENTO'], as_index=False).sum()\n",
    "data_g = data_g.groupby(by = ['encriptado', 'SEGMENTO'], as_index=True).agg(\n",
    "    prom_MONTO=pd.NamedAgg(column='MONTO', aggfunc='mean'), \n",
    "    sum_COMERCIAL=pd.NamedAgg(column='RECLAMO_COM', aggfunc='sum'),\n",
    "    wait_COMERCIAL = pd.NamedAgg(column='ESPERA_COM_PROM', aggfunc='mean'),\n",
    "    sum_TECNICO=pd.NamedAgg(column='RECLAMO_TEC', aggfunc='sum'),\n",
    "    wait_TECNICO = pd.NamedAgg(column='ESPERA_TEC_PROM', aggfunc='mean'),\n",
    "    nCHURN = pd.NamedAgg(column='CHURN', aggfunc='sum')\n",
    ")\n",
    "data_g.loc[:, 'prom_MONTO'] = np.log(data_g['prom_MONTO'])\n",
    "data_g.reset_index(inplace=True)\n",
    "data_g.drop('encriptado', axis=1, inplace=True)\n",
    "data_g = pd.get_dummies(data_g, columns = ['SEGMENTO'])\n",
    "data_g.loc[:, 'BCHURN'] = 0\n",
    "data_g.loc[data_g['nCHURN']>0, 'BCHURN'] = 1\n",
    "data_g.drop(['nCHURN'], inplace=True, axis=1)"
   ]
  },
  {
   "cell_type": "code",
   "execution_count": 8,
   "metadata": {},
   "outputs": [
    {
     "data": {
      "text/html": [
       "<div>\n",
       "<style scoped>\n",
       "    .dataframe tbody tr th:only-of-type {\n",
       "        vertical-align: middle;\n",
       "    }\n",
       "\n",
       "    .dataframe tbody tr th {\n",
       "        vertical-align: top;\n",
       "    }\n",
       "\n",
       "    .dataframe thead th {\n",
       "        text-align: right;\n",
       "    }\n",
       "</style>\n",
       "<table border=\"1\" class=\"dataframe\">\n",
       "  <thead>\n",
       "    <tr style=\"text-align: right;\">\n",
       "      <th></th>\n",
       "      <th>prom_MONTO</th>\n",
       "      <th>sum_COMERCIAL</th>\n",
       "      <th>wait_COMERCIAL</th>\n",
       "      <th>sum_TECNICO</th>\n",
       "      <th>wait_TECNICO</th>\n",
       "      <th>SEGMENTO_EMPRESAS</th>\n",
       "      <th>SEGMENTO_GRANDES CLIENTES</th>\n",
       "      <th>SEGMENTO_GRANDES CUENTAS</th>\n",
       "      <th>SEGMENTO_MEDIANAS</th>\n",
       "      <th>SEGMENTO_MICRO Y SOHO</th>\n",
       "      <th>SEGMENTO_PEQUENAS</th>\n",
       "      <th>SEGMENTO_S/I</th>\n",
       "      <th>BCHURN</th>\n",
       "    </tr>\n",
       "  </thead>\n",
       "  <tbody>\n",
       "    <tr>\n",
       "      <th>0</th>\n",
       "      <td>3.915278</td>\n",
       "      <td>0</td>\n",
       "      <td>0.0</td>\n",
       "      <td>0</td>\n",
       "      <td>0.0</td>\n",
       "      <td>0</td>\n",
       "      <td>0</td>\n",
       "      <td>0</td>\n",
       "      <td>0</td>\n",
       "      <td>1</td>\n",
       "      <td>0</td>\n",
       "      <td>0</td>\n",
       "      <td>0</td>\n",
       "    </tr>\n",
       "    <tr>\n",
       "      <th>1</th>\n",
       "      <td>5.481060</td>\n",
       "      <td>0</td>\n",
       "      <td>0.0</td>\n",
       "      <td>0</td>\n",
       "      <td>0.0</td>\n",
       "      <td>0</td>\n",
       "      <td>0</td>\n",
       "      <td>0</td>\n",
       "      <td>1</td>\n",
       "      <td>0</td>\n",
       "      <td>0</td>\n",
       "      <td>0</td>\n",
       "      <td>1</td>\n",
       "    </tr>\n",
       "    <tr>\n",
       "      <th>2</th>\n",
       "      <td>5.245573</td>\n",
       "      <td>0</td>\n",
       "      <td>0.0</td>\n",
       "      <td>0</td>\n",
       "      <td>0.0</td>\n",
       "      <td>0</td>\n",
       "      <td>0</td>\n",
       "      <td>0</td>\n",
       "      <td>0</td>\n",
       "      <td>0</td>\n",
       "      <td>0</td>\n",
       "      <td>1</td>\n",
       "      <td>0</td>\n",
       "    </tr>\n",
       "    <tr>\n",
       "      <th>3</th>\n",
       "      <td>4.116607</td>\n",
       "      <td>0</td>\n",
       "      <td>0.0</td>\n",
       "      <td>0</td>\n",
       "      <td>0.0</td>\n",
       "      <td>0</td>\n",
       "      <td>0</td>\n",
       "      <td>0</td>\n",
       "      <td>0</td>\n",
       "      <td>1</td>\n",
       "      <td>0</td>\n",
       "      <td>0</td>\n",
       "      <td>0</td>\n",
       "    </tr>\n",
       "    <tr>\n",
       "      <th>4</th>\n",
       "      <td>5.233844</td>\n",
       "      <td>0</td>\n",
       "      <td>0.0</td>\n",
       "      <td>0</td>\n",
       "      <td>0.0</td>\n",
       "      <td>0</td>\n",
       "      <td>0</td>\n",
       "      <td>0</td>\n",
       "      <td>0</td>\n",
       "      <td>1</td>\n",
       "      <td>0</td>\n",
       "      <td>0</td>\n",
       "      <td>0</td>\n",
       "    </tr>\n",
       "    <tr>\n",
       "      <th>...</th>\n",
       "      <td>...</td>\n",
       "      <td>...</td>\n",
       "      <td>...</td>\n",
       "      <td>...</td>\n",
       "      <td>...</td>\n",
       "      <td>...</td>\n",
       "      <td>...</td>\n",
       "      <td>...</td>\n",
       "      <td>...</td>\n",
       "      <td>...</td>\n",
       "      <td>...</td>\n",
       "      <td>...</td>\n",
       "      <td>...</td>\n",
       "    </tr>\n",
       "    <tr>\n",
       "      <th>52755</th>\n",
       "      <td>3.334137</td>\n",
       "      <td>0</td>\n",
       "      <td>0.0</td>\n",
       "      <td>0</td>\n",
       "      <td>0.0</td>\n",
       "      <td>0</td>\n",
       "      <td>0</td>\n",
       "      <td>0</td>\n",
       "      <td>0</td>\n",
       "      <td>1</td>\n",
       "      <td>0</td>\n",
       "      <td>0</td>\n",
       "      <td>0</td>\n",
       "    </tr>\n",
       "    <tr>\n",
       "      <th>52756</th>\n",
       "      <td>5.032724</td>\n",
       "      <td>2</td>\n",
       "      <td>0.0</td>\n",
       "      <td>0</td>\n",
       "      <td>0.0</td>\n",
       "      <td>0</td>\n",
       "      <td>0</td>\n",
       "      <td>0</td>\n",
       "      <td>1</td>\n",
       "      <td>0</td>\n",
       "      <td>0</td>\n",
       "      <td>0</td>\n",
       "      <td>0</td>\n",
       "    </tr>\n",
       "    <tr>\n",
       "      <th>52757</th>\n",
       "      <td>5.079779</td>\n",
       "      <td>0</td>\n",
       "      <td>0.0</td>\n",
       "      <td>0</td>\n",
       "      <td>0.0</td>\n",
       "      <td>0</td>\n",
       "      <td>0</td>\n",
       "      <td>0</td>\n",
       "      <td>0</td>\n",
       "      <td>1</td>\n",
       "      <td>0</td>\n",
       "      <td>0</td>\n",
       "      <td>0</td>\n",
       "    </tr>\n",
       "    <tr>\n",
       "      <th>52758</th>\n",
       "      <td>4.973281</td>\n",
       "      <td>0</td>\n",
       "      <td>0.0</td>\n",
       "      <td>1</td>\n",
       "      <td>0.0</td>\n",
       "      <td>0</td>\n",
       "      <td>0</td>\n",
       "      <td>0</td>\n",
       "      <td>0</td>\n",
       "      <td>1</td>\n",
       "      <td>0</td>\n",
       "      <td>0</td>\n",
       "      <td>0</td>\n",
       "    </tr>\n",
       "    <tr>\n",
       "      <th>52759</th>\n",
       "      <td>4.121395</td>\n",
       "      <td>0</td>\n",
       "      <td>0.0</td>\n",
       "      <td>0</td>\n",
       "      <td>0.0</td>\n",
       "      <td>0</td>\n",
       "      <td>0</td>\n",
       "      <td>0</td>\n",
       "      <td>0</td>\n",
       "      <td>0</td>\n",
       "      <td>0</td>\n",
       "      <td>1</td>\n",
       "      <td>0</td>\n",
       "    </tr>\n",
       "  </tbody>\n",
       "</table>\n",
       "<p>52760 rows × 13 columns</p>\n",
       "</div>"
      ],
      "text/plain": [
       "       prom_MONTO  sum_COMERCIAL  wait_COMERCIAL  sum_TECNICO  wait_TECNICO  \\\n",
       "0        3.915278              0             0.0            0           0.0   \n",
       "1        5.481060              0             0.0            0           0.0   \n",
       "2        5.245573              0             0.0            0           0.0   \n",
       "3        4.116607              0             0.0            0           0.0   \n",
       "4        5.233844              0             0.0            0           0.0   \n",
       "...           ...            ...             ...          ...           ...   \n",
       "52755    3.334137              0             0.0            0           0.0   \n",
       "52756    5.032724              2             0.0            0           0.0   \n",
       "52757    5.079779              0             0.0            0           0.0   \n",
       "52758    4.973281              0             0.0            1           0.0   \n",
       "52759    4.121395              0             0.0            0           0.0   \n",
       "\n",
       "       SEGMENTO_EMPRESAS  SEGMENTO_GRANDES CLIENTES  SEGMENTO_GRANDES CUENTAS  \\\n",
       "0                      0                          0                         0   \n",
       "1                      0                          0                         0   \n",
       "2                      0                          0                         0   \n",
       "3                      0                          0                         0   \n",
       "4                      0                          0                         0   \n",
       "...                  ...                        ...                       ...   \n",
       "52755                  0                          0                         0   \n",
       "52756                  0                          0                         0   \n",
       "52757                  0                          0                         0   \n",
       "52758                  0                          0                         0   \n",
       "52759                  0                          0                         0   \n",
       "\n",
       "       SEGMENTO_MEDIANAS  SEGMENTO_MICRO Y SOHO  SEGMENTO_PEQUENAS  \\\n",
       "0                      0                      1                  0   \n",
       "1                      1                      0                  0   \n",
       "2                      0                      0                  0   \n",
       "3                      0                      1                  0   \n",
       "4                      0                      1                  0   \n",
       "...                  ...                    ...                ...   \n",
       "52755                  0                      1                  0   \n",
       "52756                  1                      0                  0   \n",
       "52757                  0                      1                  0   \n",
       "52758                  0                      1                  0   \n",
       "52759                  0                      0                  0   \n",
       "\n",
       "       SEGMENTO_S/I  BCHURN  \n",
       "0                 0       0  \n",
       "1                 0       1  \n",
       "2                 1       0  \n",
       "3                 0       0  \n",
       "4                 0       0  \n",
       "...             ...     ...  \n",
       "52755             0       0  \n",
       "52756             0       0  \n",
       "52757             0       0  \n",
       "52758             0       0  \n",
       "52759             1       0  \n",
       "\n",
       "[52760 rows x 13 columns]"
      ]
     },
     "execution_count": 8,
     "metadata": {},
     "output_type": "execute_result"
    }
   ],
   "source": [
    "data_g"
   ]
  },
  {
   "cell_type": "code",
   "execution_count": 9,
   "metadata": {},
   "outputs": [],
   "source": [
    "data_g.replace([np.inf, -np.inf], np.nan, inplace=True)\n",
    "data_g.dropna(inplace=True)"
   ]
  },
  {
   "cell_type": "code",
   "execution_count": 10,
   "metadata": {
    "scrolled": true
   },
   "outputs": [],
   "source": [
    "y = data_g['BCHURN']\n",
    "X = data_g.drop('BCHURN', axis=1)\n",
    "\n",
    "rus = RandomUnderSampler(random_state=0)\n",
    "#rus = RandomOverSampler(random_state=0)\n",
    "X_resampled, y_resampled = rus.fit_resample(X, y)"
   ]
  },
  {
   "cell_type": "code",
   "execution_count": 11,
   "metadata": {},
   "outputs": [],
   "source": [
    "X_train, X_test, y_train, y_test = train_test_split(X_resampled, y_resampled, test_size=0.20, random_state=42)"
   ]
  },
  {
   "cell_type": "code",
   "execution_count": 12,
   "metadata": {},
   "outputs": [],
   "source": [
    "logit = LogisticRegression(random_state=0, max_iter=500).fit(X_train, y_train)"
   ]
  },
  {
   "cell_type": "code",
   "execution_count": 13,
   "metadata": {},
   "outputs": [
    {
     "data": {
      "text/plain": [
       "array([[1063,  732],\n",
       "       [ 731, 1025]], dtype=int64)"
      ]
     },
     "execution_count": 13,
     "metadata": {},
     "output_type": "execute_result"
    }
   ],
   "source": [
    "y_pred = logit.predict(X_test)\n",
    "confusion_matrix(y_test, y_pred)"
   ]
  },
  {
   "cell_type": "code",
   "execution_count": 14,
   "metadata": {},
   "outputs": [
    {
     "data": {
      "image/png": "[encoded data removed]",
      "text/plain": [
       "<Figure size 432x288 with 2 Axes>"
      ]
     },
     "metadata": {
      "needs_background": "light"
     },
     "output_type": "display_data"
    }
   ],
   "source": [
    "plot_confusion_matrix(logit, X_test, y_test)\n",
    "plt.title('Confusion Matrix')\n",
    "plt.show()  "
   ]
  },
  {
   "cell_type": "code",
   "execution_count": 15,
   "metadata": {},
   "outputs": [
    {
     "name": "stdout",
     "output_type": "stream",
     "text": [
      "              precision    recall  f1-score   support\n",
      "\n",
      "           0       0.59      0.59      0.59      1795\n",
      "           1       0.58      0.58      0.58      1756\n",
      "\n",
      "    accuracy                           0.59      3551\n",
      "   macro avg       0.59      0.59      0.59      3551\n",
      "weighted avg       0.59      0.59      0.59      3551\n",
      "\n"
     ]
    }
   ],
   "source": [
    "y_pred = logit.predict(X_test)\n",
    "print(classification_report(y_test, y_pred))"
   ]
  },
  {
   "cell_type": "code",
   "execution_count": 16,
   "metadata": {
    "scrolled": true
   },
   "outputs": [
    {
     "data": {
      "text/html": [
       "<div>\n",
       "<style scoped>\n",
       "    .dataframe tbody tr th:only-of-type {\n",
       "        vertical-align: middle;\n",
       "    }\n",
       "\n",
       "    .dataframe tbody tr th {\n",
       "        vertical-align: top;\n",
       "    }\n",
       "\n",
       "    .dataframe thead th {\n",
       "        text-align: right;\n",
       "    }\n",
       "</style>\n",
       "<table border=\"1\" class=\"dataframe\">\n",
       "  <thead>\n",
       "    <tr style=\"text-align: right;\">\n",
       "      <th></th>\n",
       "      <th>prom_MONTO</th>\n",
       "      <th>sum_COMERCIAL</th>\n",
       "      <th>wait_COMERCIAL</th>\n",
       "      <th>sum_TECNICO</th>\n",
       "      <th>wait_TECNICO</th>\n",
       "      <th>SEGMENTO_EMPRESAS</th>\n",
       "      <th>SEGMENTO_GRANDES CLIENTES</th>\n",
       "      <th>SEGMENTO_GRANDES CUENTAS</th>\n",
       "      <th>SEGMENTO_MEDIANAS</th>\n",
       "      <th>SEGMENTO_MICRO Y SOHO</th>\n",
       "      <th>SEGMENTO_PEQUENAS</th>\n",
       "      <th>SEGMENTO_S/I</th>\n",
       "    </tr>\n",
       "  </thead>\n",
       "  <tbody>\n",
       "    <tr>\n",
       "      <th>0</th>\n",
       "      <td>0.286804</td>\n",
       "      <td>0.1924</td>\n",
       "      <td>0.037778</td>\n",
       "      <td>0.017568</td>\n",
       "      <td>-0.015395</td>\n",
       "      <td>0.369165</td>\n",
       "      <td>0.589487</td>\n",
       "      <td>0.438984</td>\n",
       "      <td>0.497056</td>\n",
       "      <td>0.195024</td>\n",
       "      <td>1.071947</td>\n",
       "      <td>-3.209123</td>\n",
       "    </tr>\n",
       "  </tbody>\n",
       "</table>\n",
       "</div>"
      ],
      "text/plain": [
       "   prom_MONTO  sum_COMERCIAL  wait_COMERCIAL  sum_TECNICO  wait_TECNICO  \\\n",
       "0    0.286804         0.1924        0.037778     0.017568     -0.015395   \n",
       "\n",
       "   SEGMENTO_EMPRESAS  SEGMENTO_GRANDES CLIENTES  SEGMENTO_GRANDES CUENTAS  \\\n",
       "0           0.369165                   0.589487                  0.438984   \n",
       "\n",
       "   SEGMENTO_MEDIANAS  SEGMENTO_MICRO Y SOHO  SEGMENTO_PEQUENAS  SEGMENTO_S/I  \n",
       "0           0.497056               0.195024           1.071947     -3.209123  "
      ]
     },
     "execution_count": 16,
     "metadata": {},
     "output_type": "execute_result"
    }
   ],
   "source": [
    "pd.DataFrame(logit.coef_, columns = X_test.columns)"
   ]
  },
  {
   "cell_type": "code",
   "execution_count": 32,
   "metadata": {},
   "outputs": [
    {
     "data": {
      "text/plain": [
       "GaussianNB()"
      ]
     },
     "execution_count": 32,
     "metadata": {},
     "output_type": "execute_result"
    }
   ],
   "source": [
    "nb = GaussianNB()\n",
    "nb.fit(X_train, y_train)"
   ]
  },
  {
   "cell_type": "code",
   "execution_count": 33,
   "metadata": {},
   "outputs": [
    {
     "data": {
      "image/png": "[encoded data removed]",
      "text/plain": [
       "<Figure size 432x288 with 2 Axes>"
      ]
     },
     "metadata": {
      "needs_background": "light"
     },
     "output_type": "display_data"
    }
   ],
   "source": [
    "plot_confusion_matrix(nb, X_test, y_test)\n",
    "plt.title('Confusion Matrix')\n",
    "plt.show()  "
   ]
  },
  {
   "cell_type": "code",
   "execution_count": 34,
   "metadata": {},
   "outputs": [
    {
     "name": "stdout",
     "output_type": "stream",
     "text": [
      "              precision    recall  f1-score   support\n",
      "\n",
      "           0       0.57      0.74      0.64      1795\n",
      "           1       0.62      0.42      0.50      1756\n",
      "\n",
      "    accuracy                           0.58      3551\n",
      "   macro avg       0.59      0.58      0.57      3551\n",
      "weighted avg       0.59      0.58      0.57      3551\n",
      "\n"
     ]
    }
   ],
   "source": [
    "y_pred = nb.predict(X_test)\n",
    "print(classification_report(y_test, y_pred))"
   ]
  },
  {
   "cell_type": "code",
   "execution_count": 17,
   "metadata": {},
   "outputs": [
    {
     "name": "stderr",
     "output_type": "stream",
     "text": [
      "C:\\Users\\Felipe\\anaconda3\\lib\\site-packages\\sklearn\\svm\\_base.py:985: ConvergenceWarning: Liblinear failed to converge, increase the number of iterations.\n",
      "  warnings.warn(\"Liblinear failed to converge, increase \"\n"
     ]
    },
    {
     "data": {
      "text/plain": [
       "Pipeline(steps=[('standardscaler', StandardScaler()),\n",
       "                ('linearsvc',\n",
       "                 LinearSVC(max_iter=10000, random_state=0, tol=0.001))])"
      ]
     },
     "execution_count": 17,
     "metadata": {},
     "output_type": "execute_result"
    }
   ],
   "source": [
    "svm = make_pipeline(StandardScaler(),\n",
    "                    LinearSVC(random_state=0, tol=0.001, max_iter=10000))\n",
    "svm.fit(X_train, y_train)"
   ]
  },
  {
   "cell_type": "code",
   "execution_count": 18,
   "metadata": {},
   "outputs": [
    {
     "data": {
      "image/png": "[encoded data removed]",
      "text/plain": [
       "<Figure size 432x288 with 2 Axes>"
      ]
     },
     "metadata": {
      "needs_background": "light"
     },
     "output_type": "display_data"
    }
   ],
   "source": [
    "plot_confusion_matrix(svm, X_test, y_test)\n",
    "plt.title('Confusion Matrix')\n",
    "plt.show()  "
   ]
  },
  {
   "cell_type": "code",
   "execution_count": 19,
   "metadata": {},
   "outputs": [
    {
     "name": "stdout",
     "output_type": "stream",
     "text": [
      "              precision    recall  f1-score   support\n",
      "\n",
      "           0       0.58      0.55      0.57      1795\n",
      "           1       0.57      0.60      0.58      1756\n",
      "\n",
      "    accuracy                           0.58      3551\n",
      "   macro avg       0.58      0.58      0.58      3551\n",
      "weighted avg       0.58      0.58      0.58      3551\n",
      "\n"
     ]
    }
   ],
   "source": [
    "y_pred = svm.predict(X_test)\n",
    "print(classification_report(y_test, y_pred))"
   ]
  },
  {
   "cell_type": "code",
   "execution_count": 20,
   "metadata": {},
   "outputs": [],
   "source": [
    "kmeans = KMeans(n_clusters=2, random_state=0).fit(X_train)"
   ]
  },
  {
   "cell_type": "code",
   "execution_count": 21,
   "metadata": {},
   "outputs": [
    {
     "data": {
      "text/plain": [
       "-233745.46227614046"
      ]
     },
     "execution_count": 21,
     "metadata": {},
     "output_type": "execute_result"
    }
   ],
   "source": [
    "kmeans.score(X_test, y_test)"
   ]
  },
  {
   "cell_type": "code",
   "execution_count": 22,
   "metadata": {},
   "outputs": [
    {
     "data": {
      "text/plain": [
       "0.4999705696867774"
      ]
     },
     "execution_count": 22,
     "metadata": {},
     "output_type": "execute_result"
    }
   ],
   "source": [
    "metrics.rand_score(y_test, kmeans.predict(X_test))"
   ]
  },
  {
   "cell_type": "code",
   "execution_count": 23,
   "metadata": {},
   "outputs": [
    {
     "data": {
      "text/plain": [
       "array([[1795,    0],\n",
       "       [1749,    7]], dtype=int64)"
      ]
     },
     "execution_count": 23,
     "metadata": {},
     "output_type": "execute_result"
    }
   ],
   "source": [
    "confusion_matrix(y_test, kmeans.predict(X_test))"
   ]
  },
  {
   "cell_type": "code",
   "execution_count": 24,
   "metadata": {},
   "outputs": [],
   "source": [
    "decision_tree = DecisionTreeClassifier(random_state=0, max_depth=20)\n",
    "decision_tree = decision_tree.fit(X_train, y_train)"
   ]
  },
  {
   "cell_type": "code",
   "execution_count": 25,
   "metadata": {},
   "outputs": [
    {
     "data": {
      "image/png": "[encoded data removed]",
      "text/plain": [
       "<Figure size 432x288 with 2 Axes>"
      ]
     },
     "metadata": {
      "needs_background": "light"
     },
     "output_type": "display_data"
    }
   ],
   "source": [
    "plot_confusion_matrix(decision_tree, X_test, y_test)\n",
    "plt.title('Confusion Matrix')\n",
    "plt.show()  "
   ]
  },
  {
   "cell_type": "code",
   "execution_count": 26,
   "metadata": {},
   "outputs": [
    {
     "name": "stdout",
     "output_type": "stream",
     "text": [
      "              precision    recall  f1-score   support\n",
      "\n",
      "           0       0.60      0.63      0.61      1795\n",
      "           1       0.60      0.57      0.58      1756\n",
      "\n",
      "    accuracy                           0.60      3551\n",
      "   macro avg       0.60      0.60      0.60      3551\n",
      "weighted avg       0.60      0.60      0.60      3551\n",
      "\n"
     ]
    }
   ],
   "source": [
    "y_pred = decision_tree.predict(X_test)\n",
    "print(classification_report(y_test, y_pred))"
   ]
  },
  {
   "cell_type": "code",
   "execution_count": 27,
   "metadata": {},
   "outputs": [
    {
     "data": {
      "text/plain": [
       "RandomForestClassifier(n_estimators=10, n_jobs=-1, random_state=123)"
      ]
     },
     "execution_count": 27,
     "metadata": {},
     "output_type": "execute_result"
    }
   ],
   "source": [
    "rf = RandomForestClassifier(\n",
    "            n_estimators = 10,\n",
    "            max_depth    = None,\n",
    "            max_features = 'auto',\n",
    "            oob_score    = False,\n",
    "            n_jobs       = -1,\n",
    "            random_state = 123\n",
    "         )\n",
    "rf.fit(X_train, y_train)"
   ]
  },
  {
   "cell_type": "code",
   "execution_count": 28,
   "metadata": {},
   "outputs": [
    {
     "data": {
      "image/png": "[encoded data removed]",
      "text/plain": [
       "<Figure size 432x288 with 2 Axes>"
      ]
     },
     "metadata": {
      "needs_background": "light"
     },
     "output_type": "display_data"
    }
   ],
   "source": [
    "plot_confusion_matrix(rf, X_test, y_test)\n",
    "plt.title('Confusion Matrix')\n",
    "plt.show()"
   ]
  },
  {
   "cell_type": "code",
   "execution_count": 29,
   "metadata": {},
   "outputs": [
    {
     "name": "stdout",
     "output_type": "stream",
     "text": [
      "              precision    recall  f1-score   support\n",
      "\n",
      "           0       0.60      0.63      0.62      1795\n",
      "           1       0.60      0.58      0.59      1756\n",
      "\n",
      "    accuracy                           0.60      3551\n",
      "   macro avg       0.60      0.60      0.60      3551\n",
      "weighted avg       0.60      0.60      0.60      3551\n",
      "\n"
     ]
    }
   ],
   "source": [
    "y_pred = rf.predict(X_test)\n",
    "print(classification_report(y_test, y_pred))"
   ]
  },
  {
   "cell_type": "code",
   "execution_count": 30,
   "metadata": {},
   "outputs": [
    {
     "name": "stdout",
     "output_type": "stream",
     "text": [
      "Feature: 0, Score: 0.72706\n",
      "Feature: 1, Score: 0.04332\n",
      "Feature: 2, Score: 0.02820\n",
      "Feature: 3, Score: 0.08700\n",
      "Feature: 4, Score: 0.06886\n",
      "Feature: 5, Score: 0.00296\n",
      "Feature: 6, Score: 0.00111\n",
      "Feature: 7, Score: 0.00429\n",
      "Feature: 8, Score: 0.00506\n",
      "Feature: 9, Score: 0.00702\n",
      "Feature: 10, Score: 0.00245\n",
      "Feature: 11, Score: 0.02268\n"
     ]
    },
    {
     "data": {
      "image/png": "[encoded data removed]",
      "text/plain": [
       "<Figure size 432x288 with 1 Axes>"
      ]
     },
     "metadata": {
      "needs_background": "light"
     },
     "output_type": "display_data"
    }
   ],
   "source": [
    "importance = rf.feature_importances_\n",
    "# summarize feature importance\n",
    "for i,v in enumerate(importance):\n",
    "    print('Feature: %0d, Score: %.5f' % (i,v))\n",
    "# plot feature importance\n",
    "plt.bar([x for x in range(len(importance))], importance)\n",
    "plt.show()"
   ]
  }
 ],
 "metadata": {
  "kernelspec": {
   "display_name": "Python 3",
   "language": "python",
   "name": "python3"
  },
  "language_info": {
   "codemirror_mode": {
    "name": "ipython",
    "version": 3
   },
   "file_extension": ".py",
   "mimetype": "text/x-python",
   "name": "python",
   "nbconvert_exporter": "python",
   "pygments_lexer": "ipython3",
   "version": "3.8.3"
  }
 },
 "nbformat": 4,
 "nbformat_minor": 4
}
