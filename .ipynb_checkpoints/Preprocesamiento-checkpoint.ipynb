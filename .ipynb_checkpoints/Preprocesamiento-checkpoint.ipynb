{
 "cells": [
  {
   "cell_type": "code",
   "execution_count": 1,
   "metadata": {},
   "outputs": [],
   "source": [
    "import pandas as pd\n",
    "import numpy as np\n",
    "import matplotlib.pyplot as plt\n",
    "import seaborn as sns"
   ]
  },
  {
   "cell_type": "markdown",
   "metadata": {},
   "source": [
    "Leemos los datos ya consolidados:"
   ]
  },
  {
   "cell_type": "code",
   "execution_count": 2,
   "metadata": {},
   "outputs": [],
   "source": [
    "df1 = pd.read_csv('fijo_consolidado.txt', sep='\\t')\n",
    "df2 = pd.read_csv('base_completa_movil.csv', encoding='latin-1')"
   ]
  },
  {
   "cell_type": "markdown",
   "metadata": {},
   "source": [
    "Unificamos los nombres de Columnas"
   ]
  },
  {
   "cell_type": "code",
   "execution_count": 3,
   "metadata": {},
   "outputs": [],
   "source": [
    "df2 = df2[['encriptado', 'periodo', 'segmento', 'total', 'n_recl_com', 'n_recl_tec', 'n_churn', 'nota_sem']]\n",
    "df1 = df1[['encriptado', 'MES', 'SEGMENTO', 'MONTO', 'RECLAMO_COM', 'RECLAMO_TEC', 'CHURN']]\n",
    "df1.columns = ['encriptado', 'periodo', 'segmento', 'total', 'n_recl_com', 'n_recl_tec', 'n_churn']"
   ]
  },
  {
   "cell_type": "markdown",
   "metadata": {},
   "source": [
    "Cambiamos la escala de tiempo:"
   ]
  },
  {
   "cell_type": "code",
   "execution_count": 4,
   "metadata": {},
   "outputs": [],
   "source": [
    "df1.loc[df1['periodo'] <= 6, 'periodo2'] = '2019_q1'\n",
    "df1.loc[(df1['periodo'] > 6) & (df1['periodo'] <= 12), 'periodo2'] = '2019_q2'\n",
    "df1.loc[(df1['periodo'] > 12) & (df1['periodo'] <= 18), 'periodo2'] = '2020_q1'\n",
    "df1.loc[(df1['periodo'] > 18) & (df1['periodo'] <= 24), 'periodo2'] = '2020_q2'\n",
    "\n",
    "df1.drop('periodo', axis=1, inplace=True)\n",
    "df1.rename(columns = {'periodo2': 'periodo'}, inplace=True)"
   ]
  },
  {
   "cell_type": "markdown",
   "metadata": {},
   "source": [
    "Agrupamos la base de productos fijos:"
   ]
  },
  {
   "cell_type": "code",
   "execution_count": 5,
   "metadata": {},
   "outputs": [],
   "source": [
    "df1 = df1.groupby(by=['encriptado', 'segmento', 'periodo'],\n",
    "                  as_index=False).agg({'total': np.mean,\n",
    "                                       'n_recl_com': np.sum,\n",
    "                                       'n_recl_tec': np.sum,\n",
    "                                       'n_churn': np.sum})"
   ]
  },
  {
   "cell_type": "markdown",
   "metadata": {},
   "source": [
    "Unificamos:"
   ]
  },
  {
   "cell_type": "code",
   "execution_count": 6,
   "metadata": {},
   "outputs": [],
   "source": [
    "df1.loc[:, 'tipo'] = 'Fijo'\n",
    "df2.loc[:, 'tipo'] = 'Movil'\n",
    "df = pd.concat([df1, df2], axis=0)"
   ]
  },
  {
   "cell_type": "code",
   "execution_count": 7,
   "metadata": {},
   "outputs": [],
   "source": [
    "l1 = ['MICRO Y SOHO', 'MEDIANAS', 'S/I', 'EMPRESAS', 'GRANDES CUENTAS',\n",
    "      'PEQUENAS', 'GRANDES CLIENTES', 'empresas']\n",
    "l2 = ['masivos', 'mmee', 's/i', 'ggee', 'ggee', 'masivos', 'ggee', 'ggee']\n",
    "df.loc[:, 'segmento'] = df['segmento'].replace(l1, l2)\n",
    "\n",
    "df3 = df.groupby(by=['encriptado', 'segmento', 'periodo', 'tipo'], as_index=False).sum()"
   ]
  },
  {
   "cell_type": "code",
   "execution_count": 8,
   "metadata": {},
   "outputs": [
    {
     "data": {
      "text/html": [
       "<div>\n",
       "<style scoped>\n",
       "    .dataframe tbody tr th:only-of-type {\n",
       "        vertical-align: middle;\n",
       "    }\n",
       "\n",
       "    .dataframe tbody tr th {\n",
       "        vertical-align: top;\n",
       "    }\n",
       "\n",
       "    .dataframe thead th {\n",
       "        text-align: right;\n",
       "    }\n",
       "</style>\n",
       "<table border=\"1\" class=\"dataframe\">\n",
       "  <thead>\n",
       "    <tr style=\"text-align: right;\">\n",
       "      <th></th>\n",
       "      <th>total</th>\n",
       "      <th>n_recl_com</th>\n",
       "      <th>n_recl_tec</th>\n",
       "      <th>n_churn</th>\n",
       "      <th>nota_sem</th>\n",
       "    </tr>\n",
       "  </thead>\n",
       "  <tbody>\n",
       "    <tr>\n",
       "      <th>count</th>\n",
       "      <td>6.482390e+05</td>\n",
       "      <td>648239.000000</td>\n",
       "      <td>648239.000000</td>\n",
       "      <td>648239.000000</td>\n",
       "      <td>648239.000000</td>\n",
       "    </tr>\n",
       "    <tr>\n",
       "      <th>mean</th>\n",
       "      <td>1.228067e+05</td>\n",
       "      <td>0.057602</td>\n",
       "      <td>0.186883</td>\n",
       "      <td>0.253203</td>\n",
       "      <td>0.158929</td>\n",
       "    </tr>\n",
       "    <tr>\n",
       "      <th>std</th>\n",
       "      <td>1.626741e+06</td>\n",
       "      <td>0.752098</td>\n",
       "      <td>1.692481</td>\n",
       "      <td>1.518908</td>\n",
       "      <td>1.065684</td>\n",
       "    </tr>\n",
       "    <tr>\n",
       "      <th>min</th>\n",
       "      <td>-3.824389e+08</td>\n",
       "      <td>0.000000</td>\n",
       "      <td>0.000000</td>\n",
       "      <td>0.000000</td>\n",
       "      <td>0.000000</td>\n",
       "    </tr>\n",
       "    <tr>\n",
       "      <th>25%</th>\n",
       "      <td>2.448081e+04</td>\n",
       "      <td>0.000000</td>\n",
       "      <td>0.000000</td>\n",
       "      <td>0.000000</td>\n",
       "      <td>0.000000</td>\n",
       "    </tr>\n",
       "    <tr>\n",
       "      <th>50%</th>\n",
       "      <td>4.451400e+04</td>\n",
       "      <td>0.000000</td>\n",
       "      <td>0.000000</td>\n",
       "      <td>0.000000</td>\n",
       "      <td>0.000000</td>\n",
       "    </tr>\n",
       "    <tr>\n",
       "      <th>75%</th>\n",
       "      <td>9.002019e+04</td>\n",
       "      <td>0.000000</td>\n",
       "      <td>0.000000</td>\n",
       "      <td>0.000000</td>\n",
       "      <td>0.000000</td>\n",
       "    </tr>\n",
       "    <tr>\n",
       "      <th>max</th>\n",
       "      <td>9.031001e+08</td>\n",
       "      <td>504.000000</td>\n",
       "      <td>980.000000</td>\n",
       "      <td>281.000000</td>\n",
       "      <td>359.279070</td>\n",
       "    </tr>\n",
       "  </tbody>\n",
       "</table>\n",
       "</div>"
      ],
      "text/plain": [
       "              total     n_recl_com     n_recl_tec        n_churn  \\\n",
       "count  6.482390e+05  648239.000000  648239.000000  648239.000000   \n",
       "mean   1.228067e+05       0.057602       0.186883       0.253203   \n",
       "std    1.626741e+06       0.752098       1.692481       1.518908   \n",
       "min   -3.824389e+08       0.000000       0.000000       0.000000   \n",
       "25%    2.448081e+04       0.000000       0.000000       0.000000   \n",
       "50%    4.451400e+04       0.000000       0.000000       0.000000   \n",
       "75%    9.002019e+04       0.000000       0.000000       0.000000   \n",
       "max    9.031001e+08     504.000000     980.000000     281.000000   \n",
       "\n",
       "            nota_sem  \n",
       "count  648239.000000  \n",
       "mean        0.158929  \n",
       "std         1.065684  \n",
       "min         0.000000  \n",
       "25%         0.000000  \n",
       "50%         0.000000  \n",
       "75%         0.000000  \n",
       "max       359.279070  "
      ]
     },
     "execution_count": 8,
     "metadata": {},
     "output_type": "execute_result"
    }
   ],
   "source": [
    "df3.describe()"
   ]
  },
  {
   "cell_type": "markdown",
   "metadata": {},
   "source": [
    "Filtramos:"
   ]
  },
  {
   "cell_type": "code",
   "execution_count": 9,
   "metadata": {},
   "outputs": [],
   "source": [
    "df3 = df3.loc[(df3['total'] >= 1000) & (df3['total'] <= 10000000), :]\n",
    "df3 = df3.loc[df3['n_recl_com'] <= 10, :]\n",
    "df3 = df3.loc[df3['n_recl_tec'] <= 10, :]\n",
    "\n",
    "df3.loc[:, 'log_total'] = np.log(df3['total'])\n",
    "df3.loc[:, 'churn'] = 0\n",
    "df3.loc[df3['n_churn']>0, 'churn'] = 1"
   ]
  },
  {
   "cell_type": "code",
   "execution_count": 10,
   "metadata": {},
   "outputs": [
    {
     "data": {
      "text/plain": [
       "<matplotlib.axes._subplots.AxesSubplot at 0x13e69015f70>"
      ]
     },
     "execution_count": 10,
     "metadata": {},
     "output_type": "execute_result"
    },
    {
     "data": {
      "image/png": "[encoded data removed]",
      "text/plain": [
       "<Figure size 432x288 with 1 Axes>"
      ]
     },
     "metadata": {
      "needs_background": "light"
     },
     "output_type": "display_data"
    }
   ],
   "source": [
    "sns.histplot(data= df3[df3['tipo'] == 'Movil'], x = 'log_total',\n",
    "             bins=50)"
   ]
  },
  {
   "cell_type": "code",
   "execution_count": 11,
   "metadata": {},
   "outputs": [
    {
     "data": {
      "text/plain": [
       "<matplotlib.axes._subplots.AxesSubplot at 0x13e6a0f5100>"
      ]
     },
     "execution_count": 11,
     "metadata": {},
     "output_type": "execute_result"
    },
    {
     "data": {
      "image/png": "[encoded data removed]",
      "text/plain": [
       "<Figure size 480x720 with 2 Axes>"
      ]
     },
     "metadata": {
      "needs_background": "light"
     },
     "output_type": "display_data"
    }
   ],
   "source": [
    "plt.figure(figsize=(4, 6), dpi=120)\n",
    "ax1 = plt.subplot(311)\n",
    "sns.histplot(data= df3[df3['tipo'] == 'Movil'], x = 'log_total',\n",
    "             bins=50, hue = 'segmento', legend=False)\n",
    "\n",
    "ax2 = plt.subplot(312, sharex=ax1)\n",
    "sns.histplot(data= df3[df3['tipo'] == 'Fijo'], x = 'log_total',\n",
    "             bins=50, hue = 'segmento')"
   ]
  },
  {
   "cell_type": "code",
   "execution_count": 12,
   "metadata": {},
   "outputs": [],
   "source": [
    "rank = ['s/i', 'masivos', 'mmee', 'ggee']"
   ]
  },
  {
   "cell_type": "code",
   "execution_count": 13,
   "metadata": {},
   "outputs": [
    {
     "data": {
      "text/plain": [
       "<matplotlib.axes._subplots.AxesSubplot at 0x13e02411be0>"
      ]
     },
     "execution_count": 13,
     "metadata": {},
     "output_type": "execute_result"
    },
    {
     "data": {
      "image/png": "[encoded data removed]",
      "text/plain": [
       "<Figure size 432x288 with 1 Axes>"
      ]
     },
     "metadata": {
      "needs_background": "light"
     },
     "output_type": "display_data"
    }
   ],
   "source": [
    "sns.boxenplot(x=\"segmento\", y=\"log_total\", order=rank,\n",
    "              scale=\"linear\", data=df3)"
   ]
  },
  {
   "cell_type": "code",
   "execution_count": 14,
   "metadata": {},
   "outputs": [
    {
     "data": {
      "text/plain": [
       "<matplotlib.axes._subplots.AxesSubplot at 0x13e0245c6a0>"
      ]
     },
     "execution_count": 14,
     "metadata": {},
     "output_type": "execute_result"
    },
    {
     "data": {
      "image/png": "[encoded data removed]",
      "text/plain": [
       "<Figure size 480x480 with 1 Axes>"
      ]
     },
     "metadata": {
      "needs_background": "light"
     },
     "output_type": "display_data"
    }
   ],
   "source": [
    "plt.figure(figsize=(4, 4), dpi=120)\n",
    "sns.violinplot(y=\"segmento\", x=\"log_total\", hue='churn', order=rank,\n",
    "                    data=df3[df3['tipo'] == 'Movil'], palette=\"muted\")"
   ]
  },
  {
   "cell_type": "code",
   "execution_count": 15,
   "metadata": {},
   "outputs": [
    {
     "data": {
      "text/plain": [
       "<seaborn.axisgrid.FacetGrid at 0x13e02eb9ac0>"
      ]
     },
     "execution_count": 15,
     "metadata": {},
     "output_type": "execute_result"
    },
    {
     "data": {
      "image/png": "[encoded data removed]",
      "text/plain": [
       "<Figure size 618.375x288 with 2 Axes>"
      ]
     },
     "metadata": {
      "needs_background": "light"
     },
     "output_type": "display_data"
    }
   ],
   "source": [
    "#plt.figure(figsize=(2, 4), dpi=120)\n",
    "sns.catplot(x=\"segmento\", y=\"log_total\", hue='churn',\n",
    "            col = 'tipo',  order=rank, kind=\"violin\", split=True,\n",
    "            data=df3, palette=\"muted\", height=4)"
   ]
  },
  {
   "cell_type": "code",
   "execution_count": 16,
   "metadata": {},
   "outputs": [
    {
     "data": {
      "text/plain": [
       "<seaborn.axisgrid.FacetGrid at 0x13e024bb5b0>"
      ]
     },
     "execution_count": 16,
     "metadata": {},
     "output_type": "execute_result"
    },
    {
     "data": {
      "image/png": "[encoded data removed]",
      "text/plain": [
       "<Figure size 576x180 with 4 Axes>"
      ]
     },
     "metadata": {
      "needs_background": "light"
     },
     "output_type": "display_data"
    }
   ],
   "source": [
    "sns.catplot(x=\"churn\", col=\"segmento\", col_wrap=4,\n",
    "            data = df3,\n",
    "            kind=\"count\",\n",
    "            height=2.5, aspect=.8)"
   ]
  },
  {
   "cell_type": "code",
   "execution_count": 17,
   "metadata": {},
   "outputs": [
    {
     "data": {
      "text/html": [
       "<div>\n",
       "<style scoped>\n",
       "    .dataframe tbody tr th:only-of-type {\n",
       "        vertical-align: middle;\n",
       "    }\n",
       "\n",
       "    .dataframe tbody tr th {\n",
       "        vertical-align: top;\n",
       "    }\n",
       "\n",
       "    .dataframe thead th {\n",
       "        text-align: right;\n",
       "    }\n",
       "</style>\n",
       "<table border=\"1\" class=\"dataframe\">\n",
       "  <thead>\n",
       "    <tr style=\"text-align: right;\">\n",
       "      <th></th>\n",
       "      <th>total</th>\n",
       "      <th>n_recl_com</th>\n",
       "      <th>n_recl_tec</th>\n",
       "      <th>n_churn</th>\n",
       "      <th>nota_sem</th>\n",
       "      <th>log_total</th>\n",
       "      <th>churn</th>\n",
       "    </tr>\n",
       "  </thead>\n",
       "  <tbody>\n",
       "    <tr>\n",
       "      <th>count</th>\n",
       "      <td>6.401800e+05</td>\n",
       "      <td>640180.000000</td>\n",
       "      <td>640180.000000</td>\n",
       "      <td>640180.000000</td>\n",
       "      <td>640180.000000</td>\n",
       "      <td>640180.000000</td>\n",
       "      <td>640180.000000</td>\n",
       "    </tr>\n",
       "    <tr>\n",
       "      <th>mean</th>\n",
       "      <td>1.137792e+05</td>\n",
       "      <td>0.053919</td>\n",
       "      <td>0.160500</td>\n",
       "      <td>0.247220</td>\n",
       "      <td>0.159949</td>\n",
       "      <td>10.809727</td>\n",
       "      <td>0.127770</td>\n",
       "    </tr>\n",
       "    <tr>\n",
       "      <th>std</th>\n",
       "      <td>3.274656e+05</td>\n",
       "      <td>0.344491</td>\n",
       "      <td>0.705054</td>\n",
       "      <td>1.255814</td>\n",
       "      <td>0.972478</td>\n",
       "      <td>1.124286</td>\n",
       "      <td>0.333834</td>\n",
       "    </tr>\n",
       "    <tr>\n",
       "      <th>min</th>\n",
       "      <td>1.000000e+03</td>\n",
       "      <td>0.000000</td>\n",
       "      <td>0.000000</td>\n",
       "      <td>0.000000</td>\n",
       "      <td>0.000000</td>\n",
       "      <td>6.907755</td>\n",
       "      <td>0.000000</td>\n",
       "    </tr>\n",
       "    <tr>\n",
       "      <th>25%</th>\n",
       "      <td>2.511700e+04</td>\n",
       "      <td>0.000000</td>\n",
       "      <td>0.000000</td>\n",
       "      <td>0.000000</td>\n",
       "      <td>0.000000</td>\n",
       "      <td>10.131300</td>\n",
       "      <td>0.000000</td>\n",
       "    </tr>\n",
       "    <tr>\n",
       "      <th>50%</th>\n",
       "      <td>4.513500e+04</td>\n",
       "      <td>0.000000</td>\n",
       "      <td>0.000000</td>\n",
       "      <td>0.000000</td>\n",
       "      <td>0.000000</td>\n",
       "      <td>10.717413</td>\n",
       "      <td>0.000000</td>\n",
       "    </tr>\n",
       "    <tr>\n",
       "      <th>75%</th>\n",
       "      <td>9.051454e+04</td>\n",
       "      <td>0.000000</td>\n",
       "      <td>0.000000</td>\n",
       "      <td>0.000000</td>\n",
       "      <td>0.000000</td>\n",
       "      <td>11.413266</td>\n",
       "      <td>0.000000</td>\n",
       "    </tr>\n",
       "    <tr>\n",
       "      <th>max</th>\n",
       "      <td>9.998235e+06</td>\n",
       "      <td>10.000000</td>\n",
       "      <td>10.000000</td>\n",
       "      <td>204.000000</td>\n",
       "      <td>9.000000</td>\n",
       "      <td>16.117919</td>\n",
       "      <td>1.000000</td>\n",
       "    </tr>\n",
       "  </tbody>\n",
       "</table>\n",
       "</div>"
      ],
      "text/plain": [
       "              total     n_recl_com     n_recl_tec        n_churn  \\\n",
       "count  6.401800e+05  640180.000000  640180.000000  640180.000000   \n",
       "mean   1.137792e+05       0.053919       0.160500       0.247220   \n",
       "std    3.274656e+05       0.344491       0.705054       1.255814   \n",
       "min    1.000000e+03       0.000000       0.000000       0.000000   \n",
       "25%    2.511700e+04       0.000000       0.000000       0.000000   \n",
       "50%    4.513500e+04       0.000000       0.000000       0.000000   \n",
       "75%    9.051454e+04       0.000000       0.000000       0.000000   \n",
       "max    9.998235e+06      10.000000      10.000000     204.000000   \n",
       "\n",
       "            nota_sem      log_total          churn  \n",
       "count  640180.000000  640180.000000  640180.000000  \n",
       "mean        0.159949      10.809727       0.127770  \n",
       "std         0.972478       1.124286       0.333834  \n",
       "min         0.000000       6.907755       0.000000  \n",
       "25%         0.000000      10.131300       0.000000  \n",
       "50%         0.000000      10.717413       0.000000  \n",
       "75%         0.000000      11.413266       0.000000  \n",
       "max         9.000000      16.117919       1.000000  "
      ]
     },
     "execution_count": 17,
     "metadata": {},
     "output_type": "execute_result"
    }
   ],
   "source": [
    "df3.describe()"
   ]
  },
  {
   "cell_type": "code",
   "execution_count": 18,
   "metadata": {},
   "outputs": [
    {
     "data": {
      "text/plain": [
       "<seaborn.axisgrid.FacetGrid at 0x13e68d32910>"
      ]
     },
     "execution_count": 18,
     "metadata": {},
     "output_type": "execute_result"
    },
    {
     "data": {
      "image/png": "[encoded data removed]",
      "text/plain": [
       "<Figure size 576x180 with 2 Axes>"
      ]
     },
     "metadata": {
      "needs_background": "light"
     },
     "output_type": "display_data"
    }
   ],
   "source": [
    "sns.catplot(x=\"n_recl_com\", col=\"churn\", col_wrap=4,\n",
    "            data = df3,\n",
    "            kind=\"count\",\n",
    "            height=2.5, aspect=.8)"
   ]
  },
  {
   "cell_type": "code",
   "execution_count": 19,
   "metadata": {},
   "outputs": [
    {
     "data": {
      "text/plain": [
       "<seaborn.axisgrid.FacetGrid at 0x13e10568610>"
      ]
     },
     "execution_count": 19,
     "metadata": {},
     "output_type": "execute_result"
    },
    {
     "data": {
      "image/png": "[encoded data removed]",
      "text/plain": [
       "<Figure size 576x180 with 2 Axes>"
      ]
     },
     "metadata": {
      "needs_background": "light"
     },
     "output_type": "display_data"
    }
   ],
   "source": [
    "sns.catplot(x=\"n_recl_tec\", col=\"churn\", col_wrap=4,\n",
    "            data = df3,\n",
    "            kind=\"count\",\n",
    "            height=2.5, aspect=.8)"
   ]
  },
  {
   "cell_type": "code",
   "execution_count": 20,
   "metadata": {},
   "outputs": [],
   "source": [
    "from sklearn.svm import LinearSVC"
   ]
  },
  {
   "cell_type": "code",
   "execution_count": 21,
   "metadata": {},
   "outputs": [],
   "source": [
    "from sklearn import metrics\n",
    "from sklearn.metrics import classification_report\n",
    "from sklearn.tree import DecisionTreeClassifier\n",
    "from sklearn.ensemble import RandomForestClassifier\n",
    "from sklearn.datasets import make_classification\n",
    "from sklearn.linear_model import LogisticRegression\n",
    "from sklearn.cluster import KMeans\n",
    "from sklearn.model_selection import train_test_split\n",
    "from sklearn.metrics import confusion_matrix\n",
    "from sklearn.metrics import plot_confusion_matrix\n",
    "from sklearn.svm import LinearSVC\n",
    "from sklearn.naive_bayes import GaussianNB\n",
    "from sklearn.pipeline import make_pipeline\n",
    "from sklearn.preprocessing import StandardScaler\n",
    "from imblearn.under_sampling import RandomUnderSampler\n",
    "from imblearn.over_sampling import RandomOverSampler"
   ]
  },
  {
   "cell_type": "code",
   "execution_count": 22,
   "metadata": {},
   "outputs": [],
   "source": [
    "y = df3['churn']\n",
    "x = df3.drop(['churn', 'n_churn', 'total',\n",
    "              'encriptado', 'periodo', 'nota_sem'], axis=1)\n",
    "\n",
    "x = pd.get_dummies(x, columns = ['segmento'])\n",
    "x = pd.get_dummies(x, columns = ['tipo'])"
   ]
  },
  {
   "cell_type": "code",
   "execution_count": 67,
   "metadata": {},
   "outputs": [
    {
     "data": {
      "text/html": [
       "<div>\n",
       "<style scoped>\n",
       "    .dataframe tbody tr th:only-of-type {\n",
       "        vertical-align: middle;\n",
       "    }\n",
       "\n",
       "    .dataframe tbody tr th {\n",
       "        vertical-align: top;\n",
       "    }\n",
       "\n",
       "    .dataframe thead th {\n",
       "        text-align: right;\n",
       "    }\n",
       "</style>\n",
       "<table border=\"1\" class=\"dataframe\">\n",
       "  <thead>\n",
       "    <tr style=\"text-align: right;\">\n",
       "      <th></th>\n",
       "      <th>n_recl_com</th>\n",
       "      <th>n_recl_tec</th>\n",
       "      <th>log_total</th>\n",
       "      <th>segmento_ggee</th>\n",
       "      <th>segmento_masivos</th>\n",
       "      <th>segmento_mmee</th>\n",
       "      <th>segmento_s/i</th>\n",
       "      <th>tipo_Fijo</th>\n",
       "      <th>tipo_Movil</th>\n",
       "    </tr>\n",
       "  </thead>\n",
       "  <tbody>\n",
       "    <tr>\n",
       "      <th>147740</th>\n",
       "      <td>0</td>\n",
       "      <td>0</td>\n",
       "      <td>11.176394</td>\n",
       "      <td>0</td>\n",
       "      <td>1</td>\n",
       "      <td>0</td>\n",
       "      <td>0</td>\n",
       "      <td>0</td>\n",
       "      <td>1</td>\n",
       "    </tr>\n",
       "    <tr>\n",
       "      <th>8487</th>\n",
       "      <td>0</td>\n",
       "      <td>0</td>\n",
       "      <td>10.509929</td>\n",
       "      <td>0</td>\n",
       "      <td>1</td>\n",
       "      <td>0</td>\n",
       "      <td>0</td>\n",
       "      <td>1</td>\n",
       "      <td>0</td>\n",
       "    </tr>\n",
       "    <tr>\n",
       "      <th>136218</th>\n",
       "      <td>0</td>\n",
       "      <td>0</td>\n",
       "      <td>10.112833</td>\n",
       "      <td>0</td>\n",
       "      <td>1</td>\n",
       "      <td>0</td>\n",
       "      <td>0</td>\n",
       "      <td>1</td>\n",
       "      <td>0</td>\n",
       "    </tr>\n",
       "    <tr>\n",
       "      <th>3377</th>\n",
       "      <td>0</td>\n",
       "      <td>0</td>\n",
       "      <td>10.998209</td>\n",
       "      <td>0</td>\n",
       "      <td>1</td>\n",
       "      <td>0</td>\n",
       "      <td>0</td>\n",
       "      <td>0</td>\n",
       "      <td>1</td>\n",
       "    </tr>\n",
       "    <tr>\n",
       "      <th>101947</th>\n",
       "      <td>1</td>\n",
       "      <td>0</td>\n",
       "      <td>11.355615</td>\n",
       "      <td>0</td>\n",
       "      <td>1</td>\n",
       "      <td>0</td>\n",
       "      <td>0</td>\n",
       "      <td>0</td>\n",
       "      <td>1</td>\n",
       "    </tr>\n",
       "    <tr>\n",
       "      <th>...</th>\n",
       "      <td>...</td>\n",
       "      <td>...</td>\n",
       "      <td>...</td>\n",
       "      <td>...</td>\n",
       "      <td>...</td>\n",
       "      <td>...</td>\n",
       "      <td>...</td>\n",
       "      <td>...</td>\n",
       "      <td>...</td>\n",
       "    </tr>\n",
       "    <tr>\n",
       "      <th>119879</th>\n",
       "      <td>0</td>\n",
       "      <td>0</td>\n",
       "      <td>10.166256</td>\n",
       "      <td>0</td>\n",
       "      <td>1</td>\n",
       "      <td>0</td>\n",
       "      <td>0</td>\n",
       "      <td>0</td>\n",
       "      <td>1</td>\n",
       "    </tr>\n",
       "    <tr>\n",
       "      <th>103694</th>\n",
       "      <td>0</td>\n",
       "      <td>0</td>\n",
       "      <td>10.469504</td>\n",
       "      <td>0</td>\n",
       "      <td>0</td>\n",
       "      <td>1</td>\n",
       "      <td>0</td>\n",
       "      <td>0</td>\n",
       "      <td>1</td>\n",
       "    </tr>\n",
       "    <tr>\n",
       "      <th>131932</th>\n",
       "      <td>0</td>\n",
       "      <td>0</td>\n",
       "      <td>10.399775</td>\n",
       "      <td>0</td>\n",
       "      <td>1</td>\n",
       "      <td>0</td>\n",
       "      <td>0</td>\n",
       "      <td>1</td>\n",
       "      <td>0</td>\n",
       "    </tr>\n",
       "    <tr>\n",
       "      <th>146867</th>\n",
       "      <td>0</td>\n",
       "      <td>0</td>\n",
       "      <td>10.067456</td>\n",
       "      <td>0</td>\n",
       "      <td>1</td>\n",
       "      <td>0</td>\n",
       "      <td>0</td>\n",
       "      <td>1</td>\n",
       "      <td>0</td>\n",
       "    </tr>\n",
       "    <tr>\n",
       "      <th>121958</th>\n",
       "      <td>0</td>\n",
       "      <td>0</td>\n",
       "      <td>10.015968</td>\n",
       "      <td>0</td>\n",
       "      <td>1</td>\n",
       "      <td>0</td>\n",
       "      <td>0</td>\n",
       "      <td>0</td>\n",
       "      <td>1</td>\n",
       "    </tr>\n",
       "  </tbody>\n",
       "</table>\n",
       "<p>130873 rows × 9 columns</p>\n",
       "</div>"
      ],
      "text/plain": [
       "        n_recl_com  n_recl_tec  log_total  segmento_ggee  segmento_masivos  \\\n",
       "147740           0           0  11.176394              0                 1   \n",
       "8487             0           0  10.509929              0                 1   \n",
       "136218           0           0  10.112833              0                 1   \n",
       "3377             0           0  10.998209              0                 1   \n",
       "101947           1           0  11.355615              0                 1   \n",
       "...            ...         ...        ...            ...               ...   \n",
       "119879           0           0  10.166256              0                 1   \n",
       "103694           0           0  10.469504              0                 0   \n",
       "131932           0           0  10.399775              0                 1   \n",
       "146867           0           0  10.067456              0                 1   \n",
       "121958           0           0  10.015968              0                 1   \n",
       "\n",
       "        segmento_mmee  segmento_s/i  tipo_Fijo  tipo_Movil  \n",
       "147740              0             0          0           1  \n",
       "8487                0             0          1           0  \n",
       "136218              0             0          1           0  \n",
       "3377                0             0          0           1  \n",
       "101947              0             0          0           1  \n",
       "...               ...           ...        ...         ...  \n",
       "119879              0             0          0           1  \n",
       "103694              1             0          0           1  \n",
       "131932              0             0          1           0  \n",
       "146867              0             0          1           0  \n",
       "121958              0             0          0           1  \n",
       "\n",
       "[130873 rows x 9 columns]"
      ]
     },
     "execution_count": 67,
     "metadata": {},
     "output_type": "execute_result"
    }
   ],
   "source": [
    "X_train"
   ]
  },
  {
   "cell_type": "code",
   "execution_count": 71,
   "metadata": {},
   "outputs": [
    {
     "data": {
      "text/plain": [
       "Pipeline(steps=[('standardscaler', StandardScaler()),\n",
       "                ('linearsvc',\n",
       "                 LinearSVC(max_iter=20000, random_state=0, tol=0.001))])"
      ]
     },
     "execution_count": 71,
     "metadata": {},
     "output_type": "execute_result"
    }
   ],
   "source": [
    "svm = make_pipeline(StandardScaler(),\n",
    "                    LinearSVC(random_state=0, tol=0.001, max_iter=20000))\n",
    "svm.fit(X_train, y_train)"
   ]
  },
  {
   "cell_type": "code",
   "execution_count": 72,
   "metadata": {},
   "outputs": [
    {
     "data": {
      "image/png": "[encoded data removed]",
      "text/plain": [
       "<Figure size 432x288 with 2 Axes>"
      ]
     },
     "metadata": {
      "needs_background": "light"
     },
     "output_type": "display_data"
    }
   ],
   "source": [
    "plot_confusion_matrix(svm, X_test, y_test)\n",
    "plt.title('Confusion Matrix')\n",
    "plt.show() "
   ]
  },
  {
   "cell_type": "code",
   "execution_count": 65,
   "metadata": {},
   "outputs": [],
   "source": [
    "rus = RandomUnderSampler(random_state=0)\n",
    "#rus = RandomOverSampler(random_state=0)\n",
    "X_resampled, y_resampled = rus.fit_resample(x, y)"
   ]
  },
  {
   "cell_type": "code",
   "execution_count": 66,
   "metadata": {},
   "outputs": [],
   "source": [
    "X_train, X_test, y_train, y_test = train_test_split(X_resampled, y_resampled, test_size=0.20, random_state=42)"
   ]
  },
  {
   "cell_type": "code",
   "execution_count": 48,
   "metadata": {},
   "outputs": [],
   "source": [
    "logit = LogisticRegression(random_state=0, max_iter=500).fit(X_train, y_train)"
   ]
  },
  {
   "cell_type": "code",
   "execution_count": 49,
   "metadata": {},
   "outputs": [
    {
     "data": {
      "text/plain": [
       "array([[11443,  4823],\n",
       "       [ 8283,  8170]], dtype=int64)"
      ]
     },
     "execution_count": 49,
     "metadata": {},
     "output_type": "execute_result"
    }
   ],
   "source": [
    "y_pred = logit.predict(X_test)\n",
    "confusion_matrix(y_test, y_pred)"
   ]
  },
  {
   "cell_type": "code",
   "execution_count": 50,
   "metadata": {},
   "outputs": [
    {
     "name": "stdout",
     "output_type": "stream",
     "text": [
      "              precision    recall  f1-score   support\n",
      "\n",
      "           0       0.58      0.70      0.64     16266\n",
      "           1       0.63      0.50      0.55     16453\n",
      "\n",
      "    accuracy                           0.60     32719\n",
      "   macro avg       0.60      0.60      0.60     32719\n",
      "weighted avg       0.60      0.60      0.60     32719\n",
      "\n"
     ]
    }
   ],
   "source": [
    "y_pred = logit.predict(X_test)\n",
    "print(classification_report(y_test, y_pred))"
   ]
  },
  {
   "cell_type": "code",
   "execution_count": 56,
   "metadata": {},
   "outputs": [
    {
     "data": {
      "text/plain": [
       "RandomForestClassifier(n_estimators=10, n_jobs=-1, random_state=123)"
      ]
     },
     "execution_count": 56,
     "metadata": {},
     "output_type": "execute_result"
    }
   ],
   "source": [
    "rf = RandomForestClassifier(\n",
    "            n_estimators = 10,\n",
    "            max_depth    = None,\n",
    "            max_features = 'auto',\n",
    "            oob_score    = False,\n",
    "            n_jobs       = -1,\n",
    "            random_state = 123\n",
    "         )\n",
    "rf.fit(X_train, y_train)"
   ]
  },
  {
   "cell_type": "code",
   "execution_count": 57,
   "metadata": {},
   "outputs": [
    {
     "data": {
      "image/png": "[encoded data removed]",
      "text/plain": [
       "<Figure size 432x288 with 2 Axes>"
      ]
     },
     "metadata": {
      "needs_background": "light"
     },
     "output_type": "display_data"
    }
   ],
   "source": [
    "plot_confusion_matrix(rf, X_test, y_test)\n",
    "plt.title('Confusion Matrix')\n",
    "plt.show()"
   ]
  },
  {
   "cell_type": "code",
   "execution_count": 58,
   "metadata": {},
   "outputs": [
    {
     "name": "stdout",
     "output_type": "stream",
     "text": [
      "              precision    recall  f1-score   support\n",
      "\n",
      "           0       0.59      0.62      0.60     16266\n",
      "           1       0.60      0.57      0.58     16453\n",
      "\n",
      "    accuracy                           0.59     32719\n",
      "   macro avg       0.59      0.59      0.59     32719\n",
      "weighted avg       0.59      0.59      0.59     32719\n",
      "\n"
     ]
    }
   ],
   "source": [
    "y_pred = rf.predict(X_test)\n",
    "print(classification_report(y_test, y_pred))"
   ]
  },
  {
   "cell_type": "code",
   "execution_count": null,
   "metadata": {},
   "outputs": [],
   "source": []
  },
  {
   "cell_type": "code",
   "execution_count": null,
   "metadata": {},
   "outputs": [],
   "source": []
  }
 ],
 "metadata": {
  "kernelspec": {
   "display_name": "Python 3",
   "language": "python",
   "name": "python3"
  },
  "language_info": {
   "codemirror_mode": {
    "name": "ipython",
    "version": 3
   },
   "file_extension": ".py",
   "mimetype": "text/x-python",
   "name": "python",
   "nbconvert_exporter": "python",
   "pygments_lexer": "ipython3",
   "version": "3.8.3"
  }
 },
 "nbformat": 4,
 "nbformat_minor": 4
}
