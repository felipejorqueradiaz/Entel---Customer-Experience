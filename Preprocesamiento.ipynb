{
 "cells": [
  {
   "cell_type": "markdown",
   "metadata": {},
   "source": [
    "## Merge movil y fijo"
   ]
  },
  {
   "cell_type": "code",
   "execution_count": 3,
   "metadata": {},
   "outputs": [],
   "source": [
    "import pandas as pd\n",
    "import numpy as np\n",
    "import matplotlib.pyplot as plt\n",
    "import seaborn as sns\n",
    "from sklearn.svm import LinearSVC\n",
    "from sklearn import metrics\n",
    "from sklearn.metrics import classification_report\n",
    "from sklearn.tree import DecisionTreeClassifier\n",
    "from sklearn.ensemble import RandomForestClassifier\n",
    "from sklearn.datasets import make_classification\n",
    "from sklearn.linear_model import LogisticRegression\n",
    "from sklearn.cluster import KMeans\n",
    "from sklearn.model_selection import train_test_split\n",
    "from sklearn.metrics import confusion_matrix\n",
    "from sklearn.metrics import plot_confusion_matrix\n",
    "from sklearn.svm import LinearSVC\n",
    "from sklearn.naive_bayes import GaussianNB\n",
    "from sklearn.pipeline import make_pipeline\n",
    "from sklearn.preprocessing import StandardScaler\n",
    "from imblearn.under_sampling import RandomUnderSampler\n",
    "from imblearn.over_sampling import RandomOverSampler\n",
    "from sklearn.model_selection import GridSearchCV\n",
    "from sklearn.svm import SVC\n",
    "from sklearn.preprocessing import Normalizer, StandardScaler"
   ]
  },
  {
   "cell_type": "markdown",
   "metadata": {},
   "source": [
    "Leemos los datos ya consolidados:"
   ]
  },
  {
   "cell_type": "code",
   "execution_count": 4,
   "metadata": {},
   "outputs": [],
   "source": [
    "df1 = pd.read_csv('fijo_consolidado.txt', sep='\\t')\n",
    "df2 = pd.read_csv('base_completa_movil.csv', encoding='latin-1')"
   ]
  },
  {
   "cell_type": "markdown",
   "metadata": {},
   "source": [
    "Unificamos los nombres de Columnas"
   ]
  },
  {
   "cell_type": "code",
   "execution_count": 5,
   "metadata": {},
   "outputs": [],
   "source": [
    "df2 = df2[['encriptado', 'periodo', 'segmento', 'total', 'n_recl_com', 'n_recl_tec', 'n_churn', 'nota_sem']]\n",
    "df1 = df1[['encriptado', 'MES', 'SEGMENTO', 'MONTO', 'RECLAMO_COM', 'RECLAMO_TEC', 'CHURN']]\n",
    "df1.columns = ['encriptado', 'periodo', 'segmento', 'total', 'n_recl_com', 'n_recl_tec', 'n_churn']"
   ]
  },
  {
   "cell_type": "markdown",
   "metadata": {},
   "source": [
    "Cambiamos la escala de tiempo:"
   ]
  },
  {
   "cell_type": "code",
   "execution_count": 6,
   "metadata": {},
   "outputs": [],
   "source": [
    "df1.loc[df1['periodo'] <= 6, 'periodo2'] = '2019_q1'\n",
    "df1.loc[(df1['periodo'] > 6) & (df1['periodo'] <= 12), 'periodo2'] = '2019_q2'\n",
    "df1.loc[(df1['periodo'] > 12) & (df1['periodo'] <= 18), 'periodo2'] = '2020_q1'\n",
    "df1.loc[(df1['periodo'] > 18) & (df1['periodo'] <= 24), 'periodo2'] = '2020_q2'\n",
    "\n",
    "df1.drop('periodo', axis=1, inplace=True)\n",
    "df1.rename(columns = {'periodo2': 'periodo'}, inplace=True)"
   ]
  },
  {
   "cell_type": "markdown",
   "metadata": {},
   "source": [
    "Agrupamos la base de productos fijos:"
   ]
  },
  {
   "cell_type": "code",
   "execution_count": 7,
   "metadata": {},
   "outputs": [],
   "source": [
    "df1 = df1.groupby(by=['encriptado', 'segmento', 'periodo'],\n",
    "                  as_index=False).agg({'total': np.mean,\n",
    "                                       'n_recl_com': np.sum,\n",
    "                                       'n_recl_tec': np.sum,\n",
    "                                       'n_churn': np.sum})"
   ]
  },
  {
   "cell_type": "markdown",
   "metadata": {},
   "source": [
    "Unificamos:"
   ]
  },
  {
   "cell_type": "code",
   "execution_count": 8,
   "metadata": {},
   "outputs": [],
   "source": [
    "df1.loc[:, 'tipo'] = 'Fijo'\n",
    "df2.loc[:, 'tipo'] = 'Movil'\n",
    "df = pd.concat([df1, df2], axis=0)"
   ]
  },
  {
   "cell_type": "code",
   "execution_count": 9,
   "metadata": {},
   "outputs": [],
   "source": [
    "l1 = ['MICRO Y SOHO', 'MEDIANAS', 'S/I', 'EMPRESAS', 'GRANDES CUENTAS',\n",
    "      'PEQUENAS', 'GRANDES CLIENTES', 'empresas']\n",
    "l2 = ['masivos', 'mmee', 's/i', 'ggee', 'ggee', 'masivos', 'ggee', 'ggee']\n",
    "df.loc[:, 'segmento'] = df['segmento'].replace(l1, l2)\n",
    "\n",
    "df3 = df.groupby(by=['encriptado', 'segmento', 'periodo', 'tipo'], as_index=False).sum()"
   ]
  },
  {
   "cell_type": "code",
   "execution_count": 10,
   "metadata": {},
   "outputs": [
    {
     "data": {
      "text/html": [
       "<div>\n",
       "<style scoped>\n",
       "    .dataframe tbody tr th:only-of-type {\n",
       "        vertical-align: middle;\n",
       "    }\n",
       "\n",
       "    .dataframe tbody tr th {\n",
       "        vertical-align: top;\n",
       "    }\n",
       "\n",
       "    .dataframe thead th {\n",
       "        text-align: right;\n",
       "    }\n",
       "</style>\n",
       "<table border=\"1\" class=\"dataframe\">\n",
       "  <thead>\n",
       "    <tr style=\"text-align: right;\">\n",
       "      <th></th>\n",
       "      <th>total</th>\n",
       "      <th>n_recl_com</th>\n",
       "      <th>n_recl_tec</th>\n",
       "      <th>n_churn</th>\n",
       "      <th>nota_sem</th>\n",
       "    </tr>\n",
       "  </thead>\n",
       "  <tbody>\n",
       "    <tr>\n",
       "      <th>count</th>\n",
       "      <td>6.482390e+05</td>\n",
       "      <td>648239.000000</td>\n",
       "      <td>648239.000000</td>\n",
       "      <td>648239.000000</td>\n",
       "      <td>648239.000000</td>\n",
       "    </tr>\n",
       "    <tr>\n",
       "      <th>mean</th>\n",
       "      <td>1.228067e+05</td>\n",
       "      <td>0.057602</td>\n",
       "      <td>0.186883</td>\n",
       "      <td>0.253203</td>\n",
       "      <td>0.158929</td>\n",
       "    </tr>\n",
       "    <tr>\n",
       "      <th>std</th>\n",
       "      <td>1.626741e+06</td>\n",
       "      <td>0.752098</td>\n",
       "      <td>1.692481</td>\n",
       "      <td>1.518908</td>\n",
       "      <td>1.065684</td>\n",
       "    </tr>\n",
       "    <tr>\n",
       "      <th>min</th>\n",
       "      <td>-3.824389e+08</td>\n",
       "      <td>0.000000</td>\n",
       "      <td>0.000000</td>\n",
       "      <td>0.000000</td>\n",
       "      <td>0.000000</td>\n",
       "    </tr>\n",
       "    <tr>\n",
       "      <th>25%</th>\n",
       "      <td>2.448081e+04</td>\n",
       "      <td>0.000000</td>\n",
       "      <td>0.000000</td>\n",
       "      <td>0.000000</td>\n",
       "      <td>0.000000</td>\n",
       "    </tr>\n",
       "    <tr>\n",
       "      <th>50%</th>\n",
       "      <td>4.451400e+04</td>\n",
       "      <td>0.000000</td>\n",
       "      <td>0.000000</td>\n",
       "      <td>0.000000</td>\n",
       "      <td>0.000000</td>\n",
       "    </tr>\n",
       "    <tr>\n",
       "      <th>75%</th>\n",
       "      <td>9.002019e+04</td>\n",
       "      <td>0.000000</td>\n",
       "      <td>0.000000</td>\n",
       "      <td>0.000000</td>\n",
       "      <td>0.000000</td>\n",
       "    </tr>\n",
       "    <tr>\n",
       "      <th>max</th>\n",
       "      <td>9.031001e+08</td>\n",
       "      <td>504.000000</td>\n",
       "      <td>980.000000</td>\n",
       "      <td>281.000000</td>\n",
       "      <td>359.279070</td>\n",
       "    </tr>\n",
       "  </tbody>\n",
       "</table>\n",
       "</div>"
      ],
      "text/plain": [
       "              total     n_recl_com     n_recl_tec        n_churn  \\\n",
       "count  6.482390e+05  648239.000000  648239.000000  648239.000000   \n",
       "mean   1.228067e+05       0.057602       0.186883       0.253203   \n",
       "std    1.626741e+06       0.752098       1.692481       1.518908   \n",
       "min   -3.824389e+08       0.000000       0.000000       0.000000   \n",
       "25%    2.448081e+04       0.000000       0.000000       0.000000   \n",
       "50%    4.451400e+04       0.000000       0.000000       0.000000   \n",
       "75%    9.002019e+04       0.000000       0.000000       0.000000   \n",
       "max    9.031001e+08     504.000000     980.000000     281.000000   \n",
       "\n",
       "            nota_sem  \n",
       "count  648239.000000  \n",
       "mean        0.158929  \n",
       "std         1.065684  \n",
       "min         0.000000  \n",
       "25%         0.000000  \n",
       "50%         0.000000  \n",
       "75%         0.000000  \n",
       "max       359.279070  "
      ]
     },
     "execution_count": 10,
     "metadata": {},
     "output_type": "execute_result"
    }
   ],
   "source": [
    "df3.describe()"
   ]
  },
  {
   "cell_type": "markdown",
   "metadata": {},
   "source": [
    "Filtramos:"
   ]
  },
  {
   "cell_type": "code",
   "execution_count": 11,
   "metadata": {},
   "outputs": [],
   "source": [
    "df3 = df3.loc[(df3['total'] >= 1000) & (df3['total'] <= 10000000), :]\n",
    "df3 = df3.loc[df3['n_recl_com'] <= 10, :]\n",
    "df3 = df3.loc[df3['n_recl_tec'] <= 10, :]\n",
    "\n",
    "df3.loc[:, 'log_total'] = np.log(df3['total'])\n",
    "df3.loc[:, 'churn'] = 0\n",
    "df3.loc[df3['n_churn']>0, 'churn'] = 1"
   ]
  },
  {
   "cell_type": "code",
   "execution_count": 12,
   "metadata": {},
   "outputs": [
    {
     "data": {
      "text/plain": [
       "<AxesSubplot:xlabel='log_total', ylabel='Count'>"
      ]
     },
     "execution_count": 12,
     "metadata": {},
     "output_type": "execute_result"
    },
    {
     "data": {
      "image/png": "[encoded data removed]",
      "text/plain": [
       "<Figure size 432x288 with 1 Axes>"
      ]
     },
     "metadata": {
      "needs_background": "light"
     },
     "output_type": "display_data"
    }
   ],
   "source": [
    "sns.histplot(data= df3[df3['tipo'] == 'Movil'], x = 'log_total',\n",
    "             bins=50)"
   ]
  },
  {
   "cell_type": "code",
   "execution_count": 11,
   "metadata": {},
   "outputs": [
    {
     "data": {
      "text/plain": [
       "<AxesSubplot:xlabel='log_total', ylabel='Count'>"
      ]
     },
     "execution_count": 11,
     "metadata": {},
     "output_type": "execute_result"
    },
    {
     "data": {
      "image/png": "[encoded data removed]",
      "text/plain": [
       "<Figure size 480x720 with 2 Axes>"
      ]
     },
     "metadata": {
      "needs_background": "light"
     },
     "output_type": "display_data"
    }
   ],
   "source": [
    "plt.figure(figsize=(4, 6), dpi=120)\n",
    "ax1 = plt.subplot(311)\n",
    "sns.histplot(data= df3[df3['tipo'] == 'Movil'], x = 'log_total',\n",
    "             bins=50, hue = 'segmento', legend=False)\n",
    "\n",
    "ax2 = plt.subplot(312, sharex=ax1)\n",
    "sns.histplot(data= df3[df3['tipo'] == 'Fijo'], x = 'log_total',\n",
    "             bins=50, hue = 'segmento')"
   ]
  },
  {
   "cell_type": "code",
   "execution_count": 12,
   "metadata": {},
   "outputs": [],
   "source": [
    "rank = ['s/i', 'masivos', 'mmee', 'ggee']"
   ]
  },
  {
   "cell_type": "code",
   "execution_count": 13,
   "metadata": {},
   "outputs": [
    {
     "data": {
      "text/plain": [
       "<matplotlib.axes._subplots.AxesSubplot at 0x13e02411be0>"
      ]
     },
     "execution_count": 13,
     "metadata": {},
     "output_type": "execute_result"
    },
    {
     "data": {
      "image/png": "[encoded data removed]",
      "text/plain": [
       "<Figure size 432x288 with 1 Axes>"
      ]
     },
     "metadata": {
      "needs_background": "light"
     },
     "output_type": "display_data"
    }
   ],
   "source": [
    "sns.boxenplot(x=\"segmento\", y=\"log_total\", order=rank,\n",
    "              scale=\"linear\", data=df3)"
   ]
  },
  {
   "cell_type": "code",
   "execution_count": 14,
   "metadata": {},
   "outputs": [
    {
     "data": {
      "text/plain": [
       "<matplotlib.axes._subplots.AxesSubplot at 0x13e0245c6a0>"
      ]
     },
     "execution_count": 14,
     "metadata": {},
     "output_type": "execute_result"
    },
    {
     "data": {
      "image/png": "[encoded data removed]",
      "text/plain": [
       "<Figure size 480x480 with 1 Axes>"
      ]
     },
     "metadata": {
      "needs_background": "light"
     },
     "output_type": "display_data"
    }
   ],
   "source": [
    "plt.figure(figsize=(4, 4), dpi=120)\n",
    "sns.violinplot(y=\"segmento\", x=\"log_total\", hue='churn', order=rank,\n",
    "                    data=df3[df3['tipo'] == 'Movil'], palette=\"muted\")"
   ]
  },
  {
   "cell_type": "code",
   "execution_count": 15,
   "metadata": {},
   "outputs": [
    {
     "data": {
      "text/plain": [
       "<seaborn.axisgrid.FacetGrid at 0x13e02eb9ac0>"
      ]
     },
     "execution_count": 15,
     "metadata": {},
     "output_type": "execute_result"
    },
    {
     "data": {
      "image/png": "[encoded data removed]",
      "text/plain": [
       "<Figure size 618.375x288 with 2 Axes>"
      ]
     },
     "metadata": {
      "needs_background": "light"
     },
     "output_type": "display_data"
    }
   ],
   "source": [
    "#plt.figure(figsize=(2, 4), dpi=120)\n",
    "sns.catplot(x=\"segmento\", y=\"log_total\", hue='churn',\n",
    "            col = 'tipo',  order=rank, kind=\"violin\", split=True,\n",
    "            data=df3, palette=\"muted\", height=4)"
   ]
  },
  {
   "cell_type": "code",
   "execution_count": 16,
   "metadata": {},
   "outputs": [
    {
     "data": {
      "text/plain": [
       "<seaborn.axisgrid.FacetGrid at 0x13e024bb5b0>"
      ]
     },
     "execution_count": 16,
     "metadata": {},
     "output_type": "execute_result"
    },
    {
     "data": {
      "image/png": "[encoded data removed]",
      "text/plain": [
       "<Figure size 576x180 with 4 Axes>"
      ]
     },
     "metadata": {
      "needs_background": "light"
     },
     "output_type": "display_data"
    }
   ],
   "source": [
    "sns.catplot(x=\"churn\", col=\"segmento\", col_wrap=4,\n",
    "            data = df3,\n",
    "            kind=\"count\",\n",
    "            height=2.5, aspect=.8)"
   ]
  },
  {
   "cell_type": "code",
   "execution_count": 18,
   "metadata": {},
   "outputs": [
    {
     "data": {
      "text/plain": [
       "<seaborn.axisgrid.FacetGrid at 0x13e68d32910>"
      ]
     },
     "execution_count": 18,
     "metadata": {},
     "output_type": "execute_result"
    },
    {
     "data": {
      "image/png": "[encoded data removed]",
      "text/plain": [
       "<Figure size 576x180 with 2 Axes>"
      ]
     },
     "metadata": {
      "needs_background": "light"
     },
     "output_type": "display_data"
    }
   ],
   "source": [
    "sns.catplot(x=\"n_recl_com\", col=\"churn\", col_wrap=4,\n",
    "            data = df3,\n",
    "            kind=\"count\",\n",
    "            height=2.5, aspect=.8)"
   ]
  },
  {
   "cell_type": "code",
   "execution_count": 19,
   "metadata": {},
   "outputs": [
    {
     "data": {
      "text/plain": [
       "<seaborn.axisgrid.FacetGrid at 0x13e10568610>"
      ]
     },
     "execution_count": 19,
     "metadata": {},
     "output_type": "execute_result"
    },
    {
     "data": {
      "image/png": "[encoded data removed]",
      "text/plain": [
       "<Figure size 576x180 with 2 Axes>"
      ]
     },
     "metadata": {
      "needs_background": "light"
     },
     "output_type": "display_data"
    }
   ],
   "source": [
    "sns.catplot(x=\"n_recl_tec\", col=\"churn\", col_wrap=4,\n",
    "            data = df3,\n",
    "            kind=\"count\",\n",
    "            height=2.5, aspect=.8)"
   ]
  },
  {
   "cell_type": "markdown",
   "metadata": {},
   "source": [
    "## Dividimos dataset en train y test y aplicamos RUS"
   ]
  },
  {
   "cell_type": "code",
   "execution_count": 12,
   "metadata": {},
   "outputs": [],
   "source": [
    "y = df3['churn']\n",
    "\n",
    "x = df3.drop(['churn', 'n_churn', 'total',\n",
    "              'encriptado', 'periodo', 'nota_sem'], axis=1)\n",
    "\n",
    "x = pd.get_dummies(x, columns = ['segmento'])\n",
    "x = pd.get_dummies(x, columns = ['tipo'])\n",
    "\n",
    "x= StandardScaler().fit_transform(x)"
   ]
  },
  {
   "cell_type": "code",
   "execution_count": 13,
   "metadata": {},
   "outputs": [],
   "source": [
    "rus = RandomUnderSampler(random_state=0)\n",
    "#rus = RandomOverSampler(random_state=0)\n",
    "X_resampled, y_resampled = rus.fit_resample(x, y)"
   ]
  },
  {
   "cell_type": "code",
   "execution_count": 14,
   "metadata": {},
   "outputs": [],
   "source": [
    "X_train, X_test, y_train, y_test = train_test_split(X_resampled, y_resampled, test_size=0.20, random_state=42)"
   ]
  },
  {
   "cell_type": "markdown",
   "metadata": {},
   "source": [
    "# Probando AutoML"
   ]
  },
  {
   "cell_type": "code",
   "execution_count": null,
   "metadata": {},
   "outputs": [],
   "source": [
    "!pip install h2o\n",
    "import h2o\n",
    "from h2o.automl import H2OAutoML\n",
    "\n",
    "h2o.init()\n",
    "\n",
    "# Identify predictors and response\n",
    "x = X_train.columns\n",
    "y = \"response\"\n",
    "x.remove(y)\n",
    "\n",
    "# For binary classification, response should be a factor\n",
    "train[y] = train[y].astype(factor)\n",
    "test[y] = test[y].astype(factor)\n",
    "\n",
    "# Run AutoML for 20 base models (limited to 1 hour max runtime by default)\n",
    "aml = H2OAutoML(max_models=20, seed=1)\n",
    "aml.train(x=x, y=y, training_frame=train)\n",
    "\n",
    "# View the AutoML Leaderboard\n",
    "lb = aml.leaderboard\n",
    "lb.head(rows=lb.nrows)  # Print all rows instead of default (10 rows)"
   ]
  },
  {
   "cell_type": "code",
   "execution_count": null,
   "metadata": {},
   "outputs": [],
   "source": [
    "df3.v2 = df3.drop(['n_churn', 'total',\n",
    "              'encriptado', 'periodo', 'nota_sem'], axis=1)\n",
    "df3.v2 = pd.get_dummies(df3.v2, columns = ['segmento'])\n",
    "df3.v2 = pd.get_dummies(df3.v2, columns = ['tipo'])\n",
    "\n",
    "train, test = train_test_split(df3.v2, test_size=0.2)\n",
    "\n",
    "# Identify predictors and response\n",
    "x = list(train.columns)\n",
    "y = \"churn\"\n",
    "x.remove(y)\n",
    "\n",
    "# For binary classification, response should be a factor\n",
    "train[\"churn\"] = train[\"churn\"].astype('category')\n",
    "test[\"churn\"] = test[\"churn\"].astype('category')\n",
    "\n",
    "train=h2o.H2OFrame(train)\n",
    "\n",
    "\n",
    "# Run AutoML for 20 base models (limited to 1 hour max runtime by default)\n",
    "aml = H2OAutoML(max_models=20, seed=1)\n",
    "aml.train(x=x, y=y, training_frame=train)\n",
    "\n",
    "# View the AutoML Leaderboard\n",
    "lb = aml.leaderboard\n",
    "lb.head(rows=lb.nrows)  # Print all rows instead of default (10 rows)"
   ]
  },
  {
   "cell_type": "markdown",
   "metadata": {},
   "source": [
    "## SVM "
   ]
  },
  {
   "cell_type": "code",
   "execution_count": 35,
   "metadata": {},
   "outputs": [
    {
     "name": "stdout",
     "output_type": "stream",
     "text": [
      "              precision    recall  f1-score   support\n",
      "\n",
      "           0       0.58      0.71      0.64     16266\n",
      "           1       0.63      0.49      0.55     16453\n",
      "\n",
      "    accuracy                           0.60     32719\n",
      "   macro avg       0.60      0.60      0.59     32719\n",
      "weighted avg       0.60      0.60      0.59     32719\n",
      "\n"
     ]
    }
   ],
   "source": [
    "svm = LinearSVC(random_state=0, tol=0.001, max_iter=20000)\n",
    "svm.fit(X_train, y_train)\n",
    "\n",
    "y_pred = svm.predict(X_test)\n",
    "print(classification_report(y_test, y_pred))"
   ]
  },
  {
   "cell_type": "code",
   "execution_count": 24,
   "metadata": {},
   "outputs": [
    {
     "data": {
      "image/png": "[encoded data removed]",
      "text/plain": [
       "<Figure size 432x288 with 2 Axes>"
      ]
     },
     "metadata": {
      "needs_background": "light"
     },
     "output_type": "display_data"
    }
   ],
   "source": [
    "plot_confusion_matrix(svm, X_test, y_test)\n",
    "plt.title('Confusion Matrix')\n",
    "plt.show() "
   ]
  },
  {
   "cell_type": "code",
   "execution_count": null,
   "metadata": {},
   "outputs": [
    {
     "name": "stdout",
     "output_type": "stream",
     "text": [
      "Fitting 5 folds for each of 4 candidates, totalling 20 fits\n",
      "[CV 1/5] END ........................kernel=rbf;, score=0.606 total time=45.9min\n",
      "[CV 2/5] END ........................kernel=rbf;, score=0.603 total time=36.8min\n",
      "[CV 3/5] END ........................kernel=rbf;, score=0.606 total time=48.6min\n",
      "[CV 4/5] END ........................kernel=rbf;, score=0.607 total time=44.9min\n",
      "[CV 5/5] END ........................kernel=rbf;, score=0.608 total time=50.5min\n",
      "[CV 1/5] END .....................kernel=linear;, score=0.592 total time=28.0min\n",
      "[CV 2/5] END .....................kernel=linear;, score=0.594 total time=29.9min\n",
      "[CV 3/5] END .....................kernel=linear;, score=0.592 total time=27.7min\n",
      "[CV 4/5] END .....................kernel=linear;, score=0.586 total time=30.6min\n",
      "[CV 5/5] END .....................kernel=linear;, score=0.595 total time=27.2min\n"
     ]
    }
   ],
   "source": [
    "# # defining parameter range\n",
    "# param_grid = {#'C': [0.1, 10, 100, 1000], \n",
    "#               #'gamma': [1, 0.01, 0.0001],\n",
    "#               'kernel': ['rbf','linear', 'poly', 'sigmoid']} \n",
    "\n",
    "# grid_svm = GridSearchCV(SVC(), param_grid, refit = True, verbose = 3)\n",
    "  \n",
    "# # fitting the model for grid search\n",
    "# grid_svm.fit(X_train, y_train)"
   ]
  },
  {
   "cell_type": "code",
   "execution_count": null,
   "metadata": {},
   "outputs": [
    {
     "name": "stdout",
     "output_type": "stream",
     "text": [
      "Fitting 5 folds for each of 2 candidates, totalling 10 fits\n",
      "[CV 1/5] END ......................kernel=poly;, score=0.605 total time=121.0min\n",
      "[CV 2/5] END ......................kernel=poly;, score=0.602 total time=128.1min\n",
      "[CV 3/5] END ......................kernel=poly;, score=0.602 total time=119.5min\n",
      "[CV 4/5] END ......................kernel=poly;, score=0.605 total time=122.3min\n"
     ]
    }
   ],
   "source": [
    "# defining parameter range\n",
    "param_grid = {#'C': [0.1, 10, 100, 1000], \n",
    "              #'gamma': [1, 0.01, 0.0001],\n",
    "              'kernel': [ 'poly', 'sigmoid']} \n",
    "\n",
    "grid_svm = GridSearchCV(SVC(), param_grid, refit = True, verbose = 3)\n",
    "  \n",
    "#fitting the model for grid search\n",
    "grid_svm.fit(X_train, y_train)"
   ]
  },
  {
   "cell_type": "code",
   "execution_count": null,
   "metadata": {},
   "outputs": [],
   "source": [
    "grid_svm.best_params_"
   ]
  },
  {
   "cell_type": "markdown",
   "metadata": {},
   "source": [
    "## Logit"
   ]
  },
  {
   "cell_type": "code",
   "execution_count": 62,
   "metadata": {},
   "outputs": [
    {
     "name": "stdout",
     "output_type": "stream",
     "text": [
      "              precision    recall  f1-score   support\n",
      "\n",
      "           0       0.58      0.70      0.64     16266\n",
      "           1       0.63      0.50      0.55     16453\n",
      "\n",
      "    accuracy                           0.60     32719\n",
      "   macro avg       0.60      0.60      0.60     32719\n",
      "weighted avg       0.60      0.60      0.60     32719\n",
      "\n"
     ]
    }
   ],
   "source": [
    "logit = LogisticRegression(random_state=0, max_iter=500).fit(X_train, y_train)\n",
    "y_pred = logit.predict(X_test)\n",
    "print(classification_report(y_test, y_pred))"
   ]
  },
  {
   "cell_type": "code",
   "execution_count": 63,
   "metadata": {},
   "outputs": [
    {
     "data": {
      "image/png": "[encoded data removed]",
      "text/plain": [
       "<Figure size 432x288 with 2 Axes>"
      ]
     },
     "metadata": {
      "needs_background": "light"
     },
     "output_type": "display_data"
    }
   ],
   "source": [
    "disp = plot_confusion_matrix(logit, X_test, y_test,cmap='plasma')\n",
    "disp.figure_.suptitle(\"Confusion Matrix\", color=\"black\")\n",
    "plt.show()"
   ]
  },
  {
   "cell_type": "code",
   "execution_count": 58,
   "metadata": {
    "scrolled": true
   },
   "outputs": [
    {
     "name": "stdout",
     "output_type": "stream",
     "text": [
      "Fitting 5 folds for each of 120 candidates, totalling 600 fits\n",
      "[CV 1/5] END ....C=0.1, max_iter=100, tol=1e-07;, score=0.595 total time=   0.0s\n",
      "[CV 2/5] END ....C=0.1, max_iter=100, tol=1e-07;, score=0.605 total time=   0.0s\n",
      "[CV 3/5] END ....C=0.1, max_iter=100, tol=1e-07;, score=0.600 total time=   0.0s\n",
      "[CV 4/5] END ....C=0.1, max_iter=100, tol=1e-07;, score=0.603 total time=   0.0s\n",
      "[CV 5/5] END ....C=0.1, max_iter=100, tol=1e-07;, score=0.600 total time=   0.0s\n",
      "[CV 1/5] END ....C=0.1, max_iter=100, tol=1e-08;, score=0.595 total time=   0.0s\n",
      "[CV 2/5] END ....C=0.1, max_iter=100, tol=1e-08;, score=0.605 total time=   0.0s\n",
      "[CV 3/5] END ....C=0.1, max_iter=100, tol=1e-08;, score=0.600 total time=   0.0s\n",
      "[CV 4/5] END ....C=0.1, max_iter=100, tol=1e-08;, score=0.603 total time=   0.0s\n",
      "[CV 5/5] END ....C=0.1, max_iter=100, tol=1e-08;, score=0.600 total time=   0.0s\n",
      "[CV 1/5] END ....C=0.1, max_iter=100, tol=1e-09;, score=0.595 total time=   0.1s\n",
      "[CV 2/5] END ....C=0.1, max_iter=100, tol=1e-09;, score=0.605 total time=   0.1s\n",
      "[CV 3/5] END ....C=0.1, max_iter=100, tol=1e-09;, score=0.600 total time=   0.0s\n",
      "[CV 4/5] END ....C=0.1, max_iter=100, tol=1e-09;, score=0.603 total time=   0.1s\n",
      "[CV 5/5] END ....C=0.1, max_iter=100, tol=1e-09;, score=0.600 total time=   0.0s\n",
      "[CV 1/5] END ....C=0.1, max_iter=100, tol=1e-13;, score=0.595 total time=   0.0s\n",
      "[CV 2/5] END ....C=0.1, max_iter=100, tol=1e-13;, score=0.605 total time=   0.0s\n",
      "[CV 3/5] END ....C=0.1, max_iter=100, tol=1e-13;, score=0.600 total time=   0.1s\n",
      "[CV 4/5] END ....C=0.1, max_iter=100, tol=1e-13;, score=0.603 total time=   0.1s\n",
      "[CV 5/5] END ....C=0.1, max_iter=100, tol=1e-13;, score=0.600 total time=   0.1s\n",
      "[CV 1/5] END ....C=0.1, max_iter=500, tol=1e-07;, score=0.595 total time=   0.1s\n",
      "[CV 2/5] END ....C=0.1, max_iter=500, tol=1e-07;, score=0.605 total time=   0.0s\n",
      "[CV 3/5] END ....C=0.1, max_iter=500, tol=1e-07;, score=0.600 total time=   0.0s\n",
      "[CV 4/5] END ....C=0.1, max_iter=500, tol=1e-07;, score=0.603 total time=   0.0s\n",
      "[CV 5/5] END ....C=0.1, max_iter=500, tol=1e-07;, score=0.600 total time=   0.0s\n",
      "[CV 1/5] END ....C=0.1, max_iter=500, tol=1e-08;, score=0.595 total time=   0.0s\n",
      "[CV 2/5] END ....C=0.1, max_iter=500, tol=1e-08;, score=0.605 total time=   0.0s\n",
      "[CV 3/5] END ....C=0.1, max_iter=500, tol=1e-08;, score=0.600 total time=   0.0s\n",
      "[CV 4/5] END ....C=0.1, max_iter=500, tol=1e-08;, score=0.603 total time=   0.1s\n",
      "[CV 5/5] END ....C=0.1, max_iter=500, tol=1e-08;, score=0.600 total time=   0.0s\n",
      "[CV 1/5] END ....C=0.1, max_iter=500, tol=1e-09;, score=0.595 total time=   0.1s\n",
      "[CV 2/5] END ....C=0.1, max_iter=500, tol=1e-09;, score=0.605 total time=   0.0s\n",
      "[CV 3/5] END ....C=0.1, max_iter=500, tol=1e-09;, score=0.600 total time=   0.0s\n",
      "[CV 4/5] END ....C=0.1, max_iter=500, tol=1e-09;, score=0.603 total time=   0.0s\n",
      "[CV 5/5] END ....C=0.1, max_iter=500, tol=1e-09;, score=0.600 total time=   0.0s\n",
      "[CV 1/5] END ....C=0.1, max_iter=500, tol=1e-13;, score=0.595 total time=   0.0s\n",
      "[CV 2/5] END ....C=0.1, max_iter=500, tol=1e-13;, score=0.605 total time=   0.0s\n",
      "[CV 3/5] END ....C=0.1, max_iter=500, tol=1e-13;, score=0.600 total time=   0.0s\n",
      "[CV 4/5] END ....C=0.1, max_iter=500, tol=1e-13;, score=0.603 total time=   0.0s\n",
      "[CV 5/5] END ....C=0.1, max_iter=500, tol=1e-13;, score=0.600 total time=   0.0s\n",
      "[CV 1/5] END ...C=0.1, max_iter=1000, tol=1e-07;, score=0.595 total time=   0.0s\n",
      "[CV 2/5] END ...C=0.1, max_iter=1000, tol=1e-07;, score=0.605 total time=   0.0s\n",
      "[CV 3/5] END ...C=0.1, max_iter=1000, tol=1e-07;, score=0.600 total time=   0.1s\n",
      "[CV 4/5] END ...C=0.1, max_iter=1000, tol=1e-07;, score=0.603 total time=   0.0s\n",
      "[CV 5/5] END ...C=0.1, max_iter=1000, tol=1e-07;, score=0.600 total time=   0.0s\n",
      "[CV 1/5] END ...C=0.1, max_iter=1000, tol=1e-08;, score=0.595 total time=   0.0s\n",
      "[CV 2/5] END ...C=0.1, max_iter=1000, tol=1e-08;, score=0.605 total time=   0.0s\n",
      "[CV 3/5] END ...C=0.1, max_iter=1000, tol=1e-08;, score=0.600 total time=   0.0s\n",
      "[CV 4/5] END ...C=0.1, max_iter=1000, tol=1e-08;, score=0.603 total time=   0.1s\n",
      "[CV 5/5] END ...C=0.1, max_iter=1000, tol=1e-08;, score=0.600 total time=   0.1s\n",
      "[CV 1/5] END ...C=0.1, max_iter=1000, tol=1e-09;, score=0.595 total time=   0.1s\n",
      "[CV 2/5] END ...C=0.1, max_iter=1000, tol=1e-09;, score=0.605 total time=   0.0s\n",
      "[CV 3/5] END ...C=0.1, max_iter=1000, tol=1e-09;, score=0.600 total time=   0.0s\n",
      "[CV 4/5] END ...C=0.1, max_iter=1000, tol=1e-09;, score=0.603 total time=   0.0s\n",
      "[CV 5/5] END ...C=0.1, max_iter=1000, tol=1e-09;, score=0.600 total time=   0.0s\n",
      "[CV 1/5] END ...C=0.1, max_iter=1000, tol=1e-13;, score=0.595 total time=   0.0s\n",
      "[CV 2/5] END ...C=0.1, max_iter=1000, tol=1e-13;, score=0.605 total time=   0.1s\n",
      "[CV 3/5] END ...C=0.1, max_iter=1000, tol=1e-13;, score=0.600 total time=   0.3s\n",
      "[CV 4/5] END ...C=0.1, max_iter=1000, tol=1e-13;, score=0.603 total time=   0.2s\n",
      "[CV 5/5] END ...C=0.1, max_iter=1000, tol=1e-13;, score=0.600 total time=   0.1s\n",
      "[CV 1/5] END ...C=0.1, max_iter=5000, tol=1e-07;, score=0.595 total time=   0.0s\n",
      "[CV 2/5] END ...C=0.1, max_iter=5000, tol=1e-07;, score=0.605 total time=   0.0s\n",
      "[CV 3/5] END ...C=0.1, max_iter=5000, tol=1e-07;, score=0.600 total time=   0.0s\n",
      "[CV 4/5] END ...C=0.1, max_iter=5000, tol=1e-07;, score=0.603 total time=   0.0s\n",
      "[CV 5/5] END ...C=0.1, max_iter=5000, tol=1e-07;, score=0.600 total time=   0.0s\n",
      "[CV 1/5] END ...C=0.1, max_iter=5000, tol=1e-08;, score=0.595 total time=   0.0s\n",
      "[CV 2/5] END ...C=0.1, max_iter=5000, tol=1e-08;, score=0.605 total time=   0.0s\n",
      "[CV 3/5] END ...C=0.1, max_iter=5000, tol=1e-08;, score=0.600 total time=   0.0s\n",
      "[CV 4/5] END ...C=0.1, max_iter=5000, tol=1e-08;, score=0.603 total time=   0.1s\n",
      "[CV 5/5] END ...C=0.1, max_iter=5000, tol=1e-08;, score=0.600 total time=   0.1s\n",
      "[CV 1/5] END ...C=0.1, max_iter=5000, tol=1e-09;, score=0.595 total time=   0.3s\n",
      "[CV 2/5] END ...C=0.1, max_iter=5000, tol=1e-09;, score=0.605 total time=   0.1s\n",
      "[CV 3/5] END ...C=0.1, max_iter=5000, tol=1e-09;, score=0.600 total time=   0.1s\n",
      "[CV 4/5] END ...C=0.1, max_iter=5000, tol=1e-09;, score=0.603 total time=   0.1s\n",
      "[CV 5/5] END ...C=0.1, max_iter=5000, tol=1e-09;, score=0.600 total time=   0.0s\n",
      "[CV 1/5] END ...C=0.1, max_iter=5000, tol=1e-13;, score=0.595 total time=   0.0s\n",
      "[CV 2/5] END ...C=0.1, max_iter=5000, tol=1e-13;, score=0.605 total time=   0.0s\n",
      "[CV 3/5] END ...C=0.1, max_iter=5000, tol=1e-13;, score=0.600 total time=   0.0s\n",
      "[CV 4/5] END ...C=0.1, max_iter=5000, tol=1e-13;, score=0.603 total time=   0.0s\n",
      "[CV 5/5] END ...C=0.1, max_iter=5000, tol=1e-13;, score=0.600 total time=   0.0s\n",
      "[CV 1/5] END ..C=0.1, max_iter=10000, tol=1e-07;, score=0.595 total time=   0.1s\n",
      "[CV 2/5] END ..C=0.1, max_iter=10000, tol=1e-07;, score=0.605 total time=   0.2s\n",
      "[CV 3/5] END ..C=0.1, max_iter=10000, tol=1e-07;, score=0.600 total time=   0.1s\n",
      "[CV 4/5] END ..C=0.1, max_iter=10000, tol=1e-07;, score=0.603 total time=   0.0s\n",
      "[CV 5/5] END ..C=0.1, max_iter=10000, tol=1e-07;, score=0.600 total time=   0.0s\n",
      "[CV 1/5] END ..C=0.1, max_iter=10000, tol=1e-08;, score=0.595 total time=   0.0s\n",
      "[CV 2/5] END ..C=0.1, max_iter=10000, tol=1e-08;, score=0.605 total time=   0.0s\n",
      "[CV 3/5] END ..C=0.1, max_iter=10000, tol=1e-08;, score=0.600 total time=   0.0s\n",
      "[CV 4/5] END ..C=0.1, max_iter=10000, tol=1e-08;, score=0.603 total time=   0.0s\n",
      "[CV 5/5] END ..C=0.1, max_iter=10000, tol=1e-08;, score=0.600 total time=   0.1s\n",
      "[CV 1/5] END ..C=0.1, max_iter=10000, tol=1e-09;, score=0.595 total time=   0.0s\n",
      "[CV 2/5] END ..C=0.1, max_iter=10000, tol=1e-09;, score=0.605 total time=   0.0s\n",
      "[CV 3/5] END ..C=0.1, max_iter=10000, tol=1e-09;, score=0.600 total time=   0.0s\n",
      "[CV 4/5] END ..C=0.1, max_iter=10000, tol=1e-09;, score=0.603 total time=   0.0s\n",
      "[CV 5/5] END ..C=0.1, max_iter=10000, tol=1e-09;, score=0.600 total time=   0.0s\n",
      "[CV 1/5] END ..C=0.1, max_iter=10000, tol=1e-13;, score=0.595 total time=   0.0s\n",
      "[CV 2/5] END ..C=0.1, max_iter=10000, tol=1e-13;, score=0.605 total time=   0.0s\n",
      "[CV 3/5] END ..C=0.1, max_iter=10000, tol=1e-13;, score=0.600 total time=   0.0s\n",
      "[CV 4/5] END ..C=0.1, max_iter=10000, tol=1e-13;, score=0.603 total time=   0.0s\n",
      "[CV 5/5] END ..C=0.1, max_iter=10000, tol=1e-13;, score=0.600 total time=   0.0s\n",
      "[CV 1/5] END ......C=1, max_iter=100, tol=1e-07;, score=0.595 total time=   0.0s\n"
     ]
    },
    {
     "name": "stdout",
     "output_type": "stream",
     "text": [
      "[CV 2/5] END ......C=1, max_iter=100, tol=1e-07;, score=0.605 total time=   0.0s\n",
      "[CV 3/5] END ......C=1, max_iter=100, tol=1e-07;, score=0.600 total time=   0.0s\n",
      "[CV 4/5] END ......C=1, max_iter=100, tol=1e-07;, score=0.603 total time=   0.1s\n",
      "[CV 5/5] END ......C=1, max_iter=100, tol=1e-07;, score=0.600 total time=   0.0s\n",
      "[CV 1/5] END ......C=1, max_iter=100, tol=1e-08;, score=0.595 total time=   0.0s\n",
      "[CV 2/5] END ......C=1, max_iter=100, tol=1e-08;, score=0.605 total time=   0.0s\n",
      "[CV 3/5] END ......C=1, max_iter=100, tol=1e-08;, score=0.600 total time=   0.0s\n",
      "[CV 4/5] END ......C=1, max_iter=100, tol=1e-08;, score=0.603 total time=   0.0s\n",
      "[CV 5/5] END ......C=1, max_iter=100, tol=1e-08;, score=0.600 total time=   0.0s\n",
      "[CV 1/5] END ......C=1, max_iter=100, tol=1e-09;, score=0.595 total time=   0.0s\n",
      "[CV 2/5] END ......C=1, max_iter=100, tol=1e-09;, score=0.605 total time=   0.0s\n",
      "[CV 3/5] END ......C=1, max_iter=100, tol=1e-09;, score=0.600 total time=   0.0s\n",
      "[CV 4/5] END ......C=1, max_iter=100, tol=1e-09;, score=0.603 total time=   0.0s\n",
      "[CV 5/5] END ......C=1, max_iter=100, tol=1e-09;, score=0.600 total time=   0.0s\n",
      "[CV 1/5] END ......C=1, max_iter=100, tol=1e-13;, score=0.595 total time=   0.0s\n",
      "[CV 2/5] END ......C=1, max_iter=100, tol=1e-13;, score=0.605 total time=   0.0s\n",
      "[CV 3/5] END ......C=1, max_iter=100, tol=1e-13;, score=0.600 total time=   0.0s\n",
      "[CV 4/5] END ......C=1, max_iter=100, tol=1e-13;, score=0.603 total time=   0.0s\n",
      "[CV 5/5] END ......C=1, max_iter=100, tol=1e-13;, score=0.600 total time=   0.0s\n",
      "[CV 1/5] END ......C=1, max_iter=500, tol=1e-07;, score=0.595 total time=   0.0s\n",
      "[CV 2/5] END ......C=1, max_iter=500, tol=1e-07;, score=0.605 total time=   0.0s\n",
      "[CV 3/5] END ......C=1, max_iter=500, tol=1e-07;, score=0.600 total time=   0.0s\n",
      "[CV 4/5] END ......C=1, max_iter=500, tol=1e-07;, score=0.603 total time=   0.0s\n",
      "[CV 5/5] END ......C=1, max_iter=500, tol=1e-07;, score=0.600 total time=   0.0s\n",
      "[CV 1/5] END ......C=1, max_iter=500, tol=1e-08;, score=0.595 total time=   0.0s\n",
      "[CV 2/5] END ......C=1, max_iter=500, tol=1e-08;, score=0.605 total time=   0.0s\n",
      "[CV 3/5] END ......C=1, max_iter=500, tol=1e-08;, score=0.600 total time=   0.0s\n",
      "[CV 4/5] END ......C=1, max_iter=500, tol=1e-08;, score=0.603 total time=   0.0s\n",
      "[CV 5/5] END ......C=1, max_iter=500, tol=1e-08;, score=0.600 total time=   0.0s\n",
      "[CV 1/5] END ......C=1, max_iter=500, tol=1e-09;, score=0.595 total time=   0.0s\n",
      "[CV 2/5] END ......C=1, max_iter=500, tol=1e-09;, score=0.605 total time=   0.0s\n",
      "[CV 3/5] END ......C=1, max_iter=500, tol=1e-09;, score=0.600 total time=   0.0s\n",
      "[CV 4/5] END ......C=1, max_iter=500, tol=1e-09;, score=0.603 total time=   0.0s\n",
      "[CV 5/5] END ......C=1, max_iter=500, tol=1e-09;, score=0.600 total time=   0.0s\n",
      "[CV 1/5] END ......C=1, max_iter=500, tol=1e-13;, score=0.595 total time=   0.0s\n",
      "[CV 2/5] END ......C=1, max_iter=500, tol=1e-13;, score=0.605 total time=   0.0s\n",
      "[CV 3/5] END ......C=1, max_iter=500, tol=1e-13;, score=0.600 total time=   0.0s\n",
      "[CV 4/5] END ......C=1, max_iter=500, tol=1e-13;, score=0.603 total time=   0.0s\n",
      "[CV 5/5] END ......C=1, max_iter=500, tol=1e-13;, score=0.600 total time=   0.0s\n",
      "[CV 1/5] END .....C=1, max_iter=1000, tol=1e-07;, score=0.595 total time=   0.0s\n",
      "[CV 2/5] END .....C=1, max_iter=1000, tol=1e-07;, score=0.605 total time=   0.0s\n",
      "[CV 3/5] END .....C=1, max_iter=1000, tol=1e-07;, score=0.600 total time=   0.0s\n",
      "[CV 4/5] END .....C=1, max_iter=1000, tol=1e-07;, score=0.603 total time=   0.0s\n",
      "[CV 5/5] END .....C=1, max_iter=1000, tol=1e-07;, score=0.600 total time=   0.0s\n",
      "[CV 1/5] END .....C=1, max_iter=1000, tol=1e-08;, score=0.595 total time=   0.0s\n",
      "[CV 2/5] END .....C=1, max_iter=1000, tol=1e-08;, score=0.605 total time=   0.0s\n",
      "[CV 3/5] END .....C=1, max_iter=1000, tol=1e-08;, score=0.600 total time=   0.0s\n",
      "[CV 4/5] END .....C=1, max_iter=1000, tol=1e-08;, score=0.603 total time=   0.1s\n",
      "[CV 5/5] END .....C=1, max_iter=1000, tol=1e-08;, score=0.600 total time=   0.1s\n",
      "[CV 1/5] END .....C=1, max_iter=1000, tol=1e-09;, score=0.595 total time=   0.0s\n",
      "[CV 2/5] END .....C=1, max_iter=1000, tol=1e-09;, score=0.605 total time=   0.0s\n",
      "[CV 3/5] END .....C=1, max_iter=1000, tol=1e-09;, score=0.600 total time=   0.0s\n",
      "[CV 4/5] END .....C=1, max_iter=1000, tol=1e-09;, score=0.603 total time=   0.0s\n",
      "[CV 5/5] END .....C=1, max_iter=1000, tol=1e-09;, score=0.600 total time=   0.0s\n",
      "[CV 1/5] END .....C=1, max_iter=1000, tol=1e-13;, score=0.595 total time=   0.0s\n",
      "[CV 2/5] END .....C=1, max_iter=1000, tol=1e-13;, score=0.605 total time=   0.0s\n",
      "[CV 3/5] END .....C=1, max_iter=1000, tol=1e-13;, score=0.600 total time=   0.0s\n",
      "[CV 4/5] END .....C=1, max_iter=1000, tol=1e-13;, score=0.603 total time=   0.0s\n",
      "[CV 5/5] END .....C=1, max_iter=1000, tol=1e-13;, score=0.600 total time=   0.0s\n",
      "[CV 1/5] END .....C=1, max_iter=5000, tol=1e-07;, score=0.595 total time=   0.0s\n",
      "[CV 2/5] END .....C=1, max_iter=5000, tol=1e-07;, score=0.605 total time=   0.0s\n",
      "[CV 3/5] END .....C=1, max_iter=5000, tol=1e-07;, score=0.600 total time=   0.0s\n",
      "[CV 4/5] END .....C=1, max_iter=5000, tol=1e-07;, score=0.603 total time=   0.0s\n",
      "[CV 5/5] END .....C=1, max_iter=5000, tol=1e-07;, score=0.600 total time=   0.0s\n",
      "[CV 1/5] END .....C=1, max_iter=5000, tol=1e-08;, score=0.595 total time=   0.0s\n",
      "[CV 2/5] END .....C=1, max_iter=5000, tol=1e-08;, score=0.605 total time=   0.0s\n",
      "[CV 3/5] END .....C=1, max_iter=5000, tol=1e-08;, score=0.600 total time=   0.0s\n",
      "[CV 4/5] END .....C=1, max_iter=5000, tol=1e-08;, score=0.603 total time=   0.0s\n",
      "[CV 5/5] END .....C=1, max_iter=5000, tol=1e-08;, score=0.600 total time=   0.0s\n",
      "[CV 1/5] END .....C=1, max_iter=5000, tol=1e-09;, score=0.595 total time=   0.0s\n",
      "[CV 2/5] END .....C=1, max_iter=5000, tol=1e-09;, score=0.605 total time=   0.0s\n",
      "[CV 3/5] END .....C=1, max_iter=5000, tol=1e-09;, score=0.600 total time=   0.0s\n",
      "[CV 4/5] END .....C=1, max_iter=5000, tol=1e-09;, score=0.603 total time=   0.0s\n",
      "[CV 5/5] END .....C=1, max_iter=5000, tol=1e-09;, score=0.600 total time=   0.0s\n",
      "[CV 1/5] END .....C=1, max_iter=5000, tol=1e-13;, score=0.595 total time=   0.0s\n",
      "[CV 2/5] END .....C=1, max_iter=5000, tol=1e-13;, score=0.605 total time=   0.1s\n",
      "[CV 3/5] END .....C=1, max_iter=5000, tol=1e-13;, score=0.600 total time=   0.1s\n",
      "[CV 4/5] END .....C=1, max_iter=5000, tol=1e-13;, score=0.603 total time=   0.0s\n",
      "[CV 5/5] END .....C=1, max_iter=5000, tol=1e-13;, score=0.600 total time=   0.1s\n",
      "[CV 1/5] END ....C=1, max_iter=10000, tol=1e-07;, score=0.595 total time=   0.1s\n",
      "[CV 2/5] END ....C=1, max_iter=10000, tol=1e-07;, score=0.605 total time=   0.0s\n",
      "[CV 3/5] END ....C=1, max_iter=10000, tol=1e-07;, score=0.600 total time=   0.0s\n",
      "[CV 4/5] END ....C=1, max_iter=10000, tol=1e-07;, score=0.603 total time=   0.0s\n",
      "[CV 5/5] END ....C=1, max_iter=10000, tol=1e-07;, score=0.600 total time=   0.0s\n",
      "[CV 1/5] END ....C=1, max_iter=10000, tol=1e-08;, score=0.595 total time=   0.0s\n",
      "[CV 2/5] END ....C=1, max_iter=10000, tol=1e-08;, score=0.605 total time=   0.0s\n",
      "[CV 3/5] END ....C=1, max_iter=10000, tol=1e-08;, score=0.600 total time=   0.0s\n",
      "[CV 4/5] END ....C=1, max_iter=10000, tol=1e-08;, score=0.603 total time=   0.0s\n",
      "[CV 5/5] END ....C=1, max_iter=10000, tol=1e-08;, score=0.600 total time=   0.0s\n",
      "[CV 1/5] END ....C=1, max_iter=10000, tol=1e-09;, score=0.595 total time=   0.0s\n",
      "[CV 2/5] END ....C=1, max_iter=10000, tol=1e-09;, score=0.605 total time=   0.0s\n",
      "[CV 3/5] END ....C=1, max_iter=10000, tol=1e-09;, score=0.600 total time=   0.0s\n",
      "[CV 4/5] END ....C=1, max_iter=10000, tol=1e-09;, score=0.603 total time=   0.0s\n",
      "[CV 5/5] END ....C=1, max_iter=10000, tol=1e-09;, score=0.600 total time=   0.0s\n",
      "[CV 1/5] END ....C=1, max_iter=10000, tol=1e-13;, score=0.595 total time=   0.0s\n",
      "[CV 2/5] END ....C=1, max_iter=10000, tol=1e-13;, score=0.605 total time=   0.0s\n",
      "[CV 3/5] END ....C=1, max_iter=10000, tol=1e-13;, score=0.600 total time=   0.0s\n",
      "[CV 4/5] END ....C=1, max_iter=10000, tol=1e-13;, score=0.603 total time=   0.0s\n",
      "[CV 5/5] END ....C=1, max_iter=10000, tol=1e-13;, score=0.600 total time=   0.0s\n",
      "[CV 1/5] END .....C=10, max_iter=100, tol=1e-07;, score=0.595 total time=   0.0s\n",
      "[CV 2/5] END .....C=10, max_iter=100, tol=1e-07;, score=0.605 total time=   0.0s\n",
      "[CV 3/5] END .....C=10, max_iter=100, tol=1e-07;, score=0.600 total time=   0.0s\n"
     ]
    },
    {
     "name": "stdout",
     "output_type": "stream",
     "text": [
      "[CV 4/5] END .....C=10, max_iter=100, tol=1e-07;, score=0.603 total time=   0.0s\n",
      "[CV 5/5] END .....C=10, max_iter=100, tol=1e-07;, score=0.600 total time=   0.0s\n",
      "[CV 1/5] END .....C=10, max_iter=100, tol=1e-08;, score=0.595 total time=   0.1s\n",
      "[CV 2/5] END .....C=10, max_iter=100, tol=1e-08;, score=0.605 total time=   0.0s\n",
      "[CV 3/5] END .....C=10, max_iter=100, tol=1e-08;, score=0.600 total time=   0.1s\n",
      "[CV 4/5] END .....C=10, max_iter=100, tol=1e-08;, score=0.603 total time=   0.1s\n",
      "[CV 5/5] END .....C=10, max_iter=100, tol=1e-08;, score=0.600 total time=   0.0s\n",
      "[CV 1/5] END .....C=10, max_iter=100, tol=1e-09;, score=0.595 total time=   0.0s\n",
      "[CV 2/5] END .....C=10, max_iter=100, tol=1e-09;, score=0.605 total time=   0.0s\n",
      "[CV 3/5] END .....C=10, max_iter=100, tol=1e-09;, score=0.600 total time=   0.0s\n",
      "[CV 4/5] END .....C=10, max_iter=100, tol=1e-09;, score=0.603 total time=   0.0s\n",
      "[CV 5/5] END .....C=10, max_iter=100, tol=1e-09;, score=0.600 total time=   0.0s\n",
      "[CV 1/5] END .....C=10, max_iter=100, tol=1e-13;, score=0.595 total time=   0.1s\n",
      "[CV 2/5] END .....C=10, max_iter=100, tol=1e-13;, score=0.605 total time=   0.0s\n",
      "[CV 3/5] END .....C=10, max_iter=100, tol=1e-13;, score=0.600 total time=   0.0s\n",
      "[CV 4/5] END .....C=10, max_iter=100, tol=1e-13;, score=0.603 total time=   0.0s\n",
      "[CV 5/5] END .....C=10, max_iter=100, tol=1e-13;, score=0.600 total time=   0.0s\n",
      "[CV 1/5] END .....C=10, max_iter=500, tol=1e-07;, score=0.595 total time=   0.0s\n",
      "[CV 2/5] END .....C=10, max_iter=500, tol=1e-07;, score=0.605 total time=   0.0s\n",
      "[CV 3/5] END .....C=10, max_iter=500, tol=1e-07;, score=0.600 total time=   0.1s\n",
      "[CV 4/5] END .....C=10, max_iter=500, tol=1e-07;, score=0.603 total time=   0.1s\n",
      "[CV 5/5] END .....C=10, max_iter=500, tol=1e-07;, score=0.600 total time=   0.1s\n",
      "[CV 1/5] END .....C=10, max_iter=500, tol=1e-08;, score=0.595 total time=   0.1s\n",
      "[CV 2/5] END .....C=10, max_iter=500, tol=1e-08;, score=0.605 total time=   0.0s\n",
      "[CV 3/5] END .....C=10, max_iter=500, tol=1e-08;, score=0.600 total time=   0.0s\n",
      "[CV 4/5] END .....C=10, max_iter=500, tol=1e-08;, score=0.603 total time=   0.0s\n",
      "[CV 5/5] END .....C=10, max_iter=500, tol=1e-08;, score=0.600 total time=   0.0s\n",
      "[CV 1/5] END .....C=10, max_iter=500, tol=1e-09;, score=0.595 total time=   0.0s\n",
      "[CV 2/5] END .....C=10, max_iter=500, tol=1e-09;, score=0.605 total time=   0.0s\n",
      "[CV 3/5] END .....C=10, max_iter=500, tol=1e-09;, score=0.600 total time=   0.0s\n",
      "[CV 4/5] END .....C=10, max_iter=500, tol=1e-09;, score=0.603 total time=   0.0s\n",
      "[CV 5/5] END .....C=10, max_iter=500, tol=1e-09;, score=0.600 total time=   0.0s\n",
      "[CV 1/5] END .....C=10, max_iter=500, tol=1e-13;, score=0.595 total time=   0.0s\n",
      "[CV 2/5] END .....C=10, max_iter=500, tol=1e-13;, score=0.605 total time=   0.0s\n",
      "[CV 3/5] END .....C=10, max_iter=500, tol=1e-13;, score=0.600 total time=   0.1s\n",
      "[CV 4/5] END .....C=10, max_iter=500, tol=1e-13;, score=0.603 total time=   0.0s\n",
      "[CV 5/5] END .....C=10, max_iter=500, tol=1e-13;, score=0.600 total time=   0.0s\n",
      "[CV 1/5] END ....C=10, max_iter=1000, tol=1e-07;, score=0.595 total time=   0.0s\n",
      "[CV 2/5] END ....C=10, max_iter=1000, tol=1e-07;, score=0.605 total time=   0.1s\n",
      "[CV 3/5] END ....C=10, max_iter=1000, tol=1e-07;, score=0.600 total time=   0.2s\n",
      "[CV 4/5] END ....C=10, max_iter=1000, tol=1e-07;, score=0.603 total time=   0.3s\n",
      "[CV 5/5] END ....C=10, max_iter=1000, tol=1e-07;, score=0.600 total time=   0.1s\n",
      "[CV 1/5] END ....C=10, max_iter=1000, tol=1e-08;, score=0.595 total time=   0.0s\n",
      "[CV 2/5] END ....C=10, max_iter=1000, tol=1e-08;, score=0.605 total time=   0.0s\n",
      "[CV 3/5] END ....C=10, max_iter=1000, tol=1e-08;, score=0.600 total time=   0.0s\n",
      "[CV 4/5] END ....C=10, max_iter=1000, tol=1e-08;, score=0.603 total time=   0.0s\n",
      "[CV 5/5] END ....C=10, max_iter=1000, tol=1e-08;, score=0.600 total time=   0.0s\n",
      "[CV 1/5] END ....C=10, max_iter=1000, tol=1e-09;, score=0.595 total time=   0.0s\n",
      "[CV 2/5] END ....C=10, max_iter=1000, tol=1e-09;, score=0.605 total time=   0.0s\n",
      "[CV 3/5] END ....C=10, max_iter=1000, tol=1e-09;, score=0.600 total time=   0.1s\n",
      "[CV 4/5] END ....C=10, max_iter=1000, tol=1e-09;, score=0.603 total time=   0.1s\n",
      "[CV 5/5] END ....C=10, max_iter=1000, tol=1e-09;, score=0.600 total time=   0.1s\n",
      "[CV 1/5] END ....C=10, max_iter=1000, tol=1e-13;, score=0.595 total time=   0.0s\n",
      "[CV 2/5] END ....C=10, max_iter=1000, tol=1e-13;, score=0.605 total time=   0.0s\n",
      "[CV 3/5] END ....C=10, max_iter=1000, tol=1e-13;, score=0.600 total time=   0.0s\n",
      "[CV 4/5] END ....C=10, max_iter=1000, tol=1e-13;, score=0.603 total time=   0.0s\n",
      "[CV 5/5] END ....C=10, max_iter=1000, tol=1e-13;, score=0.600 total time=   0.0s\n",
      "[CV 1/5] END ....C=10, max_iter=5000, tol=1e-07;, score=0.595 total time=   0.0s\n",
      "[CV 2/5] END ....C=10, max_iter=5000, tol=1e-07;, score=0.605 total time=   0.0s\n",
      "[CV 3/5] END ....C=10, max_iter=5000, tol=1e-07;, score=0.600 total time=   0.0s\n",
      "[CV 4/5] END ....C=10, max_iter=5000, tol=1e-07;, score=0.603 total time=   0.0s\n",
      "[CV 5/5] END ....C=10, max_iter=5000, tol=1e-07;, score=0.600 total time=   0.1s\n",
      "[CV 1/5] END ....C=10, max_iter=5000, tol=1e-08;, score=0.595 total time=   0.0s\n",
      "[CV 2/5] END ....C=10, max_iter=5000, tol=1e-08;, score=0.605 total time=   0.0s\n",
      "[CV 3/5] END ....C=10, max_iter=5000, tol=1e-08;, score=0.600 total time=   0.0s\n",
      "[CV 4/5] END ....C=10, max_iter=5000, tol=1e-08;, score=0.603 total time=   0.1s\n",
      "[CV 5/5] END ....C=10, max_iter=5000, tol=1e-08;, score=0.600 total time=   0.0s\n",
      "[CV 1/5] END ....C=10, max_iter=5000, tol=1e-09;, score=0.595 total time=   0.1s\n",
      "[CV 2/5] END ....C=10, max_iter=5000, tol=1e-09;, score=0.605 total time=   0.0s\n",
      "[CV 3/5] END ....C=10, max_iter=5000, tol=1e-09;, score=0.600 total time=   0.0s\n",
      "[CV 4/5] END ....C=10, max_iter=5000, tol=1e-09;, score=0.603 total time=   0.0s\n",
      "[CV 5/5] END ....C=10, max_iter=5000, tol=1e-09;, score=0.600 total time=   0.0s\n",
      "[CV 1/5] END ....C=10, max_iter=5000, tol=1e-13;, score=0.595 total time=   0.0s\n",
      "[CV 2/5] END ....C=10, max_iter=5000, tol=1e-13;, score=0.605 total time=   0.0s\n",
      "[CV 3/5] END ....C=10, max_iter=5000, tol=1e-13;, score=0.600 total time=   0.0s\n",
      "[CV 4/5] END ....C=10, max_iter=5000, tol=1e-13;, score=0.603 total time=   0.0s\n",
      "[CV 5/5] END ....C=10, max_iter=5000, tol=1e-13;, score=0.600 total time=   0.0s\n",
      "[CV 1/5] END ...C=10, max_iter=10000, tol=1e-07;, score=0.595 total time=   0.0s\n",
      "[CV 2/5] END ...C=10, max_iter=10000, tol=1e-07;, score=0.605 total time=   0.0s\n",
      "[CV 3/5] END ...C=10, max_iter=10000, tol=1e-07;, score=0.600 total time=   0.1s\n",
      "[CV 4/5] END ...C=10, max_iter=10000, tol=1e-07;, score=0.603 total time=   0.0s\n",
      "[CV 5/5] END ...C=10, max_iter=10000, tol=1e-07;, score=0.600 total time=   0.0s\n",
      "[CV 1/5] END ...C=10, max_iter=10000, tol=1e-08;, score=0.595 total time=   0.0s\n",
      "[CV 2/5] END ...C=10, max_iter=10000, tol=1e-08;, score=0.605 total time=   0.0s\n",
      "[CV 3/5] END ...C=10, max_iter=10000, tol=1e-08;, score=0.600 total time=   0.0s\n",
      "[CV 4/5] END ...C=10, max_iter=10000, tol=1e-08;, score=0.603 total time=   0.0s\n",
      "[CV 5/5] END ...C=10, max_iter=10000, tol=1e-08;, score=0.600 total time=   0.0s\n",
      "[CV 1/5] END ...C=10, max_iter=10000, tol=1e-09;, score=0.595 total time=   0.0s\n",
      "[CV 2/5] END ...C=10, max_iter=10000, tol=1e-09;, score=0.605 total time=   0.0s\n",
      "[CV 3/5] END ...C=10, max_iter=10000, tol=1e-09;, score=0.600 total time=   0.0s\n",
      "[CV 4/5] END ...C=10, max_iter=10000, tol=1e-09;, score=0.603 total time=   0.0s\n",
      "[CV 5/5] END ...C=10, max_iter=10000, tol=1e-09;, score=0.600 total time=   0.0s\n",
      "[CV 1/5] END ...C=10, max_iter=10000, tol=1e-13;, score=0.595 total time=   0.0s\n",
      "[CV 2/5] END ...C=10, max_iter=10000, tol=1e-13;, score=0.605 total time=   0.0s\n",
      "[CV 3/5] END ...C=10, max_iter=10000, tol=1e-13;, score=0.600 total time=   0.0s\n",
      "[CV 4/5] END ...C=10, max_iter=10000, tol=1e-13;, score=0.603 total time=   0.1s\n",
      "[CV 5/5] END ...C=10, max_iter=10000, tol=1e-13;, score=0.600 total time=   0.1s\n",
      "[CV 1/5] END ....C=100, max_iter=100, tol=1e-07;, score=0.595 total time=   0.1s\n",
      "[CV 2/5] END ....C=100, max_iter=100, tol=1e-07;, score=0.605 total time=   0.0s\n",
      "[CV 3/5] END ....C=100, max_iter=100, tol=1e-07;, score=0.600 total time=   0.0s\n",
      "[CV 4/5] END ....C=100, max_iter=100, tol=1e-07;, score=0.603 total time=   0.1s\n",
      "[CV 5/5] END ....C=100, max_iter=100, tol=1e-07;, score=0.600 total time=   0.0s\n",
      "[CV 1/5] END ....C=100, max_iter=100, tol=1e-08;, score=0.595 total time=   0.0s\n"
     ]
    },
    {
     "name": "stdout",
     "output_type": "stream",
     "text": [
      "[CV 2/5] END ....C=100, max_iter=100, tol=1e-08;, score=0.605 total time=   0.1s\n",
      "[CV 3/5] END ....C=100, max_iter=100, tol=1e-08;, score=0.600 total time=   0.1s\n",
      "[CV 4/5] END ....C=100, max_iter=100, tol=1e-08;, score=0.603 total time=   0.1s\n",
      "[CV 5/5] END ....C=100, max_iter=100, tol=1e-08;, score=0.600 total time=   0.0s\n",
      "[CV 1/5] END ....C=100, max_iter=100, tol=1e-09;, score=0.595 total time=   0.0s\n",
      "[CV 2/5] END ....C=100, max_iter=100, tol=1e-09;, score=0.605 total time=   0.1s\n",
      "[CV 3/5] END ....C=100, max_iter=100, tol=1e-09;, score=0.600 total time=   0.1s\n",
      "[CV 4/5] END ....C=100, max_iter=100, tol=1e-09;, score=0.603 total time=   0.1s\n",
      "[CV 5/5] END ....C=100, max_iter=100, tol=1e-09;, score=0.600 total time=   0.0s\n",
      "[CV 1/5] END ....C=100, max_iter=100, tol=1e-13;, score=0.595 total time=   0.1s\n",
      "[CV 2/5] END ....C=100, max_iter=100, tol=1e-13;, score=0.605 total time=   0.0s\n",
      "[CV 3/5] END ....C=100, max_iter=100, tol=1e-13;, score=0.600 total time=   0.0s\n",
      "[CV 4/5] END ....C=100, max_iter=100, tol=1e-13;, score=0.603 total time=   0.0s\n",
      "[CV 5/5] END ....C=100, max_iter=100, tol=1e-13;, score=0.600 total time=   0.0s\n",
      "[CV 1/5] END ....C=100, max_iter=500, tol=1e-07;, score=0.595 total time=   0.0s\n",
      "[CV 2/5] END ....C=100, max_iter=500, tol=1e-07;, score=0.605 total time=   0.0s\n",
      "[CV 3/5] END ....C=100, max_iter=500, tol=1e-07;, score=0.600 total time=   0.0s\n",
      "[CV 4/5] END ....C=100, max_iter=500, tol=1e-07;, score=0.603 total time=   0.0s\n",
      "[CV 5/5] END ....C=100, max_iter=500, tol=1e-07;, score=0.600 total time=   0.0s\n",
      "[CV 1/5] END ....C=100, max_iter=500, tol=1e-08;, score=0.595 total time=   0.0s\n",
      "[CV 2/5] END ....C=100, max_iter=500, tol=1e-08;, score=0.605 total time=   0.0s\n",
      "[CV 3/5] END ....C=100, max_iter=500, tol=1e-08;, score=0.600 total time=   0.0s\n",
      "[CV 4/5] END ....C=100, max_iter=500, tol=1e-08;, score=0.603 total time=   0.0s\n",
      "[CV 5/5] END ....C=100, max_iter=500, tol=1e-08;, score=0.600 total time=   0.0s\n",
      "[CV 1/5] END ....C=100, max_iter=500, tol=1e-09;, score=0.595 total time=   0.1s\n",
      "[CV 2/5] END ....C=100, max_iter=500, tol=1e-09;, score=0.605 total time=   0.0s\n",
      "[CV 3/5] END ....C=100, max_iter=500, tol=1e-09;, score=0.600 total time=   0.0s\n",
      "[CV 4/5] END ....C=100, max_iter=500, tol=1e-09;, score=0.603 total time=   0.0s\n",
      "[CV 5/5] END ....C=100, max_iter=500, tol=1e-09;, score=0.600 total time=   0.0s\n",
      "[CV 1/5] END ....C=100, max_iter=500, tol=1e-13;, score=0.595 total time=   0.0s\n",
      "[CV 2/5] END ....C=100, max_iter=500, tol=1e-13;, score=0.605 total time=   0.0s\n",
      "[CV 3/5] END ....C=100, max_iter=500, tol=1e-13;, score=0.600 total time=   0.0s\n",
      "[CV 4/5] END ....C=100, max_iter=500, tol=1e-13;, score=0.603 total time=   0.0s\n",
      "[CV 5/5] END ....C=100, max_iter=500, tol=1e-13;, score=0.600 total time=   0.0s\n",
      "[CV 1/5] END ...C=100, max_iter=1000, tol=1e-07;, score=0.595 total time=   0.0s\n",
      "[CV 2/5] END ...C=100, max_iter=1000, tol=1e-07;, score=0.605 total time=   0.0s\n",
      "[CV 3/5] END ...C=100, max_iter=1000, tol=1e-07;, score=0.600 total time=   0.0s\n",
      "[CV 4/5] END ...C=100, max_iter=1000, tol=1e-07;, score=0.603 total time=   0.0s\n",
      "[CV 5/5] END ...C=100, max_iter=1000, tol=1e-07;, score=0.600 total time=   0.1s\n",
      "[CV 1/5] END ...C=100, max_iter=1000, tol=1e-08;, score=0.595 total time=   0.0s\n",
      "[CV 2/5] END ...C=100, max_iter=1000, tol=1e-08;, score=0.605 total time=   0.1s\n",
      "[CV 3/5] END ...C=100, max_iter=1000, tol=1e-08;, score=0.600 total time=   0.0s\n",
      "[CV 4/5] END ...C=100, max_iter=1000, tol=1e-08;, score=0.603 total time=   0.0s\n",
      "[CV 5/5] END ...C=100, max_iter=1000, tol=1e-08;, score=0.600 total time=   0.0s\n",
      "[CV 1/5] END ...C=100, max_iter=1000, tol=1e-09;, score=0.595 total time=   0.0s\n",
      "[CV 2/5] END ...C=100, max_iter=1000, tol=1e-09;, score=0.605 total time=   0.0s\n",
      "[CV 3/5] END ...C=100, max_iter=1000, tol=1e-09;, score=0.600 total time=   0.0s\n",
      "[CV 4/5] END ...C=100, max_iter=1000, tol=1e-09;, score=0.603 total time=   0.0s\n",
      "[CV 5/5] END ...C=100, max_iter=1000, tol=1e-09;, score=0.600 total time=   0.0s\n",
      "[CV 1/5] END ...C=100, max_iter=1000, tol=1e-13;, score=0.595 total time=   0.0s\n",
      "[CV 2/5] END ...C=100, max_iter=1000, tol=1e-13;, score=0.605 total time=   0.0s\n",
      "[CV 3/5] END ...C=100, max_iter=1000, tol=1e-13;, score=0.600 total time=   0.0s\n",
      "[CV 4/5] END ...C=100, max_iter=1000, tol=1e-13;, score=0.603 total time=   0.1s\n",
      "[CV 5/5] END ...C=100, max_iter=1000, tol=1e-13;, score=0.600 total time=   0.1s\n",
      "[CV 1/5] END ...C=100, max_iter=5000, tol=1e-07;, score=0.595 total time=   0.1s\n",
      "[CV 2/5] END ...C=100, max_iter=5000, tol=1e-07;, score=0.605 total time=   0.0s\n",
      "[CV 3/5] END ...C=100, max_iter=5000, tol=1e-07;, score=0.600 total time=   0.0s\n",
      "[CV 4/5] END ...C=100, max_iter=5000, tol=1e-07;, score=0.603 total time=   0.1s\n",
      "[CV 5/5] END ...C=100, max_iter=5000, tol=1e-07;, score=0.600 total time=   0.0s\n",
      "[CV 1/5] END ...C=100, max_iter=5000, tol=1e-08;, score=0.595 total time=   0.0s\n",
      "[CV 2/5] END ...C=100, max_iter=5000, tol=1e-08;, score=0.605 total time=   0.0s\n",
      "[CV 3/5] END ...C=100, max_iter=5000, tol=1e-08;, score=0.600 total time=   0.1s\n",
      "[CV 4/5] END ...C=100, max_iter=5000, tol=1e-08;, score=0.603 total time=   0.3s\n",
      "[CV 5/5] END ...C=100, max_iter=5000, tol=1e-08;, score=0.600 total time=   0.1s\n",
      "[CV 1/5] END ...C=100, max_iter=5000, tol=1e-09;, score=0.595 total time=   0.1s\n",
      "[CV 2/5] END ...C=100, max_iter=5000, tol=1e-09;, score=0.605 total time=   0.0s\n",
      "[CV 3/5] END ...C=100, max_iter=5000, tol=1e-09;, score=0.600 total time=   0.0s\n",
      "[CV 4/5] END ...C=100, max_iter=5000, tol=1e-09;, score=0.603 total time=   0.1s\n",
      "[CV 5/5] END ...C=100, max_iter=5000, tol=1e-09;, score=0.600 total time=   0.0s\n",
      "[CV 1/5] END ...C=100, max_iter=5000, tol=1e-13;, score=0.595 total time=   0.0s\n",
      "[CV 2/5] END ...C=100, max_iter=5000, tol=1e-13;, score=0.605 total time=   0.0s\n",
      "[CV 3/5] END ...C=100, max_iter=5000, tol=1e-13;, score=0.600 total time=   0.0s\n",
      "[CV 4/5] END ...C=100, max_iter=5000, tol=1e-13;, score=0.603 total time=   0.0s\n",
      "[CV 5/5] END ...C=100, max_iter=5000, tol=1e-13;, score=0.600 total time=   0.0s\n",
      "[CV 1/5] END ..C=100, max_iter=10000, tol=1e-07;, score=0.595 total time=   0.0s\n",
      "[CV 2/5] END ..C=100, max_iter=10000, tol=1e-07;, score=0.605 total time=   0.0s\n",
      "[CV 3/5] END ..C=100, max_iter=10000, tol=1e-07;, score=0.600 total time=   0.0s\n",
      "[CV 4/5] END ..C=100, max_iter=10000, tol=1e-07;, score=0.603 total time=   0.0s\n",
      "[CV 5/5] END ..C=100, max_iter=10000, tol=1e-07;, score=0.600 total time=   0.0s\n",
      "[CV 1/5] END ..C=100, max_iter=10000, tol=1e-08;, score=0.595 total time=   0.0s\n",
      "[CV 2/5] END ..C=100, max_iter=10000, tol=1e-08;, score=0.605 total time=   0.0s\n",
      "[CV 3/5] END ..C=100, max_iter=10000, tol=1e-08;, score=0.600 total time=   0.0s\n",
      "[CV 4/5] END ..C=100, max_iter=10000, tol=1e-08;, score=0.603 total time=   0.0s\n",
      "[CV 5/5] END ..C=100, max_iter=10000, tol=1e-08;, score=0.600 total time=   0.0s\n",
      "[CV 1/5] END ..C=100, max_iter=10000, tol=1e-09;, score=0.595 total time=   0.0s\n",
      "[CV 2/5] END ..C=100, max_iter=10000, tol=1e-09;, score=0.605 total time=   0.1s\n",
      "[CV 3/5] END ..C=100, max_iter=10000, tol=1e-09;, score=0.600 total time=   0.0s\n",
      "[CV 4/5] END ..C=100, max_iter=10000, tol=1e-09;, score=0.603 total time=   0.0s\n",
      "[CV 5/5] END ..C=100, max_iter=10000, tol=1e-09;, score=0.600 total time=   0.0s\n",
      "[CV 1/5] END ..C=100, max_iter=10000, tol=1e-13;, score=0.595 total time=   0.0s\n",
      "[CV 2/5] END ..C=100, max_iter=10000, tol=1e-13;, score=0.605 total time=   0.0s\n",
      "[CV 3/5] END ..C=100, max_iter=10000, tol=1e-13;, score=0.600 total time=   0.1s\n",
      "[CV 4/5] END ..C=100, max_iter=10000, tol=1e-13;, score=0.603 total time=   0.1s\n",
      "[CV 5/5] END ..C=100, max_iter=10000, tol=1e-13;, score=0.600 total time=   0.0s\n",
      "[CV 1/5] END ...C=1000, max_iter=100, tol=1e-07;, score=0.595 total time=   0.0s\n",
      "[CV 2/5] END ...C=1000, max_iter=100, tol=1e-07;, score=0.605 total time=   0.0s\n",
      "[CV 3/5] END ...C=1000, max_iter=100, tol=1e-07;, score=0.600 total time=   0.0s\n",
      "[CV 4/5] END ...C=1000, max_iter=100, tol=1e-07;, score=0.603 total time=   0.0s\n",
      "[CV 5/5] END ...C=1000, max_iter=100, tol=1e-07;, score=0.600 total time=   0.0s\n",
      "[CV 1/5] END ...C=1000, max_iter=100, tol=1e-08;, score=0.595 total time=   0.0s\n",
      "[CV 2/5] END ...C=1000, max_iter=100, tol=1e-08;, score=0.605 total time=   0.0s\n",
      "[CV 3/5] END ...C=1000, max_iter=100, tol=1e-08;, score=0.600 total time=   0.0s\n",
      "[CV 4/5] END ...C=1000, max_iter=100, tol=1e-08;, score=0.603 total time=   0.0s\n"
     ]
    },
    {
     "name": "stdout",
     "output_type": "stream",
     "text": [
      "[CV 5/5] END ...C=1000, max_iter=100, tol=1e-08;, score=0.600 total time=   0.0s\n",
      "[CV 1/5] END ...C=1000, max_iter=100, tol=1e-09;, score=0.595 total time=   0.0s\n",
      "[CV 2/5] END ...C=1000, max_iter=100, tol=1e-09;, score=0.605 total time=   0.0s\n",
      "[CV 3/5] END ...C=1000, max_iter=100, tol=1e-09;, score=0.600 total time=   0.0s\n",
      "[CV 4/5] END ...C=1000, max_iter=100, tol=1e-09;, score=0.603 total time=   0.0s\n",
      "[CV 5/5] END ...C=1000, max_iter=100, tol=1e-09;, score=0.600 total time=   0.0s\n",
      "[CV 1/5] END ...C=1000, max_iter=100, tol=1e-13;, score=0.595 total time=   0.0s\n",
      "[CV 2/5] END ...C=1000, max_iter=100, tol=1e-13;, score=0.605 total time=   0.0s\n",
      "[CV 3/5] END ...C=1000, max_iter=100, tol=1e-13;, score=0.600 total time=   0.0s\n",
      "[CV 4/5] END ...C=1000, max_iter=100, tol=1e-13;, score=0.603 total time=   0.0s\n",
      "[CV 5/5] END ...C=1000, max_iter=100, tol=1e-13;, score=0.600 total time=   0.0s\n",
      "[CV 1/5] END ...C=1000, max_iter=500, tol=1e-07;, score=0.595 total time=   0.0s\n",
      "[CV 2/5] END ...C=1000, max_iter=500, tol=1e-07;, score=0.605 total time=   0.0s\n",
      "[CV 3/5] END ...C=1000, max_iter=500, tol=1e-07;, score=0.600 total time=   0.0s\n",
      "[CV 4/5] END ...C=1000, max_iter=500, tol=1e-07;, score=0.603 total time=   0.0s\n",
      "[CV 5/5] END ...C=1000, max_iter=500, tol=1e-07;, score=0.600 total time=   0.0s\n",
      "[CV 1/5] END ...C=1000, max_iter=500, tol=1e-08;, score=0.595 total time=   0.0s\n",
      "[CV 2/5] END ...C=1000, max_iter=500, tol=1e-08;, score=0.605 total time=   0.0s\n",
      "[CV 3/5] END ...C=1000, max_iter=500, tol=1e-08;, score=0.600 total time=   0.0s\n",
      "[CV 4/5] END ...C=1000, max_iter=500, tol=1e-08;, score=0.603 total time=   0.0s\n",
      "[CV 5/5] END ...C=1000, max_iter=500, tol=1e-08;, score=0.600 total time=   0.0s\n",
      "[CV 1/5] END ...C=1000, max_iter=500, tol=1e-09;, score=0.595 total time=   0.0s\n",
      "[CV 2/5] END ...C=1000, max_iter=500, tol=1e-09;, score=0.605 total time=   0.0s\n",
      "[CV 3/5] END ...C=1000, max_iter=500, tol=1e-09;, score=0.600 total time=   0.0s\n",
      "[CV 4/5] END ...C=1000, max_iter=500, tol=1e-09;, score=0.603 total time=   0.0s\n",
      "[CV 5/5] END ...C=1000, max_iter=500, tol=1e-09;, score=0.600 total time=   0.0s\n",
      "[CV 1/5] END ...C=1000, max_iter=500, tol=1e-13;, score=0.595 total time=   0.1s\n",
      "[CV 2/5] END ...C=1000, max_iter=500, tol=1e-13;, score=0.605 total time=   0.0s\n",
      "[CV 3/5] END ...C=1000, max_iter=500, tol=1e-13;, score=0.600 total time=   0.0s\n",
      "[CV 4/5] END ...C=1000, max_iter=500, tol=1e-13;, score=0.603 total time=   0.0s\n",
      "[CV 5/5] END ...C=1000, max_iter=500, tol=1e-13;, score=0.600 total time=   0.0s\n",
      "[CV 1/5] END ..C=1000, max_iter=1000, tol=1e-07;, score=0.595 total time=   0.0s\n",
      "[CV 2/5] END ..C=1000, max_iter=1000, tol=1e-07;, score=0.605 total time=   0.0s\n",
      "[CV 3/5] END ..C=1000, max_iter=1000, tol=1e-07;, score=0.600 total time=   0.0s\n",
      "[CV 4/5] END ..C=1000, max_iter=1000, tol=1e-07;, score=0.603 total time=   0.0s\n",
      "[CV 5/5] END ..C=1000, max_iter=1000, tol=1e-07;, score=0.600 total time=   0.0s\n",
      "[CV 1/5] END ..C=1000, max_iter=1000, tol=1e-08;, score=0.595 total time=   0.1s\n",
      "[CV 2/5] END ..C=1000, max_iter=1000, tol=1e-08;, score=0.605 total time=   0.0s\n",
      "[CV 3/5] END ..C=1000, max_iter=1000, tol=1e-08;, score=0.600 total time=   0.1s\n",
      "[CV 4/5] END ..C=1000, max_iter=1000, tol=1e-08;, score=0.603 total time=   0.0s\n",
      "[CV 5/5] END ..C=1000, max_iter=1000, tol=1e-08;, score=0.600 total time=   0.0s\n",
      "[CV 1/5] END ..C=1000, max_iter=1000, tol=1e-09;, score=0.595 total time=   0.0s\n",
      "[CV 2/5] END ..C=1000, max_iter=1000, tol=1e-09;, score=0.605 total time=   0.0s\n",
      "[CV 3/5] END ..C=1000, max_iter=1000, tol=1e-09;, score=0.600 total time=   0.0s\n",
      "[CV 4/5] END ..C=1000, max_iter=1000, tol=1e-09;, score=0.603 total time=   0.0s\n",
      "[CV 5/5] END ..C=1000, max_iter=1000, tol=1e-09;, score=0.600 total time=   0.0s\n",
      "[CV 1/5] END ..C=1000, max_iter=1000, tol=1e-13;, score=0.595 total time=   0.0s\n",
      "[CV 2/5] END ..C=1000, max_iter=1000, tol=1e-13;, score=0.605 total time=   0.0s\n",
      "[CV 3/5] END ..C=1000, max_iter=1000, tol=1e-13;, score=0.600 total time=   0.0s\n",
      "[CV 4/5] END ..C=1000, max_iter=1000, tol=1e-13;, score=0.603 total time=   0.0s\n",
      "[CV 5/5] END ..C=1000, max_iter=1000, tol=1e-13;, score=0.600 total time=   0.0s\n",
      "[CV 1/5] END ..C=1000, max_iter=5000, tol=1e-07;, score=0.595 total time=   0.0s\n",
      "[CV 2/5] END ..C=1000, max_iter=5000, tol=1e-07;, score=0.605 total time=   0.0s\n",
      "[CV 3/5] END ..C=1000, max_iter=5000, tol=1e-07;, score=0.600 total time=   0.0s\n",
      "[CV 4/5] END ..C=1000, max_iter=5000, tol=1e-07;, score=0.603 total time=   0.1s\n",
      "[CV 5/5] END ..C=1000, max_iter=5000, tol=1e-07;, score=0.600 total time=   0.0s\n",
      "[CV 1/5] END ..C=1000, max_iter=5000, tol=1e-08;, score=0.595 total time=   0.1s\n",
      "[CV 2/5] END ..C=1000, max_iter=5000, tol=1e-08;, score=0.605 total time=   0.0s\n",
      "[CV 3/5] END ..C=1000, max_iter=5000, tol=1e-08;, score=0.600 total time=   0.0s\n",
      "[CV 4/5] END ..C=1000, max_iter=5000, tol=1e-08;, score=0.603 total time=   0.1s\n",
      "[CV 5/5] END ..C=1000, max_iter=5000, tol=1e-08;, score=0.600 total time=   0.0s\n",
      "[CV 1/5] END ..C=1000, max_iter=5000, tol=1e-09;, score=0.595 total time=   0.0s\n",
      "[CV 2/5] END ..C=1000, max_iter=5000, tol=1e-09;, score=0.605 total time=   0.1s\n",
      "[CV 3/5] END ..C=1000, max_iter=5000, tol=1e-09;, score=0.600 total time=   0.1s\n",
      "[CV 4/5] END ..C=1000, max_iter=5000, tol=1e-09;, score=0.603 total time=   0.3s\n",
      "[CV 5/5] END ..C=1000, max_iter=5000, tol=1e-09;, score=0.600 total time=   0.1s\n",
      "[CV 1/5] END ..C=1000, max_iter=5000, tol=1e-13;, score=0.595 total time=   0.1s\n",
      "[CV 2/5] END ..C=1000, max_iter=5000, tol=1e-13;, score=0.605 total time=   0.0s\n",
      "[CV 3/5] END ..C=1000, max_iter=5000, tol=1e-13;, score=0.600 total time=   0.0s\n",
      "[CV 4/5] END ..C=1000, max_iter=5000, tol=1e-13;, score=0.603 total time=   0.1s\n",
      "[CV 5/5] END ..C=1000, max_iter=5000, tol=1e-13;, score=0.600 total time=   0.6s\n",
      "[CV 1/5] END .C=1000, max_iter=10000, tol=1e-07;, score=0.595 total time=   0.2s\n",
      "[CV 2/5] END .C=1000, max_iter=10000, tol=1e-07;, score=0.605 total time=   0.0s\n",
      "[CV 3/5] END .C=1000, max_iter=10000, tol=1e-07;, score=0.600 total time=   0.0s\n",
      "[CV 4/5] END .C=1000, max_iter=10000, tol=1e-07;, score=0.603 total time=   0.0s\n",
      "[CV 5/5] END .C=1000, max_iter=10000, tol=1e-07;, score=0.600 total time=   0.0s\n",
      "[CV 1/5] END .C=1000, max_iter=10000, tol=1e-08;, score=0.595 total time=   0.1s\n",
      "[CV 2/5] END .C=1000, max_iter=10000, tol=1e-08;, score=0.605 total time=   0.1s\n",
      "[CV 3/5] END .C=1000, max_iter=10000, tol=1e-08;, score=0.600 total time=   0.1s\n",
      "[CV 4/5] END .C=1000, max_iter=10000, tol=1e-08;, score=0.603 total time=   0.1s\n",
      "[CV 5/5] END .C=1000, max_iter=10000, tol=1e-08;, score=0.600 total time=   0.0s\n",
      "[CV 1/5] END .C=1000, max_iter=10000, tol=1e-09;, score=0.595 total time=   0.0s\n",
      "[CV 2/5] END .C=1000, max_iter=10000, tol=1e-09;, score=0.605 total time=   0.0s\n",
      "[CV 3/5] END .C=1000, max_iter=10000, tol=1e-09;, score=0.600 total time=   0.0s\n",
      "[CV 4/5] END .C=1000, max_iter=10000, tol=1e-09;, score=0.603 total time=   0.1s\n",
      "[CV 5/5] END .C=1000, max_iter=10000, tol=1e-09;, score=0.600 total time=   0.0s\n",
      "[CV 1/5] END .C=1000, max_iter=10000, tol=1e-13;, score=0.595 total time=   0.0s\n",
      "[CV 2/5] END .C=1000, max_iter=10000, tol=1e-13;, score=0.605 total time=   0.0s\n",
      "[CV 3/5] END .C=1000, max_iter=10000, tol=1e-13;, score=0.600 total time=   0.0s\n",
      "[CV 4/5] END .C=1000, max_iter=10000, tol=1e-13;, score=0.603 total time=   0.0s\n",
      "[CV 5/5] END .C=1000, max_iter=10000, tol=1e-13;, score=0.600 total time=   0.0s\n",
      "[CV 1/5] END ..C=10000, max_iter=100, tol=1e-07;, score=0.595 total time=   0.0s\n",
      "[CV 2/5] END ..C=10000, max_iter=100, tol=1e-07;, score=0.605 total time=   0.0s\n",
      "[CV 3/5] END ..C=10000, max_iter=100, tol=1e-07;, score=0.600 total time=   0.0s\n",
      "[CV 4/5] END ..C=10000, max_iter=100, tol=1e-07;, score=0.603 total time=   0.0s\n",
      "[CV 5/5] END ..C=10000, max_iter=100, tol=1e-07;, score=0.600 total time=   0.0s\n",
      "[CV 1/5] END ..C=10000, max_iter=100, tol=1e-08;, score=0.595 total time=   0.0s\n",
      "[CV 2/5] END ..C=10000, max_iter=100, tol=1e-08;, score=0.605 total time=   0.0s\n",
      "[CV 3/5] END ..C=10000, max_iter=100, tol=1e-08;, score=0.600 total time=   0.1s\n",
      "[CV 4/5] END ..C=10000, max_iter=100, tol=1e-08;, score=0.603 total time=   0.0s\n",
      "[CV 5/5] END ..C=10000, max_iter=100, tol=1e-08;, score=0.600 total time=   0.0s\n",
      "[CV 1/5] END ..C=10000, max_iter=100, tol=1e-09;, score=0.595 total time=   0.1s\n",
      "[CV 2/5] END ..C=10000, max_iter=100, tol=1e-09;, score=0.605 total time=   0.0s\n"
     ]
    },
    {
     "name": "stdout",
     "output_type": "stream",
     "text": [
      "[CV 3/5] END ..C=10000, max_iter=100, tol=1e-09;, score=0.600 total time=   0.0s\n",
      "[CV 4/5] END ..C=10000, max_iter=100, tol=1e-09;, score=0.603 total time=   0.0s\n",
      "[CV 5/5] END ..C=10000, max_iter=100, tol=1e-09;, score=0.600 total time=   0.0s\n",
      "[CV 1/5] END ..C=10000, max_iter=100, tol=1e-13;, score=0.595 total time=   0.0s\n",
      "[CV 2/5] END ..C=10000, max_iter=100, tol=1e-13;, score=0.605 total time=   0.0s\n",
      "[CV 3/5] END ..C=10000, max_iter=100, tol=1e-13;, score=0.600 total time=   0.0s\n",
      "[CV 4/5] END ..C=10000, max_iter=100, tol=1e-13;, score=0.603 total time=   0.0s\n",
      "[CV 5/5] END ..C=10000, max_iter=100, tol=1e-13;, score=0.600 total time=   0.0s\n",
      "[CV 1/5] END ..C=10000, max_iter=500, tol=1e-07;, score=0.595 total time=   0.0s\n",
      "[CV 2/5] END ..C=10000, max_iter=500, tol=1e-07;, score=0.605 total time=   0.0s\n",
      "[CV 3/5] END ..C=10000, max_iter=500, tol=1e-07;, score=0.600 total time=   0.0s\n",
      "[CV 4/5] END ..C=10000, max_iter=500, tol=1e-07;, score=0.603 total time=   0.0s\n",
      "[CV 5/5] END ..C=10000, max_iter=500, tol=1e-07;, score=0.600 total time=   0.1s\n",
      "[CV 1/5] END ..C=10000, max_iter=500, tol=1e-08;, score=0.595 total time=   0.1s\n",
      "[CV 2/5] END ..C=10000, max_iter=500, tol=1e-08;, score=0.605 total time=   0.0s\n",
      "[CV 3/5] END ..C=10000, max_iter=500, tol=1e-08;, score=0.600 total time=   0.0s\n",
      "[CV 4/5] END ..C=10000, max_iter=500, tol=1e-08;, score=0.603 total time=   0.0s\n",
      "[CV 5/5] END ..C=10000, max_iter=500, tol=1e-08;, score=0.600 total time=   0.0s\n",
      "[CV 1/5] END ..C=10000, max_iter=500, tol=1e-09;, score=0.595 total time=   0.0s\n",
      "[CV 2/5] END ..C=10000, max_iter=500, tol=1e-09;, score=0.605 total time=   0.0s\n",
      "[CV 3/5] END ..C=10000, max_iter=500, tol=1e-09;, score=0.600 total time=   0.0s\n",
      "[CV 4/5] END ..C=10000, max_iter=500, tol=1e-09;, score=0.603 total time=   0.0s\n",
      "[CV 5/5] END ..C=10000, max_iter=500, tol=1e-09;, score=0.600 total time=   0.0s\n",
      "[CV 1/5] END ..C=10000, max_iter=500, tol=1e-13;, score=0.595 total time=   0.0s\n",
      "[CV 2/5] END ..C=10000, max_iter=500, tol=1e-13;, score=0.605 total time=   0.0s\n",
      "[CV 3/5] END ..C=10000, max_iter=500, tol=1e-13;, score=0.600 total time=   0.0s\n",
      "[CV 4/5] END ..C=10000, max_iter=500, tol=1e-13;, score=0.603 total time=   0.1s\n",
      "[CV 5/5] END ..C=10000, max_iter=500, tol=1e-13;, score=0.600 total time=   0.1s\n",
      "[CV 1/5] END .C=10000, max_iter=1000, tol=1e-07;, score=0.595 total time=   0.1s\n",
      "[CV 2/5] END .C=10000, max_iter=1000, tol=1e-07;, score=0.605 total time=   0.0s\n",
      "[CV 3/5] END .C=10000, max_iter=1000, tol=1e-07;, score=0.600 total time=   0.0s\n",
      "[CV 4/5] END .C=10000, max_iter=1000, tol=1e-07;, score=0.603 total time=   0.0s\n",
      "[CV 5/5] END .C=10000, max_iter=1000, tol=1e-07;, score=0.600 total time=   0.0s\n",
      "[CV 1/5] END .C=10000, max_iter=1000, tol=1e-08;, score=0.595 total time=   0.0s\n",
      "[CV 2/5] END .C=10000, max_iter=1000, tol=1e-08;, score=0.605 total time=   0.0s\n",
      "[CV 3/5] END .C=10000, max_iter=1000, tol=1e-08;, score=0.600 total time=   0.0s\n",
      "[CV 4/5] END .C=10000, max_iter=1000, tol=1e-08;, score=0.603 total time=   0.1s\n",
      "[CV 5/5] END .C=10000, max_iter=1000, tol=1e-08;, score=0.600 total time=   0.0s\n",
      "[CV 1/5] END .C=10000, max_iter=1000, tol=1e-09;, score=0.595 total time=   0.0s\n",
      "[CV 2/5] END .C=10000, max_iter=1000, tol=1e-09;, score=0.605 total time=   0.0s\n",
      "[CV 3/5] END .C=10000, max_iter=1000, tol=1e-09;, score=0.600 total time=   0.0s\n",
      "[CV 4/5] END .C=10000, max_iter=1000, tol=1e-09;, score=0.603 total time=   0.0s\n",
      "[CV 5/5] END .C=10000, max_iter=1000, tol=1e-09;, score=0.600 total time=   0.1s\n",
      "[CV 1/5] END .C=10000, max_iter=1000, tol=1e-13;, score=0.595 total time=   0.0s\n",
      "[CV 2/5] END .C=10000, max_iter=1000, tol=1e-13;, score=0.605 total time=   0.0s\n",
      "[CV 3/5] END .C=10000, max_iter=1000, tol=1e-13;, score=0.600 total time=   0.0s\n",
      "[CV 4/5] END .C=10000, max_iter=1000, tol=1e-13;, score=0.603 total time=   0.0s\n",
      "[CV 5/5] END .C=10000, max_iter=1000, tol=1e-13;, score=0.600 total time=   0.0s\n",
      "[CV 1/5] END .C=10000, max_iter=5000, tol=1e-07;, score=0.595 total time=   0.0s\n",
      "[CV 2/5] END .C=10000, max_iter=5000, tol=1e-07;, score=0.605 total time=   0.0s\n",
      "[CV 3/5] END .C=10000, max_iter=5000, tol=1e-07;, score=0.600 total time=   0.0s\n",
      "[CV 4/5] END .C=10000, max_iter=5000, tol=1e-07;, score=0.603 total time=   0.0s\n",
      "[CV 5/5] END .C=10000, max_iter=5000, tol=1e-07;, score=0.600 total time=   0.0s\n",
      "[CV 1/5] END .C=10000, max_iter=5000, tol=1e-08;, score=0.595 total time=   0.0s\n",
      "[CV 2/5] END .C=10000, max_iter=5000, tol=1e-08;, score=0.605 total time=   0.0s\n",
      "[CV 3/5] END .C=10000, max_iter=5000, tol=1e-08;, score=0.600 total time=   0.0s\n",
      "[CV 4/5] END .C=10000, max_iter=5000, tol=1e-08;, score=0.603 total time=   0.1s\n",
      "[CV 5/5] END .C=10000, max_iter=5000, tol=1e-08;, score=0.600 total time=   0.0s\n",
      "[CV 1/5] END .C=10000, max_iter=5000, tol=1e-09;, score=0.595 total time=   0.1s\n",
      "[CV 2/5] END .C=10000, max_iter=5000, tol=1e-09;, score=0.605 total time=   0.0s\n",
      "[CV 3/5] END .C=10000, max_iter=5000, tol=1e-09;, score=0.600 total time=   0.0s\n",
      "[CV 4/5] END .C=10000, max_iter=5000, tol=1e-09;, score=0.603 total time=   0.1s\n",
      "[CV 5/5] END .C=10000, max_iter=5000, tol=1e-09;, score=0.600 total time=   0.1s\n",
      "[CV 1/5] END .C=10000, max_iter=5000, tol=1e-13;, score=0.595 total time=   0.1s\n",
      "[CV 2/5] END .C=10000, max_iter=5000, tol=1e-13;, score=0.605 total time=   0.0s\n",
      "[CV 3/5] END .C=10000, max_iter=5000, tol=1e-13;, score=0.600 total time=   0.0s\n",
      "[CV 4/5] END .C=10000, max_iter=5000, tol=1e-13;, score=0.603 total time=   0.1s\n",
      "[CV 5/5] END .C=10000, max_iter=5000, tol=1e-13;, score=0.600 total time=   0.0s\n",
      "[CV 1/5] END C=10000, max_iter=10000, tol=1e-07;, score=0.595 total time=   0.0s\n",
      "[CV 2/5] END C=10000, max_iter=10000, tol=1e-07;, score=0.605 total time=   0.0s\n",
      "[CV 3/5] END C=10000, max_iter=10000, tol=1e-07;, score=0.600 total time=   0.1s\n",
      "[CV 4/5] END C=10000, max_iter=10000, tol=1e-07;, score=0.603 total time=   0.0s\n",
      "[CV 5/5] END C=10000, max_iter=10000, tol=1e-07;, score=0.600 total time=   0.0s\n",
      "[CV 1/5] END C=10000, max_iter=10000, tol=1e-08;, score=0.595 total time=   0.2s\n",
      "[CV 2/5] END C=10000, max_iter=10000, tol=1e-08;, score=0.605 total time=   0.5s\n",
      "[CV 3/5] END C=10000, max_iter=10000, tol=1e-08;, score=0.600 total time=   0.1s\n",
      "[CV 4/5] END C=10000, max_iter=10000, tol=1e-08;, score=0.603 total time=   0.0s\n",
      "[CV 5/5] END C=10000, max_iter=10000, tol=1e-08;, score=0.600 total time=   0.0s\n",
      "[CV 1/5] END C=10000, max_iter=10000, tol=1e-09;, score=0.595 total time=   0.0s\n",
      "[CV 2/5] END C=10000, max_iter=10000, tol=1e-09;, score=0.605 total time=   0.0s\n",
      "[CV 3/5] END C=10000, max_iter=10000, tol=1e-09;, score=0.600 total time=   0.0s\n",
      "[CV 4/5] END C=10000, max_iter=10000, tol=1e-09;, score=0.603 total time=   0.0s\n",
      "[CV 5/5] END C=10000, max_iter=10000, tol=1e-09;, score=0.600 total time=   0.0s\n",
      "[CV 1/5] END C=10000, max_iter=10000, tol=1e-13;, score=0.595 total time=   0.0s\n",
      "[CV 2/5] END C=10000, max_iter=10000, tol=1e-13;, score=0.605 total time=   0.0s\n",
      "[CV 3/5] END C=10000, max_iter=10000, tol=1e-13;, score=0.600 total time=   0.1s\n",
      "[CV 4/5] END C=10000, max_iter=10000, tol=1e-13;, score=0.603 total time=   0.1s\n",
      "[CV 5/5] END C=10000, max_iter=10000, tol=1e-13;, score=0.600 total time=   0.1s\n"
     ]
    },
    {
     "data": {
      "text/plain": [
       "GridSearchCV(estimator=LogisticRegression(),\n",
       "             param_grid={'C': [0.1, 1, 10, 100, 1000, 10000],\n",
       "                         'max_iter': [100, 500, 1000, 5000, 10000],\n",
       "                         'tol': [1e-07, 1e-08, 1e-09, 1e-13]},\n",
       "             verbose=3)"
      ]
     },
     "execution_count": 58,
     "metadata": {},
     "output_type": "execute_result"
    }
   ],
   "source": [
    "# defining parameter range\n",
    "param_grid = {'C': [0.1, 1, 10, 100, 1000, 10000],\n",
    "             'tol': [0.0000001,0.00000001,0.000000001, 0.0000000000001],\n",
    "             'max_iter':[100,500,1000,5000,10000]} \n",
    "\n",
    "grid_logit = GridSearchCV(LogisticRegression(), param_grid, refit = True, verbose = 3)\n",
    "  \n",
    "# fitting the model for grid search\n",
    "grid_logit.fit(X_train, y_train)"
   ]
  },
  {
   "cell_type": "code",
   "execution_count": 59,
   "metadata": {},
   "outputs": [
    {
     "data": {
      "text/plain": [
       "{'C': 10, 'max_iter': 100, 'tol': 1e-07}"
      ]
     },
     "execution_count": 59,
     "metadata": {},
     "output_type": "execute_result"
    }
   ],
   "source": [
    "grid_logit.best_params_"
   ]
  },
  {
   "cell_type": "markdown",
   "metadata": {},
   "source": [
    "### Ahora obtenemos el logit óptimo:"
   ]
  },
  {
   "cell_type": "code",
   "execution_count": 60,
   "metadata": {},
   "outputs": [
    {
     "name": "stdout",
     "output_type": "stream",
     "text": [
      "              precision    recall  f1-score   support\n",
      "\n",
      "           0       0.58      0.70      0.64     16266\n",
      "           1       0.63      0.50      0.55     16453\n",
      "\n",
      "    accuracy                           0.60     32719\n",
      "   macro avg       0.60      0.60      0.60     32719\n",
      "weighted avg       0.60      0.60      0.60     32719\n",
      "\n"
     ]
    }
   ],
   "source": [
    "logit = LogisticRegression(random_state=0, max_iter=100,tol=1e-07,C=10).fit(X_train, y_train)\n",
    "y_pred = logit.predict(X_test)\n",
    "print(classification_report(y_test, y_pred))"
   ]
  },
  {
   "cell_type": "code",
   "execution_count": 61,
   "metadata": {},
   "outputs": [
    {
     "data": {
      "image/png": "[encoded data removed]",
      "text/plain": [
       "<Figure size 432x288 with 2 Axes>"
      ]
     },
     "metadata": {
      "needs_background": "light"
     },
     "output_type": "display_data"
    }
   ],
   "source": [
    "disp = plot_confusion_matrix(logit, X_test, y_test,cmap='plasma')\n",
    "disp.figure_.suptitle(\"Confusion Matrix\", color=\"black\")\n",
    "plt.show()"
   ]
  },
  {
   "cell_type": "markdown",
   "metadata": {},
   "source": [
    "## Random Forest"
   ]
  },
  {
   "cell_type": "code",
   "execution_count": 21,
   "metadata": {},
   "outputs": [
    {
     "name": "stdout",
     "output_type": "stream",
     "text": [
      "              precision    recall  f1-score   support\n",
      "\n",
      "           0       0.59      0.62      0.60     16266\n",
      "           1       0.60      0.57      0.58     16453\n",
      "\n",
      "    accuracy                           0.59     32719\n",
      "   macro avg       0.59      0.59      0.59     32719\n",
      "weighted avg       0.59      0.59      0.59     32719\n",
      "\n"
     ]
    }
   ],
   "source": [
    "rf = RandomForestClassifier(\n",
    "            n_estimators = 10, #El número de arboles en el bosque\n",
    "            max_depth    = None,\n",
    "            max_features = 'auto',\n",
    "            oob_score    = False,\n",
    "            n_jobs       = -1,\n",
    "            random_state = 123\n",
    "         )\n",
    "rf.fit(X_train, y_train)\n",
    "y_pred = rf.predict(X_test)\n",
    "print(classification_report(y_test, y_pred))"
   ]
  },
  {
   "cell_type": "code",
   "execution_count": 57,
   "metadata": {},
   "outputs": [
    {
     "data": {
      "image/png": "[encoded data removed]",
      "text/plain": [
       "<Figure size 432x288 with 2 Axes>"
      ]
     },
     "metadata": {
      "needs_background": "light"
     },
     "output_type": "display_data"
    }
   ],
   "source": [
    "plot_confusion_matrix(rf, X_test, y_test)\n",
    "plt.title('Confusion Matrix')\n",
    "plt.show()"
   ]
  },
  {
   "cell_type": "code",
   "execution_count": 42,
   "metadata": {},
   "outputs": [],
   "source": [
    "?RandomForestClassifier\n"
   ]
  },
  {
   "cell_type": "code",
   "execution_count": 43,
   "metadata": {
    "collapsed": true
   },
   "outputs": [
    {
     "name": "stdout",
     "output_type": "stream",
     "text": [
      "Fitting 5 folds for each of 30 candidates, totalling 150 fits\n",
      "[CV 1/5] END .criterion=entropy, n_estimators=1;, score=0.592 total time=   0.3s\n",
      "[CV 2/5] END .criterion=entropy, n_estimators=1;, score=0.593 total time=   0.3s\n",
      "[CV 3/5] END .criterion=entropy, n_estimators=1;, score=0.586 total time=   0.3s\n",
      "[CV 4/5] END .criterion=entropy, n_estimators=1;, score=0.587 total time=   0.3s\n",
      "[CV 5/5] END .criterion=entropy, n_estimators=1;, score=0.587 total time=   0.4s\n",
      "[CV 1/5] END .criterion=entropy, n_estimators=2;, score=0.581 total time=   0.8s\n",
      "[CV 2/5] END .criterion=entropy, n_estimators=2;, score=0.586 total time=   0.9s\n",
      "[CV 3/5] END .criterion=entropy, n_estimators=2;, score=0.581 total time=   0.9s\n",
      "[CV 4/5] END .criterion=entropy, n_estimators=2;, score=0.584 total time=   0.8s\n",
      "[CV 5/5] END .criterion=entropy, n_estimators=2;, score=0.581 total time=   0.7s\n",
      "[CV 1/5] END .criterion=entropy, n_estimators=3;, score=0.592 total time=   1.3s\n",
      "[CV 2/5] END .criterion=entropy, n_estimators=3;, score=0.593 total time=   1.1s\n",
      "[CV 3/5] END .criterion=entropy, n_estimators=3;, score=0.590 total time=   1.2s\n",
      "[CV 4/5] END .criterion=entropy, n_estimators=3;, score=0.591 total time=   1.3s\n",
      "[CV 5/5] END .criterion=entropy, n_estimators=3;, score=0.589 total time=   1.3s\n",
      "[CV 1/5] END .criterion=entropy, n_estimators=4;, score=0.591 total time=   1.6s\n",
      "[CV 2/5] END .criterion=entropy, n_estimators=4;, score=0.587 total time=   1.9s\n",
      "[CV 3/5] END .criterion=entropy, n_estimators=4;, score=0.586 total time=   1.8s\n",
      "[CV 4/5] END .criterion=entropy, n_estimators=4;, score=0.588 total time=   1.7s\n",
      "[CV 5/5] END .criterion=entropy, n_estimators=4;, score=0.587 total time=   2.1s\n",
      "[CV 1/5] END .criterion=entropy, n_estimators=5;, score=0.591 total time=   3.1s\n",
      "[CV 2/5] END .criterion=entropy, n_estimators=5;, score=0.593 total time=   2.2s\n",
      "[CV 3/5] END .criterion=entropy, n_estimators=5;, score=0.596 total time=   2.6s\n",
      "[CV 4/5] END .criterion=entropy, n_estimators=5;, score=0.594 total time=   2.1s\n",
      "[CV 5/5] END .criterion=entropy, n_estimators=5;, score=0.594 total time=   1.9s\n",
      "[CV 1/5] END .criterion=entropy, n_estimators=6;, score=0.592 total time=   2.2s\n",
      "[CV 2/5] END .criterion=entropy, n_estimators=6;, score=0.589 total time=   3.5s\n",
      "[CV 3/5] END .criterion=entropy, n_estimators=6;, score=0.590 total time=   2.7s\n",
      "[CV 4/5] END .criterion=entropy, n_estimators=6;, score=0.586 total time=   2.2s\n",
      "[CV 5/5] END .criterion=entropy, n_estimators=6;, score=0.592 total time=   2.4s\n",
      "[CV 1/5] END .criterion=entropy, n_estimators=7;, score=0.596 total time=   2.8s\n",
      "[CV 2/5] END .criterion=entropy, n_estimators=7;, score=0.595 total time=   2.7s\n",
      "[CV 3/5] END .criterion=entropy, n_estimators=7;, score=0.591 total time=   2.6s\n",
      "[CV 4/5] END .criterion=entropy, n_estimators=7;, score=0.593 total time=   3.3s\n",
      "[CV 5/5] END .criterion=entropy, n_estimators=7;, score=0.593 total time=   3.2s\n",
      "[CV 1/5] END .criterion=entropy, n_estimators=8;, score=0.591 total time=   3.3s\n",
      "[CV 2/5] END .criterion=entropy, n_estimators=8;, score=0.592 total time=   4.1s\n",
      "[CV 3/5] END .criterion=entropy, n_estimators=8;, score=0.589 total time=   4.0s\n",
      "[CV 4/5] END .criterion=entropy, n_estimators=8;, score=0.590 total time=   3.8s\n",
      "[CV 5/5] END .criterion=entropy, n_estimators=8;, score=0.592 total time=   3.6s\n",
      "[CV 1/5] END .criterion=entropy, n_estimators=9;, score=0.592 total time=   3.4s\n",
      "[CV 2/5] END .criterion=entropy, n_estimators=9;, score=0.593 total time=   3.7s\n",
      "[CV 3/5] END .criterion=entropy, n_estimators=9;, score=0.593 total time=   3.6s\n",
      "[CV 4/5] END .criterion=entropy, n_estimators=9;, score=0.591 total time=   3.5s\n",
      "[CV 5/5] END .criterion=entropy, n_estimators=9;, score=0.594 total time=   3.8s\n",
      "[CV 1/5] END criterion=entropy, n_estimators=10;, score=0.595 total time=   4.1s\n",
      "[CV 2/5] END criterion=entropy, n_estimators=10;, score=0.592 total time=   4.1s\n",
      "[CV 3/5] END criterion=entropy, n_estimators=10;, score=0.592 total time=   4.1s\n",
      "[CV 4/5] END criterion=entropy, n_estimators=10;, score=0.589 total time=   3.9s\n",
      "[CV 5/5] END criterion=entropy, n_estimators=10;, score=0.594 total time=   4.1s\n",
      "[CV 1/5] END criterion=entropy, n_estimators=11;, score=0.593 total time=   4.2s\n",
      "[CV 2/5] END criterion=entropy, n_estimators=11;, score=0.594 total time=   4.4s\n",
      "[CV 3/5] END criterion=entropy, n_estimators=11;, score=0.595 total time=   5.0s\n",
      "[CV 4/5] END criterion=entropy, n_estimators=11;, score=0.592 total time=   4.5s\n",
      "[CV 5/5] END criterion=entropy, n_estimators=11;, score=0.591 total time=   4.3s\n",
      "[CV 1/5] END criterion=entropy, n_estimators=12;, score=0.594 total time=   5.8s\n",
      "[CV 2/5] END criterion=entropy, n_estimators=12;, score=0.593 total time=   5.7s\n",
      "[CV 3/5] END criterion=entropy, n_estimators=12;, score=0.591 total time=   5.1s\n",
      "[CV 4/5] END criterion=entropy, n_estimators=12;, score=0.591 total time=   6.7s\n",
      "[CV 5/5] END criterion=entropy, n_estimators=12;, score=0.594 total time=   4.4s\n",
      "[CV 1/5] END criterion=entropy, n_estimators=13;, score=0.596 total time=   4.8s\n",
      "[CV 2/5] END criterion=entropy, n_estimators=13;, score=0.593 total time=   5.2s\n",
      "[CV 3/5] END criterion=entropy, n_estimators=13;, score=0.592 total time=   5.0s\n",
      "[CV 4/5] END criterion=entropy, n_estimators=13;, score=0.592 total time=   4.9s\n",
      "[CV 5/5] END criterion=entropy, n_estimators=13;, score=0.593 total time=   5.1s\n",
      "[CV 1/5] END criterion=entropy, n_estimators=14;, score=0.595 total time=   5.3s\n",
      "[CV 2/5] END criterion=entropy, n_estimators=14;, score=0.593 total time=   5.5s\n",
      "[CV 3/5] END criterion=entropy, n_estimators=14;, score=0.591 total time=   5.2s\n",
      "[CV 4/5] END criterion=entropy, n_estimators=14;, score=0.591 total time=   8.5s\n",
      "[CV 5/5] END criterion=entropy, n_estimators=14;, score=0.594 total time=   6.1s\n",
      "[CV 1/5] END criterion=entropy, n_estimators=15;, score=0.596 total time=   6.3s\n",
      "[CV 2/5] END criterion=entropy, n_estimators=15;, score=0.594 total time=   6.8s\n",
      "[CV 3/5] END criterion=entropy, n_estimators=15;, score=0.593 total time=   6.1s\n",
      "[CV 4/5] END criterion=entropy, n_estimators=15;, score=0.593 total time=   5.8s\n",
      "[CV 5/5] END criterion=entropy, n_estimators=15;, score=0.596 total time=   5.9s\n",
      "[CV 1/5] END ....criterion=gini, n_estimators=1;, score=0.592 total time=   0.2s\n",
      "[CV 2/5] END ....criterion=gini, n_estimators=1;, score=0.588 total time=   0.1s\n",
      "[CV 3/5] END ....criterion=gini, n_estimators=1;, score=0.587 total time=   0.2s\n",
      "[CV 4/5] END ....criterion=gini, n_estimators=1;, score=0.585 total time=   0.2s\n",
      "[CV 5/5] END ....criterion=gini, n_estimators=1;, score=0.590 total time=   0.2s\n",
      "[CV 1/5] END ....criterion=gini, n_estimators=2;, score=0.584 total time=   0.5s\n",
      "[CV 2/5] END ....criterion=gini, n_estimators=2;, score=0.583 total time=   0.4s\n",
      "[CV 3/5] END ....criterion=gini, n_estimators=2;, score=0.583 total time=   0.4s\n",
      "[CV 4/5] END ....criterion=gini, n_estimators=2;, score=0.585 total time=   0.5s\n",
      "[CV 5/5] END ....criterion=gini, n_estimators=2;, score=0.583 total time=   0.4s\n",
      "[CV 1/5] END ....criterion=gini, n_estimators=3;, score=0.596 total time=   0.7s\n",
      "[CV 2/5] END ....criterion=gini, n_estimators=3;, score=0.593 total time=   0.8s\n",
      "[CV 3/5] END ....criterion=gini, n_estimators=3;, score=0.593 total time=   0.7s\n",
      "[CV 4/5] END ....criterion=gini, n_estimators=3;, score=0.594 total time=   0.7s\n",
      "[CV 5/5] END ....criterion=gini, n_estimators=3;, score=0.591 total time=   0.7s\n",
      "[CV 1/5] END ....criterion=gini, n_estimators=4;, score=0.591 total time=   1.6s\n",
      "[CV 2/5] END ....criterion=gini, n_estimators=4;, score=0.588 total time=   1.6s\n",
      "[CV 3/5] END ....criterion=gini, n_estimators=4;, score=0.589 total time=   1.1s\n",
      "[CV 4/5] END ....criterion=gini, n_estimators=4;, score=0.588 total time=   1.0s\n",
      "[CV 5/5] END ....criterion=gini, n_estimators=4;, score=0.591 total time=   0.9s\n",
      "[CV 1/5] END ....criterion=gini, n_estimators=5;, score=0.595 total time=   1.1s\n",
      "[CV 2/5] END ....criterion=gini, n_estimators=5;, score=0.594 total time=   1.1s\n",
      "[CV 3/5] END ....criterion=gini, n_estimators=5;, score=0.592 total time=   1.2s\n",
      "[CV 4/5] END ....criterion=gini, n_estimators=5;, score=0.593 total time=   1.2s\n",
      "[CV 5/5] END ....criterion=gini, n_estimators=5;, score=0.591 total time=   1.2s\n",
      "[CV 1/5] END ....criterion=gini, n_estimators=6;, score=0.591 total time=   1.4s\n"
     ]
    },
    {
     "name": "stdout",
     "output_type": "stream",
     "text": [
      "[CV 2/5] END ....criterion=gini, n_estimators=6;, score=0.591 total time=   1.5s\n",
      "[CV 3/5] END ....criterion=gini, n_estimators=6;, score=0.588 total time=   1.5s\n",
      "[CV 4/5] END ....criterion=gini, n_estimators=6;, score=0.590 total time=   1.4s\n",
      "[CV 5/5] END ....criterion=gini, n_estimators=6;, score=0.588 total time=   1.4s\n",
      "[CV 1/5] END ....criterion=gini, n_estimators=7;, score=0.592 total time=   1.7s\n",
      "[CV 2/5] END ....criterion=gini, n_estimators=7;, score=0.594 total time=   1.6s\n",
      "[CV 3/5] END ....criterion=gini, n_estimators=7;, score=0.593 total time=   1.6s\n",
      "[CV 4/5] END ....criterion=gini, n_estimators=7;, score=0.596 total time=   1.6s\n",
      "[CV 5/5] END ....criterion=gini, n_estimators=7;, score=0.595 total time=   1.6s\n",
      "[CV 1/5] END ....criterion=gini, n_estimators=8;, score=0.592 total time=   1.9s\n",
      "[CV 2/5] END ....criterion=gini, n_estimators=8;, score=0.591 total time=   2.1s\n",
      "[CV 3/5] END ....criterion=gini, n_estimators=8;, score=0.589 total time=   2.1s\n",
      "[CV 4/5] END ....criterion=gini, n_estimators=8;, score=0.589 total time=   3.0s\n",
      "[CV 5/5] END ....criterion=gini, n_estimators=8;, score=0.591 total time=   2.3s\n",
      "[CV 1/5] END ....criterion=gini, n_estimators=9;, score=0.595 total time=   2.6s\n",
      "[CV 2/5] END ....criterion=gini, n_estimators=9;, score=0.597 total time=   2.4s\n",
      "[CV 3/5] END ....criterion=gini, n_estimators=9;, score=0.593 total time=   3.0s\n",
      "[CV 4/5] END ....criterion=gini, n_estimators=9;, score=0.593 total time=   2.3s\n",
      "[CV 5/5] END ....criterion=gini, n_estimators=9;, score=0.594 total time=   2.1s\n",
      "[CV 1/5] END ...criterion=gini, n_estimators=10;, score=0.594 total time=   2.3s\n",
      "[CV 2/5] END ...criterion=gini, n_estimators=10;, score=0.593 total time=   2.6s\n",
      "[CV 3/5] END ...criterion=gini, n_estimators=10;, score=0.593 total time=   2.8s\n",
      "[CV 4/5] END ...criterion=gini, n_estimators=10;, score=0.593 total time=   4.8s\n",
      "[CV 5/5] END ...criterion=gini, n_estimators=10;, score=0.592 total time=   4.1s\n",
      "[CV 1/5] END ...criterion=gini, n_estimators=11;, score=0.596 total time=   4.5s\n",
      "[CV 2/5] END ...criterion=gini, n_estimators=11;, score=0.594 total time=   5.1s\n",
      "[CV 3/5] END ...criterion=gini, n_estimators=11;, score=0.595 total time=   4.1s\n",
      "[CV 4/5] END ...criterion=gini, n_estimators=11;, score=0.594 total time=   2.9s\n",
      "[CV 5/5] END ...criterion=gini, n_estimators=11;, score=0.594 total time=   3.2s\n",
      "[CV 1/5] END ...criterion=gini, n_estimators=12;, score=0.596 total time=   4.1s\n",
      "[CV 2/5] END ...criterion=gini, n_estimators=12;, score=0.593 total time=   4.4s\n",
      "[CV 3/5] END ...criterion=gini, n_estimators=12;, score=0.595 total time=   3.3s\n",
      "[CV 4/5] END ...criterion=gini, n_estimators=12;, score=0.590 total time=   3.9s\n",
      "[CV 5/5] END ...criterion=gini, n_estimators=12;, score=0.593 total time=   3.0s\n",
      "[CV 1/5] END ...criterion=gini, n_estimators=13;, score=0.596 total time=   3.5s\n",
      "[CV 2/5] END ...criterion=gini, n_estimators=13;, score=0.595 total time=   4.4s\n",
      "[CV 3/5] END ...criterion=gini, n_estimators=13;, score=0.594 total time=   3.2s\n",
      "[CV 4/5] END ...criterion=gini, n_estimators=13;, score=0.594 total time=   3.5s\n",
      "[CV 5/5] END ...criterion=gini, n_estimators=13;, score=0.594 total time=   3.9s\n",
      "[CV 1/5] END ...criterion=gini, n_estimators=14;, score=0.596 total time=   3.9s\n",
      "[CV 2/5] END ...criterion=gini, n_estimators=14;, score=0.593 total time=   3.6s\n",
      "[CV 3/5] END ...criterion=gini, n_estimators=14;, score=0.593 total time=   3.6s\n",
      "[CV 4/5] END ...criterion=gini, n_estimators=14;, score=0.592 total time=   3.4s\n",
      "[CV 5/5] END ...criterion=gini, n_estimators=14;, score=0.591 total time=   3.2s\n",
      "[CV 1/5] END ...criterion=gini, n_estimators=15;, score=0.597 total time=   3.6s\n",
      "[CV 2/5] END ...criterion=gini, n_estimators=15;, score=0.596 total time=   3.7s\n",
      "[CV 3/5] END ...criterion=gini, n_estimators=15;, score=0.594 total time=   3.6s\n",
      "[CV 4/5] END ...criterion=gini, n_estimators=15;, score=0.594 total time=   3.7s\n",
      "[CV 5/5] END ...criterion=gini, n_estimators=15;, score=0.593 total time=   4.2s\n"
     ]
    },
    {
     "data": {
      "text/plain": [
       "GridSearchCV(estimator=RandomForestClassifier(),\n",
       "             param_grid={'criterion': ['entropy', 'gini'],\n",
       "                         'n_estimators': range(1, 16)},\n",
       "             verbose=3)"
      ]
     },
     "execution_count": 43,
     "metadata": {},
     "output_type": "execute_result"
    }
   ],
   "source": [
    "# defining parameter range\n",
    "param_grid = {'n_estimators': range(1, 16),\n",
    "             'criterion': ['entropy','gini']} \n",
    "\n",
    "grid_rf = GridSearchCV(RandomForestClassifier(), param_grid, refit = True, verbose = 3)\n",
    "  \n",
    "# fitting the model for grid search\n",
    "grid_rf.fit(X_train, y_train)"
   ]
  },
  {
   "cell_type": "code",
   "execution_count": null,
   "metadata": {},
   "outputs": [],
   "source": [
    "grid_rf.best_params_"
   ]
  },
  {
   "cell_type": "code",
   "execution_count": 14,
   "metadata": {},
   "outputs": [
    {
     "data": {
      "text/plain": [
       "Text(0, 0.5, 'Testing Accuracy')"
      ]
     },
     "execution_count": 14,
     "metadata": {},
     "output_type": "execute_result"
    },
    {
     "data": {
      "image/png": "[encoded data removed]",
      "text/plain": [
       "<Figure size 432x288 with 1 Axes>"
      ]
     },
     "metadata": {
      "needs_background": "light"
     },
     "output_type": "display_data"
    }
   ],
   "source": [
    "from sklearn.metrics import accuracy_score\n",
    "\n",
    "\n",
    "scores =[]\n",
    "for k in range(1, 30):\n",
    "    rfc = RandomForestClassifier(n_estimators=k)\n",
    "    rfc.fit(X_train, y_train)\n",
    "    y_pred = rfc.predict(X_test)\n",
    "    scores.append(accuracy_score(y_test, y_pred))\n",
    "\n",
    "import matplotlib.pyplot as plt\n",
    "%matplotlib inline\n",
    "\n",
    "# plot the relationship between K and testing accuracy\n",
    "# plt.plot(x_axis, y_axis)\n",
    "plt.plot(range(1, 30), scores)\n",
    "plt.xlabel('Value of n_estimators for Random Forest Classifier')\n",
    "plt.ylabel('Testing Accuracy')\n"
   ]
  },
  {
   "cell_type": "markdown",
   "metadata": {},
   "source": [
    "### Ahora obtenemos el árbol óptimo:"
   ]
  },
  {
   "cell_type": "code",
   "execution_count": 33,
   "metadata": {},
   "outputs": [
    {
     "name": "stdout",
     "output_type": "stream",
     "text": [
      "              precision    recall  f1-score   support\n",
      "\n",
      "           0       0.59      0.60      0.59     16266\n",
      "           1       0.60      0.59      0.60     16453\n",
      "\n",
      "    accuracy                           0.59     32719\n",
      "   macro avg       0.59      0.59      0.59     32719\n",
      "weighted avg       0.59      0.59      0.59     32719\n",
      "\n"
     ]
    }
   ],
   "source": [
    "rf = RandomForestClassifier(\n",
    "            n_estimators = 7,\n",
    "            max_depth    = None,\n",
    "            max_features = 'auto',\n",
    "            oob_score    = False,\n",
    "            n_jobs       = -1,\n",
    "            random_state = 123,\n",
    "            criterion ='gini'\n",
    "         )\n",
    "rf.fit(X_train, y_train)\n",
    "y_pred = rf.predict(X_test)\n",
    "print(classification_report(y_test, y_pred))"
   ]
  },
  {
   "cell_type": "code",
   "execution_count": 22,
   "metadata": {},
   "outputs": [
    {
     "data": {
      "image/png": "[encoded data removed]",
      "text/plain": [
       "<Figure size 432x288 with 2 Axes>"
      ]
     },
     "metadata": {
      "needs_background": "light"
     },
     "output_type": "display_data"
    }
   ],
   "source": [
    "plot_confusion_matrix(rf, X_test, y_test)\n",
    "plt.title('Confusion Matrix')\n",
    "plt.show()"
   ]
  }
 ],
 "metadata": {
  "kernelspec": {
   "display_name": "Python 3",
   "language": "python",
   "name": "python3"
  },
  "language_info": {
   "codemirror_mode": {
    "name": "ipython",
    "version": 3
   },
   "file_extension": ".py",
   "mimetype": "text/x-python",
   "name": "python",
   "nbconvert_exporter": "python",
   "pygments_lexer": "ipython3",
   "version": "3.8.5"
  }
 },
 "nbformat": 4,
 "nbformat_minor": 4
}
